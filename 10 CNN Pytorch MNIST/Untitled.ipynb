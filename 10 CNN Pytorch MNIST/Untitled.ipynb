{
 "cells": [
  {
   "cell_type": "markdown",
   "id": "b58becee-8d72-4a11-ab02-79be5180a64e",
   "metadata": {},
   "source": [
    "https://colab.research.google.com/github/rpi-techfundamentals/fall2018-materials/blob/master/10-deep-learning/04-pytorch-mnist.ipynb#scrollTo=YSO9DUG-HKIA"
   ]
  },
  {
   "cell_type": "code",
   "execution_count": 1,
   "id": "adb88d31-edf0-4596-b867-96b68fdce797",
   "metadata": {},
   "outputs": [],
   "source": [
    "#Import Libraries\n",
    "\n",
    "\n",
    "from __future__ import print_function\n",
    "import argparse\n",
    "import torch\n",
    "import torch.nn as nn\n",
    "import torch.nn.functional as F\n",
    "import torch.optim as optim\n",
    "from torchvision import datasets, transforms\n",
    "from torch.autograd import Variable"
   ]
  },
  {
   "cell_type": "code",
   "execution_count": 2,
   "id": "b0948eb5-21d0-4a37-9401-03b66ac9d597",
   "metadata": {},
   "outputs": [],
   "source": [
    "args={}\n",
    "kwargs={}\n",
    "args['batch_size']=1000\n",
    "args['test_batch_size']=1000\n",
    "args['epochs']=10  #The number of Epochs is the number of times you go through the full dataset. \n",
    "args['lr']=0.01 #Learning rate is how fast it will decend. \n",
    "args['momentum']=0.5 #SGD momentum (default: 0.5) Momentum is a moving average of our gradients (helps to keep direction).\n",
    "\n",
    "args['seed']=1 #random seed\n",
    "args['log_interval']=10\n",
    "args['cuda']=False"
   ]
  },
  {
   "cell_type": "code",
   "execution_count": 3,
   "id": "07b034d1-4156-4164-b276-08ec1ad8e11d",
   "metadata": {},
   "outputs": [
    {
     "name": "stdout",
     "output_type": "stream",
     "text": [
      "Downloading http://yann.lecun.com/exdb/mnist/train-images-idx3-ubyte.gz\n"
     ]
    },
    {
     "name": "stderr",
     "output_type": "stream",
     "text": [
      "1.5%"
     ]
    },
    {
     "name": "stdout",
     "output_type": "stream",
     "text": [
      "Downloading http://yann.lecun.com/exdb/mnist/train-images-idx3-ubyte.gz to ../data\\MNIST\\raw\\train-images-idx3-ubyte.gz\n"
     ]
    },
    {
     "name": "stderr",
     "output_type": "stream",
     "text": [
      "100.0%\n"
     ]
    },
    {
     "name": "stdout",
     "output_type": "stream",
     "text": [
      "Extracting ../data\\MNIST\\raw\\train-images-idx3-ubyte.gz to ../data\\MNIST\\raw\n",
      "\n",
      "Downloading http://yann.lecun.com/exdb/mnist/train-labels-idx1-ubyte.gz\n"
     ]
    },
    {
     "name": "stderr",
     "output_type": "stream",
     "text": [
      "102.8%"
     ]
    },
    {
     "name": "stdout",
     "output_type": "stream",
     "text": [
      "Downloading http://yann.lecun.com/exdb/mnist/train-labels-idx1-ubyte.gz to ../data\\MNIST\\raw\\train-labels-idx1-ubyte.gz\n",
      "Extracting ../data\\MNIST\\raw\\train-labels-idx1-ubyte.gz to ../data\\MNIST\\raw\n",
      "\n",
      "Downloading http://yann.lecun.com/exdb/mnist/t10k-images-idx3-ubyte.gz\n"
     ]
    },
    {
     "name": "stderr",
     "output_type": "stream",
     "text": [
      "\n",
      "8.3%"
     ]
    },
    {
     "name": "stdout",
     "output_type": "stream",
     "text": [
      "Downloading http://yann.lecun.com/exdb/mnist/t10k-images-idx3-ubyte.gz to ../data\\MNIST\\raw\\t10k-images-idx3-ubyte.gz\n"
     ]
    },
    {
     "name": "stderr",
     "output_type": "stream",
     "text": [
      "100.0%\n"
     ]
    },
    {
     "name": "stdout",
     "output_type": "stream",
     "text": [
      "Extracting ../data\\MNIST\\raw\\t10k-images-idx3-ubyte.gz to ../data\\MNIST\\raw\n",
      "\n",
      "Downloading http://yann.lecun.com/exdb/mnist/t10k-labels-idx1-ubyte.gz\n"
     ]
    },
    {
     "name": "stderr",
     "output_type": "stream",
     "text": [
      "112.7%"
     ]
    },
    {
     "name": "stdout",
     "output_type": "stream",
     "text": [
      "Downloading http://yann.lecun.com/exdb/mnist/t10k-labels-idx1-ubyte.gz to ../data\\MNIST\\raw\\t10k-labels-idx1-ubyte.gz\n",
      "Extracting ../data\\MNIST\\raw\\t10k-labels-idx1-ubyte.gz to ../data\\MNIST\\raw\n",
      "\n"
     ]
    },
    {
     "name": "stderr",
     "output_type": "stream",
     "text": [
      "\n"
     ]
    }
   ],
   "source": [
    "#load the data\n",
    "train_loader = torch.utils.data.DataLoader(\n",
    "    datasets.MNIST('../data', train=True, download=True,\n",
    "                   transform=transforms.Compose([\n",
    "                       transforms.ToTensor(),\n",
    "                       transforms.Normalize((0.1307,), (0.3081,))\n",
    "                   ])),\n",
    "    batch_size=args['batch_size'], shuffle=True, **kwargs)\n",
    "test_loader = torch.utils.data.DataLoader(\n",
    "    datasets.MNIST('../data', train=False, transform=transforms.Compose([\n",
    "                       transforms.ToTensor(),\n",
    "                       transforms.Normalize((0.1307,), (0.3081,))\n",
    "                   ])),\n",
    "    batch_size=args['test_batch_size'], shuffle=True, **kwargs)\n"
   ]
  },
  {
   "cell_type": "code",
   "execution_count": 4,
   "id": "9db9808e-7402-4d68-a253-270ba0585e41",
   "metadata": {},
   "outputs": [],
   "source": [
    "\n",
    "\n",
    "class Net(nn.Module):\n",
    "    #This defines the structure of the NN.\n",
    "    def __init__(self):\n",
    "        super(Net, self).__init__()\n",
    "        self.conv1 = nn.Conv2d(1, 10, kernel_size=5)\n",
    "        self.conv2 = nn.Conv2d(10, 20, kernel_size=5)\n",
    "        self.conv2_drop = nn.Dropout2d()  #Dropout\n",
    "        self.fc1 = nn.Linear(320, 50)\n",
    "        self.fc2 = nn.Linear(50, 10)\n",
    "\n",
    "    def forward(self, x):\n",
    "        #Convolutional Layer/Pooling Layer/Activation\n",
    "        x = F.relu(F.max_pool2d(self.conv1(x), 2)) \n",
    "        #Convolutional Layer/Dropout/Pooling Layer/Activation\n",
    "        x = F.relu(F.max_pool2d(self.conv2_drop(self.conv2(x)), 2))\n",
    "        x = x.view(-1, 320)\n",
    "        #Fully Connected Layer/Activation\n",
    "        x = F.relu(self.fc1(x))\n",
    "        x = F.dropout(x, training=self.training)\n",
    "        #Fully Connected Layer/Activation\n",
    "        x = self.fc2(x)\n",
    "        #Softmax gets probabilities. \n",
    "        return F.log_softmax(x, dim=1)\n"
   ]
  },
  {
   "cell_type": "code",
   "execution_count": 15,
   "id": "8a05c9b8-9f3e-4233-ad9a-156afa3c59f9",
   "metadata": {},
   "outputs": [],
   "source": [
    "\n",
    "def train(epoch):\n",
    "    model.train()\n",
    "    for batch_idx, (data, target) in enumerate(train_loader):\n",
    "        if args['cuda']:\n",
    "            data, target = data.cuda(), target.cuda()\n",
    "        #Variables in Pytorch are differenciable. \n",
    "        data, target = Variable(data), Variable(target)\n",
    "        #This will zero out the gradients for this batch. \n",
    "        optimizer.zero_grad()\n",
    "        output = model(data)\n",
    "        # Calculate the loss The negative log likelihood loss. It is useful to train a classification problem with C classes.\n",
    "        loss = F.nll_loss(output, target)\n",
    "        #dloss/dx for every Variable \n",
    "        loss.backward()\n",
    "        #to do a one-step update on our parameter.\n",
    "        optimizer.step()\n",
    "        #Print out the loss periodically. \n",
    "        if batch_idx % args['log_interval'] == 0:\n",
    "            print('Train Epoch: {} [{}/{} ({:.0f}%)]\\tLoss: {:.6f}'.format(\n",
    "                epoch, batch_idx * len(data), len(train_loader.dataset),\n",
    "                100. * batch_idx / len(train_loader), loss.item()))\n",
    "\n",
    "def test():\n",
    "    model.eval()\n",
    "    test_loss = 0\n",
    "    correct = 0\n",
    "    for data, target in test_loader:\n",
    "        if args['cuda']:\n",
    "            data, target = data.cuda(), target.cuda()\n",
    "        data, target = Variable(data, volatile=True), Variable(target)\n",
    "        output = model(data)\n",
    "        test_loss += F.nll_loss(output, target, size_average=False).item() # sum up batch loss\n",
    "        pred = output.data.max(1, keepdim=True)[1] # get the index of the max log-probability\n",
    "        correct += pred.eq(target.data.view_as(pred)).long().cpu().sum()\n",
    "\n",
    "    test_loss /= len(test_loader.dataset)\n",
    "    print('\\nTest set: Average loss: {:.4f}, Accuracy: {}/{} ({:.0f}%)\\n'.format(\n",
    "        test_loss, correct, len(test_loader.dataset),\n",
    "        100. * correct / len(test_loader.dataset)))\n",
    "\n",
    "\n"
   ]
  },
  {
   "cell_type": "code",
   "execution_count": 16,
   "id": "fd5d120a-066f-4c35-b627-f005cd93c2ea",
   "metadata": {},
   "outputs": [
    {
     "name": "stdout",
     "output_type": "stream",
     "text": [
      "Train Epoch: 1 [0/60000 (0%)]\tLoss: 2.331541\n",
      "Train Epoch: 1 [10000/60000 (17%)]\tLoss: 2.305779\n",
      "Train Epoch: 1 [20000/60000 (33%)]\tLoss: 2.283296\n",
      "Train Epoch: 1 [30000/60000 (50%)]\tLoss: 2.263201\n",
      "Train Epoch: 1 [40000/60000 (67%)]\tLoss: 2.239958\n",
      "Train Epoch: 1 [50000/60000 (83%)]\tLoss: 2.221130\n"
     ]
    },
    {
     "name": "stderr",
     "output_type": "stream",
     "text": [
      "C:\\Users\\Admin\\AppData\\Local\\Temp\\ipykernel_8780\\416090845.py:30: UserWarning: volatile was removed and now has no effect. Use `with torch.no_grad():` instead.\n",
      "  data, target = Variable(data, volatile=True), Variable(target)\n"
     ]
    },
    {
     "name": "stdout",
     "output_type": "stream",
     "text": [
      "\n",
      "Test set: Average loss: 2.1569, Accuracy: 4612/10000 (46%)\n",
      "\n",
      "Train Epoch: 2 [0/60000 (0%)]\tLoss: 2.198606\n",
      "Train Epoch: 2 [10000/60000 (17%)]\tLoss: 2.146558\n",
      "Train Epoch: 2 [20000/60000 (33%)]\tLoss: 2.104656\n",
      "Train Epoch: 2 [30000/60000 (50%)]\tLoss: 2.047490\n",
      "Train Epoch: 2 [40000/60000 (67%)]\tLoss: 1.944660\n",
      "Train Epoch: 2 [50000/60000 (83%)]\tLoss: 1.873721\n",
      "\n",
      "Test set: Average loss: 1.5443, Accuracy: 7470/10000 (75%)\n",
      "\n",
      "Train Epoch: 3 [0/60000 (0%)]\tLoss: 1.719723\n",
      "Train Epoch: 3 [10000/60000 (17%)]\tLoss: 1.624020\n",
      "Train Epoch: 3 [20000/60000 (33%)]\tLoss: 1.557102\n",
      "Train Epoch: 3 [30000/60000 (50%)]\tLoss: 1.472157\n",
      "Train Epoch: 3 [40000/60000 (67%)]\tLoss: 1.355916\n",
      "Train Epoch: 3 [50000/60000 (83%)]\tLoss: 1.285769\n",
      "\n",
      "Test set: Average loss: 0.8131, Accuracy: 8412/10000 (84%)\n",
      "\n",
      "Train Epoch: 4 [0/60000 (0%)]\tLoss: 1.190408\n",
      "Train Epoch: 4 [10000/60000 (17%)]\tLoss: 1.149195\n",
      "Train Epoch: 4 [20000/60000 (33%)]\tLoss: 1.068532\n",
      "Train Epoch: 4 [30000/60000 (50%)]\tLoss: 1.065087\n",
      "Train Epoch: 4 [40000/60000 (67%)]\tLoss: 1.024841\n",
      "Train Epoch: 4 [50000/60000 (83%)]\tLoss: 0.949237\n",
      "\n",
      "Test set: Average loss: 0.5329, Accuracy: 8802/10000 (88%)\n",
      "\n",
      "Train Epoch: 5 [0/60000 (0%)]\tLoss: 0.976610\n",
      "Train Epoch: 5 [10000/60000 (17%)]\tLoss: 0.852015\n",
      "Train Epoch: 5 [20000/60000 (33%)]\tLoss: 0.851998\n",
      "Train Epoch: 5 [30000/60000 (50%)]\tLoss: 0.789095\n",
      "Train Epoch: 5 [40000/60000 (67%)]\tLoss: 0.853829\n",
      "Train Epoch: 5 [50000/60000 (83%)]\tLoss: 0.799472\n",
      "\n",
      "Test set: Average loss: 0.4086, Accuracy: 8997/10000 (90%)\n",
      "\n",
      "Train Epoch: 6 [0/60000 (0%)]\tLoss: 0.773288\n",
      "Train Epoch: 6 [10000/60000 (17%)]\tLoss: 0.740980\n",
      "Train Epoch: 6 [20000/60000 (33%)]\tLoss: 0.808165\n",
      "Train Epoch: 6 [30000/60000 (50%)]\tLoss: 0.746131\n",
      "Train Epoch: 6 [40000/60000 (67%)]\tLoss: 0.761718\n",
      "Train Epoch: 6 [50000/60000 (83%)]\tLoss: 0.662079\n",
      "\n",
      "Test set: Average loss: 0.3399, Accuracy: 9121/10000 (91%)\n",
      "\n",
      "Train Epoch: 7 [0/60000 (0%)]\tLoss: 0.680631\n",
      "Train Epoch: 7 [10000/60000 (17%)]\tLoss: 0.724760\n",
      "Train Epoch: 7 [20000/60000 (33%)]\tLoss: 0.649278\n",
      "Train Epoch: 7 [30000/60000 (50%)]\tLoss: 0.673632\n",
      "Train Epoch: 7 [40000/60000 (67%)]\tLoss: 0.621678\n",
      "Train Epoch: 7 [50000/60000 (83%)]\tLoss: 0.602766\n",
      "\n",
      "Test set: Average loss: 0.2901, Accuracy: 9223/10000 (92%)\n",
      "\n",
      "Train Epoch: 8 [0/60000 (0%)]\tLoss: 0.661458\n",
      "Train Epoch: 8 [10000/60000 (17%)]\tLoss: 0.562206\n",
      "Train Epoch: 8 [20000/60000 (33%)]\tLoss: 0.617457\n",
      "Train Epoch: 8 [30000/60000 (50%)]\tLoss: 0.608051\n",
      "Train Epoch: 8 [40000/60000 (67%)]\tLoss: 0.616207\n",
      "Train Epoch: 8 [50000/60000 (83%)]\tLoss: 0.604495\n",
      "\n",
      "Test set: Average loss: 0.2672, Accuracy: 9284/10000 (93%)\n",
      "\n",
      "Train Epoch: 9 [0/60000 (0%)]\tLoss: 0.618437\n",
      "Train Epoch: 9 [10000/60000 (17%)]\tLoss: 0.614640\n",
      "Train Epoch: 9 [20000/60000 (33%)]\tLoss: 0.532716\n",
      "Train Epoch: 9 [30000/60000 (50%)]\tLoss: 0.584009\n",
      "Train Epoch: 9 [40000/60000 (67%)]\tLoss: 0.522725\n",
      "Train Epoch: 9 [50000/60000 (83%)]\tLoss: 0.546342\n",
      "\n",
      "Test set: Average loss: 0.2459, Accuracy: 9325/10000 (93%)\n",
      "\n",
      "Train Epoch: 10 [0/60000 (0%)]\tLoss: 0.563723\n",
      "Train Epoch: 10 [10000/60000 (17%)]\tLoss: 0.514718\n",
      "Train Epoch: 10 [20000/60000 (33%)]\tLoss: 0.523105\n",
      "Train Epoch: 10 [30000/60000 (50%)]\tLoss: 0.536298\n",
      "Train Epoch: 10 [40000/60000 (67%)]\tLoss: 0.555277\n",
      "Train Epoch: 10 [50000/60000 (83%)]\tLoss: 0.567738\n",
      "\n",
      "Test set: Average loss: 0.2257, Accuracy: 9376/10000 (94%)\n",
      "\n"
     ]
    }
   ],
   "source": [
    "model = Net()\n",
    "if args['cuda']:\n",
    "    model.cuda()\n",
    "\n",
    "optimizer = optim.SGD(model.parameters(), lr=args['lr'], momentum=args['momentum'])\n",
    "\n",
    "for epoch in range(1, args['epochs'] + 1):\n",
    "    train(epoch)\n",
    "    test()\n"
   ]
  },
  {
   "cell_type": "code",
   "execution_count": null,
   "id": "2f20716c-b57c-4cfa-a010-347984e2c2c2",
   "metadata": {},
   "outputs": [],
   "source": []
  }
 ],
 "metadata": {
  "kernelspec": {
   "display_name": "Python 3 (ipykernel)",
   "language": "python",
   "name": "python3"
  },
  "language_info": {
   "codemirror_mode": {
    "name": "ipython",
    "version": 3
   },
   "file_extension": ".py",
   "mimetype": "text/x-python",
   "name": "python",
   "nbconvert_exporter": "python",
   "pygments_lexer": "ipython3",
   "version": "3.8.12"
  }
 },
 "nbformat": 4,
 "nbformat_minor": 5
}
