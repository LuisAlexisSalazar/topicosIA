{
 "cells": [
  {
   "cell_type": "code",
   "execution_count": 1,
   "metadata": {
    "id": "K9RygMlC79fk"
   },
   "outputs": [],
   "source": [
    "import torch"
   ]
  },
  {
   "cell_type": "code",
   "execution_count": 2,
   "metadata": {
    "colab": {
     "base_uri": "https://localhost:8080/"
    },
    "id": "n2N1Ng0fj2pV",
    "outputId": "72e54ae3-0ac4-4102-8f37-b5d341384504"
   },
   "outputs": [
    {
     "data": {
      "text/plain": [
       "device(type='cuda')"
      ]
     },
     "execution_count": 2,
     "metadata": {},
     "output_type": "execute_result"
    }
   ],
   "source": [
    "# Configuración del dispotivo cuda\n",
    "device = torch.device('cuda' if torch.cuda.is_available() else 'cpu')\n",
    "device"
   ]
  },
  {
   "cell_type": "code",
   "execution_count": 3,
   "metadata": {
    "id": "HDb8LcjybFCK"
   },
   "outputs": [],
   "source": [
    "# Dejar por defecto los tensores a la GPU\n",
    "torch.cuda.set_device(0) "
   ]
  },
  {
   "cell_type": "markdown",
   "metadata": {
    "id": "BARIBsrXkWdU"
   },
   "source": [
    "# Descargando dataset de MNIST"
   ]
  },
  {
   "cell_type": "code",
   "execution_count": 4,
   "metadata": {
    "colab": {
     "base_uri": "https://localhost:8080/",
     "height": 423,
     "referenced_widgets": [
      "0cd147d2610b4cc38f635c6e1dd55571",
      "1bc26f531a494704869add221455bae1",
      "c4d33d8eb2f246eea9314d8ee530e0dd",
      "72413b12c2454dcd87ee8ecd82924b11",
      "abff364b92c148dcbde860d888e1b917",
      "47f0b45118834f26946af58bb56bd80f",
      "4edc582c31e04ceda9c306c3d879eb73",
      "100aabb808784d1ab986499b0c8dc192",
      "2353cf58277a4dc58ceffa7b6edc3ea7",
      "8f0bad4244a24b0d8056b5a47df87677",
      "662d9fc126624a60aa8084be9048ad86",
      "67ac9d21d52e468983aa69c58a04ba1b",
      "cfd7c67716e5410990c26a1da61a5aba",
      "207a4c367df240cdb36a9db8ad80d43a",
      "b2939313a0124c55acb182c4f015fe7c",
      "762c8d986e02469a8da28df2240a5b09",
      "fea8f6330b694f04a8bb891575df8346",
      "cd105d3b594e48acbd0845781ec20a2d",
      "9df294ff354647f5842ab02d8fa9d93f",
      "4ebc8c58fe6e497db7ade1fd2966ca3f",
      "b7b9f76dd8dd4071912fa4c5b565aebd",
      "3dfb21f94fe84d42ae5c66df9aed07aa",
      "cb207955e8fe4da8a9e25a0c91f6ed68",
      "7c64e14307ae41b5a408109798b5c8ce",
      "bafb26f7e0d44920aa0885de4aa05597",
      "f7ea7e1522a844598c11f1f4e9f2acaf",
      "1aa106dfa60f422dae2382dde6c478ca",
      "b5b3281948dc4eeb932fae89fb3a76d1",
      "efbcb5a5acf64fc4976ce030bb8fc23a",
      "596d22f45c4e45f5a05dea2e80f4edc2",
      "dfd85042370942678709d16408e444ac",
      "51dc312f92244353b0d1f57f941bd370",
      "702c8becead445ac83d717a73929972f",
      "72b18b83944a4924804e5ed8a28b0e20",
      "419af66970b94047b2f0added02b707b",
      "5cf92e0f11344643a74e9a9179839af9",
      "d6c8ce5bdaf24fd18deaf10dec68be7b",
      "3086a278a68f49c9a65926930c21f92d",
      "604adea7f0ae4ff9838b85404f3db8c3",
      "18625803f6ad4fc2b030f057c5c577b4",
      "66b53b02b19f4193a3a2111051e02aed",
      "71ecb17988d0435fa6c3e83026808ac1",
      "1a45ba1cb45647b6a87e5fea6fcc05f4",
      "074fda987b084b1aa8eacb9b480ea864"
     ]
    },
    "id": "Y_1Y_gS8kU0k",
    "outputId": "5b38cb1c-9bfc-41a1-fe7f-c1b0e73779c6"
   },
   "outputs": [
    {
     "name": "stdout",
     "output_type": "stream",
     "text": [
      "Downloading http://yann.lecun.com/exdb/mnist/train-images-idx3-ubyte.gz\n",
      "Downloading http://yann.lecun.com/exdb/mnist/train-images-idx3-ubyte.gz to data/MNIST/raw/train-images-idx3-ubyte.gz\n"
     ]
    },
    {
     "data": {
      "application/vnd.jupyter.widget-view+json": {
       "model_id": "0cd147d2610b4cc38f635c6e1dd55571",
       "version_major": 2,
       "version_minor": 0
      },
      "text/plain": [
       "  0%|          | 0/9912422 [00:00<?, ?it/s]"
      ]
     },
     "metadata": {},
     "output_type": "display_data"
    },
    {
     "name": "stdout",
     "output_type": "stream",
     "text": [
      "Extracting data/MNIST/raw/train-images-idx3-ubyte.gz to data/MNIST/raw\n",
      "\n",
      "Downloading http://yann.lecun.com/exdb/mnist/train-labels-idx1-ubyte.gz\n",
      "Downloading http://yann.lecun.com/exdb/mnist/train-labels-idx1-ubyte.gz to data/MNIST/raw/train-labels-idx1-ubyte.gz\n"
     ]
    },
    {
     "data": {
      "application/vnd.jupyter.widget-view+json": {
       "model_id": "67ac9d21d52e468983aa69c58a04ba1b",
       "version_major": 2,
       "version_minor": 0
      },
      "text/plain": [
       "  0%|          | 0/28881 [00:00<?, ?it/s]"
      ]
     },
     "metadata": {},
     "output_type": "display_data"
    },
    {
     "name": "stdout",
     "output_type": "stream",
     "text": [
      "Extracting data/MNIST/raw/train-labels-idx1-ubyte.gz to data/MNIST/raw\n",
      "\n",
      "Downloading http://yann.lecun.com/exdb/mnist/t10k-images-idx3-ubyte.gz\n",
      "Downloading http://yann.lecun.com/exdb/mnist/t10k-images-idx3-ubyte.gz to data/MNIST/raw/t10k-images-idx3-ubyte.gz\n"
     ]
    },
    {
     "data": {
      "application/vnd.jupyter.widget-view+json": {
       "model_id": "cb207955e8fe4da8a9e25a0c91f6ed68",
       "version_major": 2,
       "version_minor": 0
      },
      "text/plain": [
       "  0%|          | 0/1648877 [00:00<?, ?it/s]"
      ]
     },
     "metadata": {},
     "output_type": "display_data"
    },
    {
     "name": "stdout",
     "output_type": "stream",
     "text": [
      "Extracting data/MNIST/raw/t10k-images-idx3-ubyte.gz to data/MNIST/raw\n",
      "\n",
      "Downloading http://yann.lecun.com/exdb/mnist/t10k-labels-idx1-ubyte.gz\n",
      "Downloading http://yann.lecun.com/exdb/mnist/t10k-labels-idx1-ubyte.gz to data/MNIST/raw/t10k-labels-idx1-ubyte.gz\n"
     ]
    },
    {
     "data": {
      "application/vnd.jupyter.widget-view+json": {
       "model_id": "72b18b83944a4924804e5ed8a28b0e20",
       "version_major": 2,
       "version_minor": 0
      },
      "text/plain": [
       "  0%|          | 0/4542 [00:00<?, ?it/s]"
      ]
     },
     "metadata": {},
     "output_type": "display_data"
    },
    {
     "name": "stdout",
     "output_type": "stream",
     "text": [
      "Extracting data/MNIST/raw/t10k-labels-idx1-ubyte.gz to data/MNIST/raw\n",
      "\n"
     ]
    }
   ],
   "source": [
    "from torchvision import datasets\n",
    "from torchvision.transforms import ToTensor\n",
    "train_data = datasets.MNIST(\n",
    "    root = 'data',\n",
    "    train = True,                         \n",
    "    transform = ToTensor(), \n",
    "    download = True,            \n",
    ")\n",
    "test_data = datasets.MNIST(\n",
    "    root = 'data', \n",
    "    train = False, \n",
    "    transform = ToTensor()\n",
    ")"
   ]
  },
  {
   "cell_type": "code",
   "execution_count": 5,
   "metadata": {
    "colab": {
     "base_uri": "https://localhost:8080/"
    },
    "id": "qraUTVoikgh1",
    "outputId": "2a4d0272-328b-4bdb-f99f-15af80cfc772"
   },
   "outputs": [
    {
     "name": "stdout",
     "output_type": "stream",
     "text": [
      "Dataset MNIST\n",
      "    Number of datapoints: 60000\n",
      "    Root location: data\n",
      "    Split: Train\n",
      "    StandardTransform\n",
      "Transform: ToTensor()\n"
     ]
    }
   ],
   "source": [
    "print(train_data)"
   ]
  },
  {
   "cell_type": "code",
   "execution_count": 6,
   "metadata": {
    "colab": {
     "base_uri": "https://localhost:8080/"
    },
    "id": "LFZ3F7jok54q",
    "outputId": "2a752f93-6fdb-4a1f-df75-8f4c5f6b279e"
   },
   "outputs": [
    {
     "name": "stdout",
     "output_type": "stream",
     "text": [
      "Dataset MNIST\n",
      "    Number of datapoints: 10000\n",
      "    Root location: data\n",
      "    Split: Test\n",
      "    StandardTransform\n",
      "Transform: ToTensor()\n"
     ]
    }
   ],
   "source": [
    "print(test_data)"
   ]
  },
  {
   "cell_type": "code",
   "execution_count": 7,
   "metadata": {
    "colab": {
     "base_uri": "https://localhost:8080/"
    },
    "id": "zoFmRg0xk73j",
    "outputId": "226d9250-2e89-4c52-fd36-a7bb9ba5fc5d"
   },
   "outputs": [
    {
     "name": "stdout",
     "output_type": "stream",
     "text": [
      "torch.Size([60000, 28, 28])\n"
     ]
    }
   ],
   "source": [
    "print(train_data.data.size())"
   ]
  },
  {
   "cell_type": "markdown",
   "metadata": {
    "id": "rfhyElyJlE6M"
   },
   "source": [
    "# Visualización del MNIST "
   ]
  },
  {
   "cell_type": "markdown",
   "metadata": {
    "id": "MpdPLhialuw8"
   },
   "source": [
    "## Visualización de una sola imagen"
   ]
  },
  {
   "cell_type": "code",
   "execution_count": 8,
   "metadata": {
    "colab": {
     "base_uri": "https://localhost:8080/",
     "height": 281
    },
    "id": "JxJ75Dv2lI7D",
    "outputId": "8ddc88b7-7450-4086-8acc-240705380a29"
   },
   "outputs": [
    {
     "data": {
      "image/png": "[encoded data removed]",
      "text/plain": [
       "<Figure size 432x288 with 1 Axes>"
      ]
     },
     "metadata": {
      "needs_background": "light"
     },
     "output_type": "display_data"
    }
   ],
   "source": [
    "import matplotlib.pyplot as plt\n",
    "import random as r\n",
    "index = r.randrange(train_data.data.size()[0]) \n",
    "plt.imshow(train_data.data[index], cmap='gray')\n",
    "plt.title('%i' % train_data.targets[index])\n",
    "plt.show()"
   ]
  },
  {
   "cell_type": "markdown",
   "metadata": {
    "id": "rABbgBEYlySh"
   },
   "source": [
    "## Visualización de multiples imagenes"
   ]
  },
  {
   "cell_type": "code",
   "execution_count": 9,
   "metadata": {
    "colab": {
     "base_uri": "https://localhost:8080/",
     "height": 482
    },
    "id": "gVvnqq1QltSc",
    "outputId": "c11764bd-22d5-4d74-997f-1d6501fa326d"
   },
   "outputs": [
    {
     "data": {
      "image/png": "[encoded data removed]",
      "text/plain": [
       "<Figure size 720x576 with 25 Axes>"
      ]
     },
     "metadata": {
      "needs_background": "light"
     },
     "output_type": "display_data"
    }
   ],
   "source": [
    "figure = plt.figure(figsize=(10, 8))\n",
    "cols, rows = 5, 5\n",
    "for i in range(1, cols * rows + 1):\n",
    "    sample_idx = torch.randint(len(train_data), size=(1,)).item()\n",
    "    img, label = train_data[sample_idx]\n",
    "    figure.add_subplot(rows, cols, i)\n",
    "    plt.title(label)\n",
    "    plt.axis(\"off\")\n",
    "    plt.imshow(img.squeeze(), cmap=\"gray\")\n",
    "plt.show()"
   ]
  },
  {
   "cell_type": "markdown",
   "metadata": {
    "id": "f9IFziYLpQzX"
   },
   "source": [
    "## Preparación de los datos"
   ]
  },
  {
   "cell_type": "code",
   "execution_count": 10,
   "metadata": {
    "colab": {
     "base_uri": "https://localhost:8080/"
    },
    "id": "IUEw8SqkmuWZ",
    "outputId": "9be21a1f-6318-4d21-b77b-83811fb2b4ab"
   },
   "outputs": [
    {
     "data": {
      "text/plain": [
       "{'test': <torch.utils.data.dataloader.DataLoader at 0x7ff6ead53f10>,\n",
       " 'train': <torch.utils.data.dataloader.DataLoader at 0x7ff6ead53f90>}"
      ]
     },
     "execution_count": 10,
     "metadata": {},
     "output_type": "execute_result"
    }
   ],
   "source": [
    "from torch.utils.data import DataLoader\n",
    "loaders = {\n",
    "    'train' : torch.utils.data.DataLoader(train_data, \n",
    "                                          batch_size=100, \n",
    "                                          shuffle=True, \n",
    "                                          num_workers=1),\n",
    "    \n",
    "    'test'  : torch.utils.data.DataLoader(test_data, \n",
    "                                          batch_size=100, \n",
    "                                          shuffle=True, \n",
    "                                          num_workers=1),\n",
    "}\n",
    "loaders"
   ]
  },
  {
   "cell_type": "markdown",
   "metadata": {
    "id": "t98s3y1RwOeu"
   },
   "source": [
    "## Modelo CNN"
   ]
  },
  {
   "cell_type": "code",
   "execution_count": 11,
   "metadata": {
    "id": "--A1RwuhsBBc"
   },
   "outputs": [],
   "source": [
    "import torch.nn as nn\n",
    "import torch.nn.functional as F\n",
    "class CNN(nn.Module):\n",
    "    def __init__(self):\n",
    "        super(CNN, self).__init__()\n",
    "        self.conv1 = nn.Conv2d(\n",
    "                in_channels=1,              \n",
    "                out_channels=16,            \n",
    "                kernel_size=5,              \n",
    "                stride=1,                   \n",
    "                padding=2)\n",
    "        self.conv2 = nn.Conv2d(\n",
    "                in_channels=16,\n",
    "                out_channels= 32,\n",
    "                kernel_size= 5,\n",
    "                stride= 1,\n",
    "                padding= 2) \n",
    "                \n",
    "        # Capa completamente conectada con salida de 10 clases\n",
    "        self.out = nn.Linear(32 * 7 * 7, 10)\n",
    "    def forward(self, x):\n",
    "        x = F.max_pool2d(F.relu(self.conv1(x)),kernel_size=(2))\n",
    "        x = F.max_pool2d(F.relu(self.conv2(x)),kernel_size=(2))\n",
    "\n",
    "        # Reshap, resize para flatten la salida de conv2 a (batch_size, 32 * 7 * 7)\n",
    "        # x = x.view(x.size(0), -1)       \n",
    "        x = torch.flatten(x,1)      \n",
    "        output = self.out(x)\n",
    "        return output, x    # return x for visualization\n"
   ]
  },
  {
   "cell_type": "code",
   "execution_count": 12,
   "metadata": {
    "colab": {
     "base_uri": "https://localhost:8080/"
    },
    "id": "UnS9if3Wu33D",
    "outputId": "9e99cbf3-88ff-4ad2-f71b-f86ba2772535"
   },
   "outputs": [
    {
     "name": "stdout",
     "output_type": "stream",
     "text": [
      "CNN(\n",
      "  (conv1): Conv2d(1, 16, kernel_size=(5, 5), stride=(1, 1), padding=(2, 2))\n",
      "  (conv2): Conv2d(16, 32, kernel_size=(5, 5), stride=(1, 1), padding=(2, 2))\n",
      "  (out): Linear(in_features=1568, out_features=10, bias=True)\n",
      ")\n"
     ]
    }
   ],
   "source": [
    "cnn = CNN()\n",
    "print(cnn)"
   ]
  },
  {
   "cell_type": "markdown",
   "metadata": {
    "id": "cwDzMK9nwI_n"
   },
   "source": [
    "## Función de Perdida"
   ]
  },
  {
   "cell_type": "code",
   "execution_count": 13,
   "metadata": {
    "colab": {
     "base_uri": "https://localhost:8080/"
    },
    "id": "TUuUBBi1vaIV",
    "outputId": "0e10892e-e5c8-44e5-a897-a4d2a8b22df9"
   },
   "outputs": [
    {
     "data": {
      "text/plain": [
       "CrossEntropyLoss()"
      ]
     },
     "execution_count": 13,
     "metadata": {},
     "output_type": "execute_result"
    }
   ],
   "source": [
    "# SGD\n",
    "loss_func = nn.CrossEntropyLoss()   \n",
    "loss_func"
   ]
  },
  {
   "cell_type": "markdown",
   "metadata": {
    "id": "8L_D1uIa0w3y"
   },
   "source": [
    "## Optimizador"
   ]
  },
  {
   "cell_type": "markdown",
   "metadata": {
    "id": "GgkvoK4dSvSk"
   },
   "source": [
    "Usando el optimizador Stochastic Gradient Descent (SGD)\n",
    "<br>\n",
    "![image.png](data:image/png;base64,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)"
   ]
  },
  {
   "cell_type": "code",
   "execution_count": 14,
   "metadata": {
    "colab": {
     "base_uri": "https://localhost:8080/"
    },
    "id": "hD6G-Ogs03l6",
    "outputId": "314caf86-7c8c-4818-924c-fcc8d89a8ad1"
   },
   "outputs": [
    {
     "data": {
      "text/plain": [
       "Adam (\n",
       "Parameter Group 0\n",
       "    amsgrad: False\n",
       "    betas: (0.9, 0.999)\n",
       "    eps: 1e-08\n",
       "    lr: 0.01\n",
       "    maximize: False\n",
       "    weight_decay: 0\n",
       ")"
      ]
     },
     "execution_count": 14,
     "metadata": {},
     "output_type": "execute_result"
    }
   ],
   "source": [
    "from torch import optim\n",
    "optimizer = optim.Adam(cnn.parameters(), lr = 0.01)   \n",
    "optimizer"
   ]
  },
  {
   "cell_type": "markdown",
   "metadata": {
    "id": "UoM3wHeh5wCG"
   },
   "source": [
    "## Prueba con una matrix aleatoria"
   ]
  },
  {
   "cell_type": "markdown",
   "metadata": {
    "id": "QO4Hsz7mRC7O"
   },
   "source": [
    "![image.png](data:image/png;base64,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)"
   ]
  },
  {
   "cell_type": "code",
   "execution_count": 15,
   "metadata": {
    "colab": {
     "base_uri": "https://localhost:8080/"
    },
    "id": "caBkGA3M5yso",
    "outputId": "332c0e95-d326-41d9-ec7c-eb4e009d9571"
   },
   "outputs": [
    {
     "name": "stdout",
     "output_type": "stream",
     "text": [
      "<class 'torch.Tensor'>\n",
      "torch.Size([1, 1, 28, 28])\n",
      "<class 'torch.Tensor'>\n",
      "torch.Size([1, 1, 28, 28])\n"
     ]
    }
   ],
   "source": [
    "from torch.autograd import Variable\n",
    "input = torch.randn(1, 1, 28, 28)\n",
    "print(type(input))\n",
    "# print(input)\n",
    "print(input.shape)\n",
    "input = Variable(input)\n",
    "# batch size, 1 channel, image data(32,32)\n",
    "print(type(input))\n",
    "# print(input)\n",
    "print(input.shape)"
   ]
  },
  {
   "cell_type": "code",
   "execution_count": 16,
   "metadata": {
    "colab": {
     "base_uri": "https://localhost:8080/"
    },
    "id": "iqFP0fm46_Vc",
    "outputId": "d09e518d-bd63-4b8e-a86c-a9ac20ad0256"
   },
   "outputs": [
    {
     "name": "stdout",
     "output_type": "stream",
     "text": [
      "tensor([[ 0.0018, -0.2553,  0.1602, -0.1538,  0.1150,  0.0742, -0.0463,  0.2305,\n",
      "          0.0737,  0.0872]], grad_fn=<AddmmBackward0>)\n"
     ]
    }
   ],
   "source": [
    "input = torch.randn(1, 1, 28, 28,requires_grad=True)\n",
    "out = cnn(input)\n",
    "print(out[0]) # 1, 10 classes"
   ]
  },
  {
   "cell_type": "code",
   "execution_count": 17,
   "metadata": {
    "colab": {
     "base_uri": "https://localhost:8080/"
    },
    "id": "iO6qBhXCSyN8",
    "outputId": "c3b5cc3e-eeca-423a-bc3f-75cc9cd779e2"
   },
   "outputs": [
    {
     "name": "stdout",
     "output_type": "stream",
     "text": [
      "tensor(1.7418, grad_fn=<MseLossBackward0>)\n"
     ]
    }
   ],
   "source": [
    "output, _none_ = cnn(input)\n",
    "target = torch.randn(10)  # a dummy target\n",
    "target = target.view(1, -1)\n",
    "criterion_temp = nn.MSELoss()\n",
    "\n",
    "loss_temp = criterion_temp(output, target)\n",
    "print(loss_temp)"
   ]
  },
  {
   "cell_type": "code",
   "execution_count": 18,
   "metadata": {
    "colab": {
     "base_uri": "https://localhost:8080/"
    },
    "id": "FVftOFgRYEx1",
    "outputId": "7312a3c4-7812-4616-dfb0-0632f3076e2b"
   },
   "outputs": [
    {
     "name": "stdout",
     "output_type": "stream",
     "text": [
      "conv1.bias.grad before backward\n",
      "None\n",
      "conv1.bias.grad after backward\n",
      "tensor([-0.0754, -0.0135, -0.0572,  0.0076,  0.0440,  0.0361,  0.0081, -0.0495,\n",
      "         0.0058, -0.0661,  0.0143, -0.0191, -0.0722, -0.0466, -0.0252,  0.0919])\n"
     ]
    }
   ],
   "source": [
    "cnn.zero_grad()     \n",
    "print('conv1.bias.grad before backward')\n",
    "print(cnn.conv1.bias.grad)\n",
    "\n",
    "loss_temp.backward()\n",
    "\n",
    "print('conv1.bias.grad after backward')\n",
    "print(cnn.conv1.bias.grad)"
   ]
  },
  {
   "cell_type": "markdown",
   "metadata": {
    "id": "Bprvb2et1Glt"
   },
   "source": [
    "## Fase de entrenamiento"
   ]
  },
  {
   "cell_type": "code",
   "execution_count": 19,
   "metadata": {
    "id": "I1MphjlXWg9f"
   },
   "outputs": [],
   "source": [
    "train_losses=[]\n",
    "train_accu=[]\n",
    "\n",
    "def train(num_epochs, cnn, loaders):\n",
    "    print('\\nEpoca : %d'%num_epochs)\n",
    "    cnn.train()\n",
    "    # Entrenar al modelo\n",
    "    total_step = len(loaders['train'])\n",
    "    \n",
    "    running_loss=0\n",
    "    correct=0\n",
    "    total=0\n",
    "\n",
    "    trn_corr = 0\n",
    "    tst_corr = 0\n",
    "    for i, (images, labels) in enumerate(loaders['train']):\n",
    "            \n",
    "      # Cargar los datos \n",
    "      x = images  # batch x\n",
    "      y = labels  # batch y\n",
    "\n",
    "\n",
    "      # --Aplicar el Modelo\n",
    "      output = cnn(x)[0]               \n",
    "      loss = loss_func(output, y)\n",
    "            \n",
    "      # --Actualizar los parametros\n",
    "      # Limpiar las gradientes   \n",
    "      optimizer.zero_grad()           \n",
    "      # backpropagation, Calcular las gradientes \n",
    "      loss.backward()    \n",
    "      # Aplicar las graditnes           \n",
    "      optimizer.step()\n",
    "\n",
    "          \n",
    "            \n",
    "      # --Calcular el numero de predicciones\n",
    "      running_loss += loss.item()\n",
    "      _, predicted = output.max(1)\n",
    "      total += labels.size(0)\n",
    "      correct += predicted.eq(labels).sum().item()\n",
    "\n",
    "    train_loss=running_loss/len(loaders['train'])\n",
    "    accu=100.*correct/total\n",
    "        \n",
    "    train_accu.append(accu)\n",
    "    train_losses.append(train_loss)\n",
    "    print('Train Loss: %.3f | Accuracy: %.3f'%(train_loss,accu))\n",
    "  "
   ]
  },
  {
   "cell_type": "markdown",
   "metadata": {
    "id": "AVSlA3wcW2rP"
   },
   "source": [
    "## Ejecutando con conjunto de datos de prueba"
   ]
  },
  {
   "cell_type": "code",
   "execution_count": 20,
   "metadata": {
    "id": "vUIzLEWg0ylu"
   },
   "outputs": [],
   "source": [
    "eval_losses=[]\n",
    "eval_accu=[]\n",
    "\n",
    "def test():\n",
    "    # Test the model\n",
    "    cnn.eval()\n",
    "\n",
    "    running_loss=0\n",
    "    correct=0\n",
    "    total=0\n",
    "\n",
    "    with torch.no_grad():\n",
    "        correct = 0\n",
    "        total = 0\n",
    "        for images, labels in loaders['test']:\n",
    "            test_output, last_layer = cnn(images)\n",
    "\n",
    "            # --Registro Hisotiral\n",
    "            loss= loss_func(test_output,labels)\n",
    "            running_loss+=loss.item()\n",
    "\n",
    "            _, predicted = test_output.max(1)\n",
    "            total += labels.size(0)\n",
    "            correct += predicted.eq(labels).sum().item()\n",
    "\n",
    "    test_loss=running_loss/len(loaders['test'])\n",
    "    accu=100.*correct/total\n",
    "    eval_losses.append(test_loss)\n",
    "    eval_accu.append(accu)\n",
    "    print('Test Loss: %.3f | Accuracy: %.3f'%(test_loss,accu)) \n",
    "        # print('Test Accuracy of the model on the 10000 test images: %.2f' % accuracy)"
   ]
  },
  {
   "cell_type": "code",
   "execution_count": 21,
   "metadata": {
    "colab": {
     "base_uri": "https://localhost:8080/"
    },
    "id": "0FWgAKErKOLQ",
    "outputId": "5c4c541e-f6d9-457e-dc96-75af6a927c61"
   },
   "outputs": [
    {
     "name": "stdout",
     "output_type": "stream",
     "text": [
      "\n",
      "Epoca : 1\n",
      "Train Loss: 0.208 | Accuracy: 93.470\n",
      "Test Loss: 0.061 | Accuracy: 97.860\n",
      "\n",
      "Epoca : 2\n",
      "Train Loss: 0.070 | Accuracy: 97.862\n",
      "Test Loss: 0.051 | Accuracy: 98.330\n",
      "\n",
      "Epoca : 3\n",
      "Train Loss: 0.061 | Accuracy: 98.093\n",
      "Test Loss: 0.058 | Accuracy: 98.030\n",
      "\n",
      "Epoca : 4\n",
      "Train Loss: 0.057 | Accuracy: 98.212\n",
      "Test Loss: 0.046 | Accuracy: 98.440\n",
      "\n",
      "Epoca : 5\n",
      "Train Loss: 0.056 | Accuracy: 98.288\n",
      "Test Loss: 0.063 | Accuracy: 98.030\n"
     ]
    }
   ],
   "source": [
    "epochs=5\n",
    "for epoch in range(1,epochs+1): \n",
    "  train(epoch,cnn,loaders)\n",
    "  test()"
   ]
  },
  {
   "cell_type": "markdown",
   "metadata": {
    "id": "_RhYSUy6z8Ff"
   },
   "source": [
    "## Visualización del accuracy"
   ]
  },
  {
   "cell_type": "code",
   "execution_count": 22,
   "metadata": {
    "colab": {
     "base_uri": "https://localhost:8080/",
     "height": 295
    },
    "id": "I_qyRwuvyLXy",
    "outputId": "acab68d4-411e-40b4-d2f5-dcc9753e71dc"
   },
   "outputs": [
    {
     "data": {
      "image/png": "[encoded data removed]",
      "text/plain": [
       "<Figure size 432x288 with 1 Axes>"
      ]
     },
     "metadata": {
      "needs_background": "light"
     },
     "output_type": "display_data"
    }
   ],
   "source": [
    "plt.plot(train_accu,'-o')\n",
    "plt.plot(eval_accu,'-o')\n",
    "plt.xlabel('epoch')\n",
    "plt.ylabel('accuracy')\n",
    "plt.legend(['Train','Valid'])\n",
    "plt.title('Train vs Valid Accuracy')\n",
    "\n",
    "plt.show()"
   ]
  },
  {
   "cell_type": "markdown",
   "metadata": {
    "id": "xeUdy02R8fhQ"
   },
   "source": [
    "## Predicción con visuliación"
   ]
  },
  {
   "cell_type": "code",
   "execution_count": 23,
   "metadata": {
    "id": "jEtyDmdmJ3ug"
   },
   "outputs": [],
   "source": [
    "# Muestreo por defecto\n",
    "sample = next(iter(loaders['test']))\n",
    "imgs, lbls = sample\n",
    "\n",
    "actual_number = lbls[:26].numpy()\n",
    "actual_number\n",
    "\n",
    "test_output, last_layer = cnn(imgs[:26])\n",
    "predics = torch.max(test_output, 1)[1].data.numpy().squeeze()\n",
    "\n",
    "# print(f'Prediction number: {pred_y}')\n",
    "# print(f'Actual number: {actual_number}')"
   ]
  },
  {
   "cell_type": "code",
   "execution_count": 24,
   "metadata": {
    "id": "fL6Ayo8P1vD3"
   },
   "outputs": [],
   "source": [
    "sample = next(iter(loaders['test']))\n",
    "imgs_sample, lbls = sample"
   ]
  },
  {
   "cell_type": "code",
   "execution_count": 26,
   "metadata": {
    "id": "jw7JRY7CE0xJ"
   },
   "outputs": [],
   "source": [
    "# Random\n",
    "import random\n",
    "imgs = []\n",
    "actual_number = []\n",
    "for i in range(0,26):\n",
    "  index_r = (random.randint(0,imgs_sample.size()[0]))\n",
    "  imgs.append(imgs_sample[index_r])\n",
    "\n",
    "  actual_number.append(lbls[index_r].item())\n",
    "\n",
    "imgs=torch.stack(imgs)\n",
    "# imgs_random\n",
    "\n",
    "test_output, last_layer = cnn(imgs)\n",
    "predics = torch.max(test_output, 1)[1].data.numpy().squeeze()\n"
   ]
  },
  {
   "cell_type": "code",
   "execution_count": 27,
   "metadata": {
    "colab": {
     "base_uri": "https://localhost:8080/",
     "height": 981
    },
    "id": "iwMuhEdh8t92",
    "outputId": "2055dddb-7f47-42d3-9b12-b81f8ea7ff06"
   },
   "outputs": [
    {
     "data": {
      "image/png": "[encoded data removed]",
      "text/plain": [
       "<Figure size 1152x1224 with 25 Axes>"
      ]
     },
     "metadata": {
      "needs_background": "light"
     },
     "output_type": "display_data"
    }
   ],
   "source": [
    "figure = plt.figure(figsize=(16, 17))\n",
    "cols, rows = 5, 5\n",
    "for i in range(1, cols * rows + 1):\n",
    "    figure.add_subplot(rows, cols, i)\n",
    "\n",
    "    title = \"Label:\"+str(actual_number[i]) + \"\\n\"+ \"Pred:\"+str(predics[i])\n",
    "    plt.title(title)\n",
    "    plt.axis(\"off\")\n",
    "    plt.imshow(imgs[i].squeeze(), cmap=\"gray\")\n",
    "plt.show()"
   ]
  }
 ],
 "metadata": {
  "accelerator": "GPU",
  "colab": {
   "collapsed_sections": [
    "f9IFziYLpQzX",
    "t98s3y1RwOeu",
    "8L_D1uIa0w3y",
    "UoM3wHeh5wCG"
   ],
   "name": "CNN MNist.ipynb",
   "provenance": []
  },
  "kernelspec": {
   "display_name": "Python 3 (ipykernel)",
   "language": "python",
   "name": "python3"
  },
  "language_info": {
   "codemirror_mode": {
    "name": "ipython",
    "version": 3
   },
   "file_extension": ".py",
   "mimetype": "text/x-python",
   "name": "python",
   "nbconvert_exporter": "python",
   "pygments_lexer": "ipython3",
   "version": "3.8.12"
  },
  "widgets": {
   "application/vnd.jupyter.widget-state+json": {
    "074fda987b084b1aa8eacb9b480ea864": {
     "model_module": "@jupyter-widgets/controls",
     "model_module_version": "1.5.0",
     "model_name": "DescriptionStyleModel",
     "state": {
      "_model_module": "@jupyter-widgets/controls",
      "_model_module_version": "1.5.0",
      "_model_name": "DescriptionStyleModel",
      "_view_count": null,
      "_view_module": "@jupyter-widgets/base",
      "_view_module_version": "1.2.0",
      "_view_name": "StyleView",
      "description_width": ""
     }
    },
    "0cd147d2610b4cc38f635c6e1dd55571": {
     "model_module": "@jupyter-widgets/controls",
     "model_module_version": "1.5.0",
     "model_name": "HBoxModel",
     "state": {
      "_dom_classes": [],
      "_model_module": "@jupyter-widgets/controls",
      "_model_module_version": "1.5.0",
      "_model_name": "HBoxModel",
      "_view_count": null,
      "_view_module": "@jupyter-widgets/controls",
      "_view_module_version": "1.5.0",
      "_view_name": "HBoxView",
      "box_style": "",
      "children": [
       "IPY_MODEL_1bc26f531a494704869add221455bae1",
       "IPY_MODEL_c4d33d8eb2f246eea9314d8ee530e0dd",
       "IPY_MODEL_72413b12c2454dcd87ee8ecd82924b11"
      ],
      "layout": "IPY_MODEL_abff364b92c148dcbde860d888e1b917"
     }
    },
    "100aabb808784d1ab986499b0c8dc192": {
     "model_module": "@jupyter-widgets/base",
     "model_module_version": "1.2.0",
     "model_name": "LayoutModel",
     "state": {
      "_model_module": "@jupyter-widgets/base",
      "_model_module_version": "1.2.0",
      "_model_name": "LayoutModel",
      "_view_count": null,
      "_view_module": "@jupyter-widgets/base",
      "_view_module_version": "1.2.0",
      "_view_name": "LayoutView",
      "align_content": null,
      "align_items": null,
      "align_self": null,
      "border": null,
      "bottom": null,
      "display": null,
      "flex": null,
      "flex_flow": null,
      "grid_area": null,
      "grid_auto_columns": null,
      "grid_auto_flow": null,
      "grid_auto_rows": null,
      "grid_column": null,
      "grid_gap": null,
      "grid_row": null,
      "grid_template_areas": null,
      "grid_template_columns": null,
      "grid_template_rows": null,
      "height": null,
      "justify_content": null,
      "justify_items": null,
      "left": null,
      "margin": null,
      "max_height": null,
      "max_width": null,
      "min_height": null,
      "min_width": null,
      "object_fit": null,
      "object_position": null,
      "order": null,
      "overflow": null,
      "overflow_x": null,
      "overflow_y": null,
      "padding": null,
      "right": null,
      "top": null,
      "visibility": null,
      "width": null
     }
    },
    "18625803f6ad4fc2b030f057c5c577b4": {
     "model_module": "@jupyter-widgets/controls",
     "model_module_version": "1.5.0",
     "model_name": "DescriptionStyleModel",
     "state": {
      "_model_module": "@jupyter-widgets/controls",
      "_model_module_version": "1.5.0",
      "_model_name": "DescriptionStyleModel",
      "_view_count": null,
      "_view_module": "@jupyter-widgets/base",
      "_view_module_version": "1.2.0",
      "_view_name": "StyleView",
      "description_width": ""
     }
    },
    "1a45ba1cb45647b6a87e5fea6fcc05f4": {
     "model_module": "@jupyter-widgets/base",
     "model_module_version": "1.2.0",
     "model_name": "LayoutModel",
     "state": {
      "_model_module": "@jupyter-widgets/base",
      "_model_module_version": "1.2.0",
      "_model_name": "LayoutModel",
      "_view_count": null,
      "_view_module": "@jupyter-widgets/base",
      "_view_module_version": "1.2.0",
      "_view_name": "LayoutView",
      "align_content": null,
      "align_items": null,
      "align_self": null,
      "border": null,
      "bottom": null,
      "display": null,
      "flex": null,
      "flex_flow": null,
      "grid_area": null,
      "grid_auto_columns": null,
      "grid_auto_flow": null,
      "grid_auto_rows": null,
      "grid_column": null,
      "grid_gap": null,
      "grid_row": null,
      "grid_template_areas": null,
      "grid_template_columns": null,
      "grid_template_rows": null,
      "height": null,
      "justify_content": null,
      "justify_items": null,
      "left": null,
      "margin": null,
      "max_height": null,
      "max_width": null,
      "min_height": null,
      "min_width": null,
      "object_fit": null,
      "object_position": null,
      "order": null,
      "overflow": null,
      "overflow_x": null,
      "overflow_y": null,
      "padding": null,
      "right": null,
      "top": null,
      "visibility": null,
      "width": null
     }
    },
    "1aa106dfa60f422dae2382dde6c478ca": {
     "model_module": "@jupyter-widgets/base",
     "model_module_version": "1.2.0",
     "model_name": "LayoutModel",
     "state": {
      "_model_module": "@jupyter-widgets/base",
      "_model_module_version": "1.2.0",
      "_model_name": "LayoutModel",
      "_view_count": null,
      "_view_module": "@jupyter-widgets/base",
      "_view_module_version": "1.2.0",
      "_view_name": "LayoutView",
      "align_content": null,
      "align_items": null,
      "align_self": null,
      "border": null,
      "bottom": null,
      "display": null,
      "flex": null,
      "flex_flow": null,
      "grid_area": null,
      "grid_auto_columns": null,
      "grid_auto_flow": null,
      "grid_auto_rows": null,
      "grid_column": null,
      "grid_gap": null,
      "grid_row": null,
      "grid_template_areas": null,
      "grid_template_columns": null,
      "grid_template_rows": null,
      "height": null,
      "justify_content": null,
      "justify_items": null,
      "left": null,
      "margin": null,
      "max_height": null,
      "max_width": null,
      "min_height": null,
      "min_width": null,
      "object_fit": null,
      "object_position": null,
      "order": null,
      "overflow": null,
      "overflow_x": null,
      "overflow_y": null,
      "padding": null,
      "right": null,
      "top": null,
      "visibility": null,
      "width": null
     }
    },
    "1bc26f531a494704869add221455bae1": {
     "model_module": "@jupyter-widgets/controls",
     "model_module_version": "1.5.0",
     "model_name": "HTMLModel",
     "state": {
      "_dom_classes": [],
      "_model_module": "@jupyter-widgets/controls",
      "_model_module_version": "1.5.0",
      "_model_name": "HTMLModel",
      "_view_count": null,
      "_view_module": "@jupyter-widgets/controls",
      "_view_module_version": "1.5.0",
      "_view_name": "HTMLView",
      "description": "",
      "description_tooltip": null,
      "layout": "IPY_MODEL_47f0b45118834f26946af58bb56bd80f",
      "placeholder": "​",
      "style": "IPY_MODEL_4edc582c31e04ceda9c306c3d879eb73",
      "value": ""
     }
    },
    "207a4c367df240cdb36a9db8ad80d43a": {
     "model_module": "@jupyter-widgets/controls",
     "model_module_version": "1.5.0",
     "model_name": "FloatProgressModel",
     "state": {
      "_dom_classes": [],
      "_model_module": "@jupyter-widgets/controls",
      "_model_module_version": "1.5.0",
      "_model_name": "FloatProgressModel",
      "_view_count": null,
      "_view_module": "@jupyter-widgets/controls",
      "_view_module_version": "1.5.0",
      "_view_name": "ProgressView",
      "bar_style": "success",
      "description": "",
      "description_tooltip": null,
      "layout": "IPY_MODEL_9df294ff354647f5842ab02d8fa9d93f",
      "max": 28881,
      "min": 0,
      "orientation": "horizontal",
      "style": "IPY_MODEL_4ebc8c58fe6e497db7ade1fd2966ca3f",
      "value": 28881
     }
    },
    "2353cf58277a4dc58ceffa7b6edc3ea7": {
     "model_module": "@jupyter-widgets/controls",
     "model_module_version": "1.5.0",
     "model_name": "ProgressStyleModel",
     "state": {
      "_model_module": "@jupyter-widgets/controls",
      "_model_module_version": "1.5.0",
      "_model_name": "ProgressStyleModel",
      "_view_count": null,
      "_view_module": "@jupyter-widgets/base",
      "_view_module_version": "1.2.0",
      "_view_name": "StyleView",
      "bar_color": null,
      "description_width": ""
     }
    },
    "3086a278a68f49c9a65926930c21f92d": {
     "model_module": "@jupyter-widgets/base",
     "model_module_version": "1.2.0",
     "model_name": "LayoutModel",
     "state": {
      "_model_module": "@jupyter-widgets/base",
      "_model_module_version": "1.2.0",
      "_model_name": "LayoutModel",
      "_view_count": null,
      "_view_module": "@jupyter-widgets/base",
      "_view_module_version": "1.2.0",
      "_view_name": "LayoutView",
      "align_content": null,
      "align_items": null,
      "align_self": null,
      "border": null,
      "bottom": null,
      "display": null,
      "flex": null,
      "flex_flow": null,
      "grid_area": null,
      "grid_auto_columns": null,
      "grid_auto_flow": null,
      "grid_auto_rows": null,
      "grid_column": null,
      "grid_gap": null,
      "grid_row": null,
      "grid_template_areas": null,
      "grid_template_columns": null,
      "grid_template_rows": null,
      "height": null,
      "justify_content": null,
      "justify_items": null,
      "left": null,
      "margin": null,
      "max_height": null,
      "max_width": null,
      "min_height": null,
      "min_width": null,
      "object_fit": null,
      "object_position": null,
      "order": null,
      "overflow": null,
      "overflow_x": null,
      "overflow_y": null,
      "padding": null,
      "right": null,
      "top": null,
      "visibility": null,
      "width": null
     }
    },
    "3dfb21f94fe84d42ae5c66df9aed07aa": {
     "model_module": "@jupyter-widgets/controls",
     "model_module_version": "1.5.0",
     "model_name": "DescriptionStyleModel",
     "state": {
      "_model_module": "@jupyter-widgets/controls",
      "_model_module_version": "1.5.0",
      "_model_name": "DescriptionStyleModel",
      "_view_count": null,
      "_view_module": "@jupyter-widgets/base",
      "_view_module_version": "1.2.0",
      "_view_name": "StyleView",
      "description_width": ""
     }
    },
    "419af66970b94047b2f0added02b707b": {
     "model_module": "@jupyter-widgets/controls",
     "model_module_version": "1.5.0",
     "model_name": "HTMLModel",
     "state": {
      "_dom_classes": [],
      "_model_module": "@jupyter-widgets/controls",
      "_model_module_version": "1.5.0",
      "_model_name": "HTMLModel",
      "_view_count": null,
      "_view_module": "@jupyter-widgets/controls",
      "_view_module_version": "1.5.0",
      "_view_name": "HTMLView",
      "description": "",
      "description_tooltip": null,
      "layout": "IPY_MODEL_604adea7f0ae4ff9838b85404f3db8c3",
      "placeholder": "​",
      "style": "IPY_MODEL_18625803f6ad4fc2b030f057c5c577b4",
      "value": ""
     }
    },
    "47f0b45118834f26946af58bb56bd80f": {
     "model_module": "@jupyter-widgets/base",
     "model_module_version": "1.2.0",
     "model_name": "LayoutModel",
     "state": {
      "_model_module": "@jupyter-widgets/base",
      "_model_module_version": "1.2.0",
      "_model_name": "LayoutModel",
      "_view_count": null,
      "_view_module": "@jupyter-widgets/base",
      "_view_module_version": "1.2.0",
      "_view_name": "LayoutView",
      "align_content": null,
      "align_items": null,
      "align_self": null,
      "border": null,
      "bottom": null,
      "display": null,
      "flex": null,
      "flex_flow": null,
      "grid_area": null,
      "grid_auto_columns": null,
      "grid_auto_flow": null,
      "grid_auto_rows": null,
      "grid_column": null,
      "grid_gap": null,
      "grid_row": null,
      "grid_template_areas": null,
      "grid_template_columns": null,
      "grid_template_rows": null,
      "height": null,
      "justify_content": null,
      "justify_items": null,
      "left": null,
      "margin": null,
      "max_height": null,
      "max_width": null,
      "min_height": null,
      "min_width": null,
      "object_fit": null,
      "object_position": null,
      "order": null,
      "overflow": null,
      "overflow_x": null,
      "overflow_y": null,
      "padding": null,
      "right": null,
      "top": null,
      "visibility": null,
      "width": null
     }
    },
    "4ebc8c58fe6e497db7ade1fd2966ca3f": {
     "model_module": "@jupyter-widgets/controls",
     "model_module_version": "1.5.0",
     "model_name": "ProgressStyleModel",
     "state": {
      "_model_module": "@jupyter-widgets/controls",
      "_model_module_version": "1.5.0",
      "_model_name": "ProgressStyleModel",
      "_view_count": null,
      "_view_module": "@jupyter-widgets/base",
      "_view_module_version": "1.2.0",
      "_view_name": "StyleView",
      "bar_color": null,
      "description_width": ""
     }
    },
    "4edc582c31e04ceda9c306c3d879eb73": {
     "model_module": "@jupyter-widgets/controls",
     "model_module_version": "1.5.0",
     "model_name": "DescriptionStyleModel",
     "state": {
      "_model_module": "@jupyter-widgets/controls",
      "_model_module_version": "1.5.0",
      "_model_name": "DescriptionStyleModel",
      "_view_count": null,
      "_view_module": "@jupyter-widgets/base",
      "_view_module_version": "1.2.0",
      "_view_name": "StyleView",
      "description_width": ""
     }
    },
    "51dc312f92244353b0d1f57f941bd370": {
     "model_module": "@jupyter-widgets/base",
     "model_module_version": "1.2.0",
     "model_name": "LayoutModel",
     "state": {
      "_model_module": "@jupyter-widgets/base",
      "_model_module_version": "1.2.0",
      "_model_name": "LayoutModel",
      "_view_count": null,
      "_view_module": "@jupyter-widgets/base",
      "_view_module_version": "1.2.0",
      "_view_name": "LayoutView",
      "align_content": null,
      "align_items": null,
      "align_self": null,
      "border": null,
      "bottom": null,
      "display": null,
      "flex": null,
      "flex_flow": null,
      "grid_area": null,
      "grid_auto_columns": null,
      "grid_auto_flow": null,
      "grid_auto_rows": null,
      "grid_column": null,
      "grid_gap": null,
      "grid_row": null,
      "grid_template_areas": null,
      "grid_template_columns": null,
      "grid_template_rows": null,
      "height": null,
      "justify_content": null,
      "justify_items": null,
      "left": null,
      "margin": null,
      "max_height": null,
      "max_width": null,
      "min_height": null,
      "min_width": null,
      "object_fit": null,
      "object_position": null,
      "order": null,
      "overflow": null,
      "overflow_x": null,
      "overflow_y": null,
      "padding": null,
      "right": null,
      "top": null,
      "visibility": null,
      "width": null
     }
    },
    "596d22f45c4e45f5a05dea2e80f4edc2": {
     "model_module": "@jupyter-widgets/base",
     "model_module_version": "1.2.0",
     "model_name": "LayoutModel",
     "state": {
      "_model_module": "@jupyter-widgets/base",
      "_model_module_version": "1.2.0",
      "_model_name": "LayoutModel",
      "_view_count": null,
      "_view_module": "@jupyter-widgets/base",
      "_view_module_version": "1.2.0",
      "_view_name": "LayoutView",
      "align_content": null,
      "align_items": null,
      "align_self": null,
      "border": null,
      "bottom": null,
      "display": null,
      "flex": null,
      "flex_flow": null,
      "grid_area": null,
      "grid_auto_columns": null,
      "grid_auto_flow": null,
      "grid_auto_rows": null,
      "grid_column": null,
      "grid_gap": null,
      "grid_row": null,
      "grid_template_areas": null,
      "grid_template_columns": null,
      "grid_template_rows": null,
      "height": null,
      "justify_content": null,
      "justify_items": null,
      "left": null,
      "margin": null,
      "max_height": null,
      "max_width": null,
      "min_height": null,
      "min_width": null,
      "object_fit": null,
      "object_position": null,
      "order": null,
      "overflow": null,
      "overflow_x": null,
      "overflow_y": null,
      "padding": null,
      "right": null,
      "top": null,
      "visibility": null,
      "width": null
     }
    },
    "5cf92e0f11344643a74e9a9179839af9": {
     "model_module": "@jupyter-widgets/controls",
     "model_module_version": "1.5.0",
     "model_name": "FloatProgressModel",
     "state": {
      "_dom_classes": [],
      "_model_module": "@jupyter-widgets/controls",
      "_model_module_version": "1.5.0",
      "_model_name": "FloatProgressModel",
      "_view_count": null,
      "_view_module": "@jupyter-widgets/controls",
      "_view_module_version": "1.5.0",
      "_view_name": "ProgressView",
      "bar_style": "success",
      "description": "",
      "description_tooltip": null,
      "layout": "IPY_MODEL_66b53b02b19f4193a3a2111051e02aed",
      "max": 4542,
      "min": 0,
      "orientation": "horizontal",
      "style": "IPY_MODEL_71ecb17988d0435fa6c3e83026808ac1",
      "value": 4542
     }
    },
    "604adea7f0ae4ff9838b85404f3db8c3": {
     "model_module": "@jupyter-widgets/base",
     "model_module_version": "1.2.0",
     "model_name": "LayoutModel",
     "state": {
      "_model_module": "@jupyter-widgets/base",
      "_model_module_version": "1.2.0",
      "_model_name": "LayoutModel",
      "_view_count": null,
      "_view_module": "@jupyter-widgets/base",
      "_view_module_version": "1.2.0",
      "_view_name": "LayoutView",
      "align_content": null,
      "align_items": null,
      "align_self": null,
      "border": null,
      "bottom": null,
      "display": null,
      "flex": null,
      "flex_flow": null,
      "grid_area": null,
      "grid_auto_columns": null,
      "grid_auto_flow": null,
      "grid_auto_rows": null,
      "grid_column": null,
      "grid_gap": null,
      "grid_row": null,
      "grid_template_areas": null,
      "grid_template_columns": null,
      "grid_template_rows": null,
      "height": null,
      "justify_content": null,
      "justify_items": null,
      "left": null,
      "margin": null,
      "max_height": null,
      "max_width": null,
      "min_height": null,
      "min_width": null,
      "object_fit": null,
      "object_position": null,
      "order": null,
      "overflow": null,
      "overflow_x": null,
      "overflow_y": null,
      "padding": null,
      "right": null,
      "top": null,
      "visibility": null,
      "width": null
     }
    },
    "662d9fc126624a60aa8084be9048ad86": {
     "model_module": "@jupyter-widgets/controls",
     "model_module_version": "1.5.0",
     "model_name": "DescriptionStyleModel",
     "state": {
      "_model_module": "@jupyter-widgets/controls",
      "_model_module_version": "1.5.0",
      "_model_name": "DescriptionStyleModel",
      "_view_count": null,
      "_view_module": "@jupyter-widgets/base",
      "_view_module_version": "1.2.0",
      "_view_name": "StyleView",
      "description_width": ""
     }
    },
    "66b53b02b19f4193a3a2111051e02aed": {
     "model_module": "@jupyter-widgets/base",
     "model_module_version": "1.2.0",
     "model_name": "LayoutModel",
     "state": {
      "_model_module": "@jupyter-widgets/base",
      "_model_module_version": "1.2.0",
      "_model_name": "LayoutModel",
      "_view_count": null,
      "_view_module": "@jupyter-widgets/base",
      "_view_module_version": "1.2.0",
      "_view_name": "LayoutView",
      "align_content": null,
      "align_items": null,
      "align_self": null,
      "border": null,
      "bottom": null,
      "display": null,
      "flex": null,
      "flex_flow": null,
      "grid_area": null,
      "grid_auto_columns": null,
      "grid_auto_flow": null,
      "grid_auto_rows": null,
      "grid_column": null,
      "grid_gap": null,
      "grid_row": null,
      "grid_template_areas": null,
      "grid_template_columns": null,
      "grid_template_rows": null,
      "height": null,
      "justify_content": null,
      "justify_items": null,
      "left": null,
      "margin": null,
      "max_height": null,
      "max_width": null,
      "min_height": null,
      "min_width": null,
      "object_fit": null,
      "object_position": null,
      "order": null,
      "overflow": null,
      "overflow_x": null,
      "overflow_y": null,
      "padding": null,
      "right": null,
      "top": null,
      "visibility": null,
      "width": null
     }
    },
    "67ac9d21d52e468983aa69c58a04ba1b": {
     "model_module": "@jupyter-widgets/controls",
     "model_module_version": "1.5.0",
     "model_name": "HBoxModel",
     "state": {
      "_dom_classes": [],
      "_model_module": "@jupyter-widgets/controls",
      "_model_module_version": "1.5.0",
      "_model_name": "HBoxModel",
      "_view_count": null,
      "_view_module": "@jupyter-widgets/controls",
      "_view_module_version": "1.5.0",
      "_view_name": "HBoxView",
      "box_style": "",
      "children": [
       "IPY_MODEL_cfd7c67716e5410990c26a1da61a5aba",
       "IPY_MODEL_207a4c367df240cdb36a9db8ad80d43a",
       "IPY_MODEL_b2939313a0124c55acb182c4f015fe7c"
      ],
      "layout": "IPY_MODEL_762c8d986e02469a8da28df2240a5b09"
     }
    },
    "702c8becead445ac83d717a73929972f": {
     "model_module": "@jupyter-widgets/controls",
     "model_module_version": "1.5.0",
     "model_name": "DescriptionStyleModel",
     "state": {
      "_model_module": "@jupyter-widgets/controls",
      "_model_module_version": "1.5.0",
      "_model_name": "DescriptionStyleModel",
      "_view_count": null,
      "_view_module": "@jupyter-widgets/base",
      "_view_module_version": "1.2.0",
      "_view_name": "StyleView",
      "description_width": ""
     }
    },
    "71ecb17988d0435fa6c3e83026808ac1": {
     "model_module": "@jupyter-widgets/controls",
     "model_module_version": "1.5.0",
     "model_name": "ProgressStyleModel",
     "state": {
      "_model_module": "@jupyter-widgets/controls",
      "_model_module_version": "1.5.0",
      "_model_name": "ProgressStyleModel",
      "_view_count": null,
      "_view_module": "@jupyter-widgets/base",
      "_view_module_version": "1.2.0",
      "_view_name": "StyleView",
      "bar_color": null,
      "description_width": ""
     }
    },
    "72413b12c2454dcd87ee8ecd82924b11": {
     "model_module": "@jupyter-widgets/controls",
     "model_module_version": "1.5.0",
     "model_name": "HTMLModel",
     "state": {
      "_dom_classes": [],
      "_model_module": "@jupyter-widgets/controls",
      "_model_module_version": "1.5.0",
      "_model_name": "HTMLModel",
      "_view_count": null,
      "_view_module": "@jupyter-widgets/controls",
      "_view_module_version": "1.5.0",
      "_view_name": "HTMLView",
      "description": "",
      "description_tooltip": null,
      "layout": "IPY_MODEL_8f0bad4244a24b0d8056b5a47df87677",
      "placeholder": "​",
      "style": "IPY_MODEL_662d9fc126624a60aa8084be9048ad86",
      "value": " 9913344/? [00:00&lt;00:00, 15297662.78it/s]"
     }
    },
    "72b18b83944a4924804e5ed8a28b0e20": {
     "model_module": "@jupyter-widgets/controls",
     "model_module_version": "1.5.0",
     "model_name": "HBoxModel",
     "state": {
      "_dom_classes": [],
      "_model_module": "@jupyter-widgets/controls",
      "_model_module_version": "1.5.0",
      "_model_name": "HBoxModel",
      "_view_count": null,
      "_view_module": "@jupyter-widgets/controls",
      "_view_module_version": "1.5.0",
      "_view_name": "HBoxView",
      "box_style": "",
      "children": [
       "IPY_MODEL_419af66970b94047b2f0added02b707b",
       "IPY_MODEL_5cf92e0f11344643a74e9a9179839af9",
       "IPY_MODEL_d6c8ce5bdaf24fd18deaf10dec68be7b"
      ],
      "layout": "IPY_MODEL_3086a278a68f49c9a65926930c21f92d"
     }
    },
    "762c8d986e02469a8da28df2240a5b09": {
     "model_module": "@jupyter-widgets/base",
     "model_module_version": "1.2.0",
     "model_name": "LayoutModel",
     "state": {
      "_model_module": "@jupyter-widgets/base",
      "_model_module_version": "1.2.0",
      "_model_name": "LayoutModel",
      "_view_count": null,
      "_view_module": "@jupyter-widgets/base",
      "_view_module_version": "1.2.0",
      "_view_name": "LayoutView",
      "align_content": null,
      "align_items": null,
      "align_self": null,
      "border": null,
      "bottom": null,
      "display": null,
      "flex": null,
      "flex_flow": null,
      "grid_area": null,
      "grid_auto_columns": null,
      "grid_auto_flow": null,
      "grid_auto_rows": null,
      "grid_column": null,
      "grid_gap": null,
      "grid_row": null,
      "grid_template_areas": null,
      "grid_template_columns": null,
      "grid_template_rows": null,
      "height": null,
      "justify_content": null,
      "justify_items": null,
      "left": null,
      "margin": null,
      "max_height": null,
      "max_width": null,
      "min_height": null,
      "min_width": null,
      "object_fit": null,
      "object_position": null,
      "order": null,
      "overflow": null,
      "overflow_x": null,
      "overflow_y": null,
      "padding": null,
      "right": null,
      "top": null,
      "visibility": null,
      "width": null
     }
    },
    "7c64e14307ae41b5a408109798b5c8ce": {
     "model_module": "@jupyter-widgets/controls",
     "model_module_version": "1.5.0",
     "model_name": "HTMLModel",
     "state": {
      "_dom_classes": [],
      "_model_module": "@jupyter-widgets/controls",
      "_model_module_version": "1.5.0",
      "_model_name": "HTMLModel",
      "_view_count": null,
      "_view_module": "@jupyter-widgets/controls",
      "_view_module_version": "1.5.0",
      "_view_name": "HTMLView",
      "description": "",
      "description_tooltip": null,
      "layout": "IPY_MODEL_b5b3281948dc4eeb932fae89fb3a76d1",
      "placeholder": "​",
      "style": "IPY_MODEL_efbcb5a5acf64fc4976ce030bb8fc23a",
      "value": ""
     }
    },
    "8f0bad4244a24b0d8056b5a47df87677": {
     "model_module": "@jupyter-widgets/base",
     "model_module_version": "1.2.0",
     "model_name": "LayoutModel",
     "state": {
      "_model_module": "@jupyter-widgets/base",
      "_model_module_version": "1.2.0",
      "_model_name": "LayoutModel",
      "_view_count": null,
      "_view_module": "@jupyter-widgets/base",
      "_view_module_version": "1.2.0",
      "_view_name": "LayoutView",
      "align_content": null,
      "align_items": null,
      "align_self": null,
      "border": null,
      "bottom": null,
      "display": null,
      "flex": null,
      "flex_flow": null,
      "grid_area": null,
      "grid_auto_columns": null,
      "grid_auto_flow": null,
      "grid_auto_rows": null,
      "grid_column": null,
      "grid_gap": null,
      "grid_row": null,
      "grid_template_areas": null,
      "grid_template_columns": null,
      "grid_template_rows": null,
      "height": null,
      "justify_content": null,
      "justify_items": null,
      "left": null,
      "margin": null,
      "max_height": null,
      "max_width": null,
      "min_height": null,
      "min_width": null,
      "object_fit": null,
      "object_position": null,
      "order": null,
      "overflow": null,
      "overflow_x": null,
      "overflow_y": null,
      "padding": null,
      "right": null,
      "top": null,
      "visibility": null,
      "width": null
     }
    },
    "9df294ff354647f5842ab02d8fa9d93f": {
     "model_module": "@jupyter-widgets/base",
     "model_module_version": "1.2.0",
     "model_name": "LayoutModel",
     "state": {
      "_model_module": "@jupyter-widgets/base",
      "_model_module_version": "1.2.0",
      "_model_name": "LayoutModel",
      "_view_count": null,
      "_view_module": "@jupyter-widgets/base",
      "_view_module_version": "1.2.0",
      "_view_name": "LayoutView",
      "align_content": null,
      "align_items": null,
      "align_self": null,
      "border": null,
      "bottom": null,
      "display": null,
      "flex": null,
      "flex_flow": null,
      "grid_area": null,
      "grid_auto_columns": null,
      "grid_auto_flow": null,
      "grid_auto_rows": null,
      "grid_column": null,
      "grid_gap": null,
      "grid_row": null,
      "grid_template_areas": null,
      "grid_template_columns": null,
      "grid_template_rows": null,
      "height": null,
      "justify_content": null,
      "justify_items": null,
      "left": null,
      "margin": null,
      "max_height": null,
      "max_width": null,
      "min_height": null,
      "min_width": null,
      "object_fit": null,
      "object_position": null,
      "order": null,
      "overflow": null,
      "overflow_x": null,
      "overflow_y": null,
      "padding": null,
      "right": null,
      "top": null,
      "visibility": null,
      "width": null
     }
    },
    "abff364b92c148dcbde860d888e1b917": {
     "model_module": "@jupyter-widgets/base",
     "model_module_version": "1.2.0",
     "model_name": "LayoutModel",
     "state": {
      "_model_module": "@jupyter-widgets/base",
      "_model_module_version": "1.2.0",
      "_model_name": "LayoutModel",
      "_view_count": null,
      "_view_module": "@jupyter-widgets/base",
      "_view_module_version": "1.2.0",
      "_view_name": "LayoutView",
      "align_content": null,
      "align_items": null,
      "align_self": null,
      "border": null,
      "bottom": null,
      "display": null,
      "flex": null,
      "flex_flow": null,
      "grid_area": null,
      "grid_auto_columns": null,
      "grid_auto_flow": null,
      "grid_auto_rows": null,
      "grid_column": null,
      "grid_gap": null,
      "grid_row": null,
      "grid_template_areas": null,
      "grid_template_columns": null,
      "grid_template_rows": null,
      "height": null,
      "justify_content": null,
      "justify_items": null,
      "left": null,
      "margin": null,
      "max_height": null,
      "max_width": null,
      "min_height": null,
      "min_width": null,
      "object_fit": null,
      "object_position": null,
      "order": null,
      "overflow": null,
      "overflow_x": null,
      "overflow_y": null,
      "padding": null,
      "right": null,
      "top": null,
      "visibility": null,
      "width": null
     }
    },
    "b2939313a0124c55acb182c4f015fe7c": {
     "model_module": "@jupyter-widgets/controls",
     "model_module_version": "1.5.0",
     "model_name": "HTMLModel",
     "state": {
      "_dom_classes": [],
      "_model_module": "@jupyter-widgets/controls",
      "_model_module_version": "1.5.0",
      "_model_name": "HTMLModel",
      "_view_count": null,
      "_view_module": "@jupyter-widgets/controls",
      "_view_module_version": "1.5.0",
      "_view_name": "HTMLView",
      "description": "",
      "description_tooltip": null,
      "layout": "IPY_MODEL_b7b9f76dd8dd4071912fa4c5b565aebd",
      "placeholder": "​",
      "style": "IPY_MODEL_3dfb21f94fe84d42ae5c66df9aed07aa",
      "value": " 29696/? [00:00&lt;00:00, 888719.60it/s]"
     }
    },
    "b5b3281948dc4eeb932fae89fb3a76d1": {
     "model_module": "@jupyter-widgets/base",
     "model_module_version": "1.2.0",
     "model_name": "LayoutModel",
     "state": {
      "_model_module": "@jupyter-widgets/base",
      "_model_module_version": "1.2.0",
      "_model_name": "LayoutModel",
      "_view_count": null,
      "_view_module": "@jupyter-widgets/base",
      "_view_module_version": "1.2.0",
      "_view_name": "LayoutView",
      "align_content": null,
      "align_items": null,
      "align_self": null,
      "border": null,
      "bottom": null,
      "display": null,
      "flex": null,
      "flex_flow": null,
      "grid_area": null,
      "grid_auto_columns": null,
      "grid_auto_flow": null,
      "grid_auto_rows": null,
      "grid_column": null,
      "grid_gap": null,
      "grid_row": null,
      "grid_template_areas": null,
      "grid_template_columns": null,
      "grid_template_rows": null,
      "height": null,
      "justify_content": null,
      "justify_items": null,
      "left": null,
      "margin": null,
      "max_height": null,
      "max_width": null,
      "min_height": null,
      "min_width": null,
      "object_fit": null,
      "object_position": null,
      "order": null,
      "overflow": null,
      "overflow_x": null,
      "overflow_y": null,
      "padding": null,
      "right": null,
      "top": null,
      "visibility": null,
      "width": null
     }
    },
    "b7b9f76dd8dd4071912fa4c5b565aebd": {
     "model_module": "@jupyter-widgets/base",
     "model_module_version": "1.2.0",
     "model_name": "LayoutModel",
     "state": {
      "_model_module": "@jupyter-widgets/base",
      "_model_module_version": "1.2.0",
      "_model_name": "LayoutModel",
      "_view_count": null,
      "_view_module": "@jupyter-widgets/base",
      "_view_module_version": "1.2.0",
      "_view_name": "LayoutView",
      "align_content": null,
      "align_items": null,
      "align_self": null,
      "border": null,
      "bottom": null,
      "display": null,
      "flex": null,
      "flex_flow": null,
      "grid_area": null,
      "grid_auto_columns": null,
      "grid_auto_flow": null,
      "grid_auto_rows": null,
      "grid_column": null,
      "grid_gap": null,
      "grid_row": null,
      "grid_template_areas": null,
      "grid_template_columns": null,
      "grid_template_rows": null,
      "height": null,
      "justify_content": null,
      "justify_items": null,
      "left": null,
      "margin": null,
      "max_height": null,
      "max_width": null,
      "min_height": null,
      "min_width": null,
      "object_fit": null,
      "object_position": null,
      "order": null,
      "overflow": null,
      "overflow_x": null,
      "overflow_y": null,
      "padding": null,
      "right": null,
      "top": null,
      "visibility": null,
      "width": null
     }
    },
    "bafb26f7e0d44920aa0885de4aa05597": {
     "model_module": "@jupyter-widgets/controls",
     "model_module_version": "1.5.0",
     "model_name": "FloatProgressModel",
     "state": {
      "_dom_classes": [],
      "_model_module": "@jupyter-widgets/controls",
      "_model_module_version": "1.5.0",
      "_model_name": "FloatProgressModel",
      "_view_count": null,
      "_view_module": "@jupyter-widgets/controls",
      "_view_module_version": "1.5.0",
      "_view_name": "ProgressView",
      "bar_style": "success",
      "description": "",
      "description_tooltip": null,
      "layout": "IPY_MODEL_596d22f45c4e45f5a05dea2e80f4edc2",
      "max": 1648877,
      "min": 0,
      "orientation": "horizontal",
      "style": "IPY_MODEL_dfd85042370942678709d16408e444ac",
      "value": 1648877
     }
    },
    "c4d33d8eb2f246eea9314d8ee530e0dd": {
     "model_module": "@jupyter-widgets/controls",
     "model_module_version": "1.5.0",
     "model_name": "FloatProgressModel",
     "state": {
      "_dom_classes": [],
      "_model_module": "@jupyter-widgets/controls",
      "_model_module_version": "1.5.0",
      "_model_name": "FloatProgressModel",
      "_view_count": null,
      "_view_module": "@jupyter-widgets/controls",
      "_view_module_version": "1.5.0",
      "_view_name": "ProgressView",
      "bar_style": "success",
      "description": "",
      "description_tooltip": null,
      "layout": "IPY_MODEL_100aabb808784d1ab986499b0c8dc192",
      "max": 9912422,
      "min": 0,
      "orientation": "horizontal",
      "style": "IPY_MODEL_2353cf58277a4dc58ceffa7b6edc3ea7",
      "value": 9912422
     }
    },
    "cb207955e8fe4da8a9e25a0c91f6ed68": {
     "model_module": "@jupyter-widgets/controls",
     "model_module_version": "1.5.0",
     "model_name": "HBoxModel",
     "state": {
      "_dom_classes": [],
      "_model_module": "@jupyter-widgets/controls",
      "_model_module_version": "1.5.0",
      "_model_name": "HBoxModel",
      "_view_count": null,
      "_view_module": "@jupyter-widgets/controls",
      "_view_module_version": "1.5.0",
      "_view_name": "HBoxView",
      "box_style": "",
      "children": [
       "IPY_MODEL_7c64e14307ae41b5a408109798b5c8ce",
       "IPY_MODEL_bafb26f7e0d44920aa0885de4aa05597",
       "IPY_MODEL_f7ea7e1522a844598c11f1f4e9f2acaf"
      ],
      "layout": "IPY_MODEL_1aa106dfa60f422dae2382dde6c478ca"
     }
    },
    "cd105d3b594e48acbd0845781ec20a2d": {
     "model_module": "@jupyter-widgets/controls",
     "model_module_version": "1.5.0",
     "model_name": "DescriptionStyleModel",
     "state": {
      "_model_module": "@jupyter-widgets/controls",
      "_model_module_version": "1.5.0",
      "_model_name": "DescriptionStyleModel",
      "_view_count": null,
      "_view_module": "@jupyter-widgets/base",
      "_view_module_version": "1.2.0",
      "_view_name": "StyleView",
      "description_width": ""
     }
    },
    "cfd7c67716e5410990c26a1da61a5aba": {
     "model_module": "@jupyter-widgets/controls",
     "model_module_version": "1.5.0",
     "model_name": "HTMLModel",
     "state": {
      "_dom_classes": [],
      "_model_module": "@jupyter-widgets/controls",
      "_model_module_version": "1.5.0",
      "_model_name": "HTMLModel",
      "_view_count": null,
      "_view_module": "@jupyter-widgets/controls",
      "_view_module_version": "1.5.0",
      "_view_name": "HTMLView",
      "description": "",
      "description_tooltip": null,
      "layout": "IPY_MODEL_fea8f6330b694f04a8bb891575df8346",
      "placeholder": "​",
      "style": "IPY_MODEL_cd105d3b594e48acbd0845781ec20a2d",
      "value": ""
     }
    },
    "d6c8ce5bdaf24fd18deaf10dec68be7b": {
     "model_module": "@jupyter-widgets/controls",
     "model_module_version": "1.5.0",
     "model_name": "HTMLModel",
     "state": {
      "_dom_classes": [],
      "_model_module": "@jupyter-widgets/controls",
      "_model_module_version": "1.5.0",
      "_model_name": "HTMLModel",
      "_view_count": null,
      "_view_module": "@jupyter-widgets/controls",
      "_view_module_version": "1.5.0",
      "_view_name": "HTMLView",
      "description": "",
      "description_tooltip": null,
      "layout": "IPY_MODEL_1a45ba1cb45647b6a87e5fea6fcc05f4",
      "placeholder": "​",
      "style": "IPY_MODEL_074fda987b084b1aa8eacb9b480ea864",
      "value": " 5120/? [00:00&lt;00:00, 149537.88it/s]"
     }
    },
    "dfd85042370942678709d16408e444ac": {
     "model_module": "@jupyter-widgets/controls",
     "model_module_version": "1.5.0",
     "model_name": "ProgressStyleModel",
     "state": {
      "_model_module": "@jupyter-widgets/controls",
      "_model_module_version": "1.5.0",
      "_model_name": "ProgressStyleModel",
      "_view_count": null,
      "_view_module": "@jupyter-widgets/base",
      "_view_module_version": "1.2.0",
      "_view_name": "StyleView",
      "bar_color": null,
      "description_width": ""
     }
    },
    "efbcb5a5acf64fc4976ce030bb8fc23a": {
     "model_module": "@jupyter-widgets/controls",
     "model_module_version": "1.5.0",
     "model_name": "DescriptionStyleModel",
     "state": {
      "_model_module": "@jupyter-widgets/controls",
      "_model_module_version": "1.5.0",
      "_model_name": "DescriptionStyleModel",
      "_view_count": null,
      "_view_module": "@jupyter-widgets/base",
      "_view_module_version": "1.2.0",
      "_view_name": "StyleView",
      "description_width": ""
     }
    },
    "f7ea7e1522a844598c11f1f4e9f2acaf": {
     "model_module": "@jupyter-widgets/controls",
     "model_module_version": "1.5.0",
     "model_name": "HTMLModel",
     "state": {
      "_dom_classes": [],
      "_model_module": "@jupyter-widgets/controls",
      "_model_module_version": "1.5.0",
      "_model_name": "HTMLModel",
      "_view_count": null,
      "_view_module": "@jupyter-widgets/controls",
      "_view_module_version": "1.5.0",
      "_view_name": "HTMLView",
      "description": "",
      "description_tooltip": null,
      "layout": "IPY_MODEL_51dc312f92244353b0d1f57f941bd370",
      "placeholder": "​",
      "style": "IPY_MODEL_702c8becead445ac83d717a73929972f",
      "value": " 1649664/? [00:00&lt;00:00, 10372610.56it/s]"
     }
    },
    "fea8f6330b694f04a8bb891575df8346": {
     "model_module": "@jupyter-widgets/base",
     "model_module_version": "1.2.0",
     "model_name": "LayoutModel",
     "state": {
      "_model_module": "@jupyter-widgets/base",
      "_model_module_version": "1.2.0",
      "_model_name": "LayoutModel",
      "_view_count": null,
      "_view_module": "@jupyter-widgets/base",
      "_view_module_version": "1.2.0",
      "_view_name": "LayoutView",
      "align_content": null,
      "align_items": null,
      "align_self": null,
      "border": null,
      "bottom": null,
      "display": null,
      "flex": null,
      "flex_flow": null,
      "grid_area": null,
      "grid_auto_columns": null,
      "grid_auto_flow": null,
      "grid_auto_rows": null,
      "grid_column": null,
      "grid_gap": null,
      "grid_row": null,
      "grid_template_areas": null,
      "grid_template_columns": null,
      "grid_template_rows": null,
      "height": null,
      "justify_content": null,
      "justify_items": null,
      "left": null,
      "margin": null,
      "max_height": null,
      "max_width": null,
      "min_height": null,
      "min_width": null,
      "object_fit": null,
      "object_position": null,
      "order": null,
      "overflow": null,
      "overflow_x": null,
      "overflow_y": null,
      "padding": null,
      "right": null,
      "top": null,
      "visibility": null,
      "width": null
     }
    }
   }
  }
 },
 "nbformat": 4,
 "nbformat_minor": 1
}
