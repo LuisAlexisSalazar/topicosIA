{
 "cells": [
  {
   "cell_type": "code",
   "execution_count": 1,
   "id": "d3289455",
   "metadata": {},
   "outputs": [],
   "source": [
    "import numpy as np\n",
    "# shift + tab + tab ver parametros"
   ]
  },
  {
   "cell_type": "code",
   "execution_count": 4,
   "id": "82285420",
   "metadata": {},
   "outputs": [
    {
     "data": {
      "text/plain": [
       "array([[0., 0., 0., 0.],\n",
       "       [0., 0., 0., 0.],\n",
       "       [0., 0., 0., 0.],\n",
       "       [0., 0., 0., 0.]])"
      ]
     },
     "execution_count": 4,
     "metadata": {},
     "output_type": "execute_result"
    }
   ],
   "source": [
    "matrix = np.zeros((4,4))\n",
    "matrix"
   ]
  },
  {
   "cell_type": "code",
   "execution_count": 6,
   "id": "a837fff7",
   "metadata": {},
   "outputs": [
    {
     "data": {
      "text/plain": [
       "array([[ 1,  5,  1, 10, 10,  4,  3, 13, 11, 11],\n",
       "       [ 4, 14,  5, 13, 14, 12,  2, 13,  4,  4],\n",
       "       [14,  8, 19, 19, 19, 10,  9,  1,  7, 12],\n",
       "       [16, 18,  2,  1, 11, 17,  1, 14, 11, 17],\n",
       "       [14, 11, 13,  3, 14,  4, 16,  2,  8, 16],\n",
       "       [ 8, 13, 14, 10,  3,  2, 13,  5,  8, 12],\n",
       "       [ 7, 13,  3, 10,  1, 12, 19,  3, 10,  5]])"
      ]
     },
     "execution_count": 6,
     "metadata": {},
     "output_type": "execute_result"
    }
   ],
   "source": [
    "limit_random = 20\n",
    "matrix = np.random.randint(low = 1,high = limit_random, size=(7, 10))\n",
    "matrix"
   ]
  },
  {
   "cell_type": "code",
   "execution_count": 8,
   "id": "44dafa35",
   "metadata": {},
   "outputs": [
    {
     "data": {
      "text/plain": [
       "array([[1., 1., 1., 1.],\n",
       "       [1., 1., 1., 1.],\n",
       "       [1., 1., 1., 1.],\n",
       "       [1., 1., 1., 1.]])"
      ]
     },
     "execution_count": 8,
     "metadata": {},
     "output_type": "execute_result"
    }
   ],
   "source": [
    "matrix = np.ones((4,4))\n",
    "matrix"
   ]
  },
  {
   "cell_type": "code",
   "execution_count": 40,
   "id": "0f16a912",
   "metadata": {},
   "outputs": [],
   "source": [
    "# calculadoras de matrices : sumas, restar, multiplicar, imprimir la diagonal(las 2 diagonales), sacar determinante\n",
    "\n",
    "def suma(matrix_A: np.ndarray, matrix_B: np.ndarray):\n",
    "    return matrix_A + matrix_B\n",
    "        \n",
    "\n",
    "def restar(matrix_A: np.ndarray, matrix_B: np.ndarray):\n",
    "    return matrix_A - matrix_B\n",
    "    \n",
    "def mult_matrix(matrix_A: np.ndarray, matrix_B: np.ndarray):\n",
    "    row_A, col_A = matrix_A.shape\n",
    "    row_B, col_B = matrix_B.shape\n",
    "    matrix_Result = []\n",
    "\n",
    "    if col_A == row_B:\n",
    "        matrix_B = matrix_B.transpose()\n",
    "        for i in range(row_A):\n",
    "            new_row = []\n",
    "            for j in range(col_B):\n",
    "                # item = mult_array(matrix_A[i], matrix_B[j])\n",
    "                item = (matrix_A[i] * matrix_B[j]).sum()\n",
    "                new_row.append(item)\n",
    "            matrix_Result.append(new_row)\n",
    "        return np.array(matrix_Result)\n",
    "    else:\n",
    "        print(\n",
    "            \"La segunda dimensión de la primera matriz debe ser igual a la primera dimensión de la segunda matriz\"\n",
    "        )\n",
    "        \n",
    "def diagonal(matrix ,diagonal_main = True):\n",
    "    if diagonal_main:\n",
    "        main_diagonal = matrix.diagonal()\n",
    "        return  main_diagonal\n",
    "    else:\n",
    "        fila,columna = matrix.shape\n",
    "        diagonal_secondary = []\n",
    "        for i in range(fila):\n",
    "            diagonal_secondary.append(matrix[i][(columna-1)-i])\n",
    "        return diagonal_secondary\n",
    "\n",
    "def determinate(matrix):\n",
    "    return np.linalg.det(matrix)\n",
    "    \n"
   ]
  },
  {
   "cell_type": "code",
   "execution_count": null,
   "id": "baa5b3b6",
   "metadata": {},
   "outputs": [],
   "source": [
    "def input_matrix(orden):\n",
    "    row = int(input(\"Ingrese el numero de filas de la \" + orden+ \" matrix:\"))\n",
    "    col = int(input(\"Ingrese el numero de columnas de la \"+orden +  \" matrix\"))\n",
    "  \n",
    "    # Initialize matrix\n",
    "    matrix = []\n",
    "    print(\"Ingrese:\")\n",
    "  \n",
    "    for i in range(row):          \n",
    "        a =[]\n",
    "        for j in range(col):      \n",
    "             a.append(int(input()))\n",
    "        matrix.append(a)\n",
    "    \n",
    "    return matrix\n",
    "\n",
    "def calculadora():\n",
    "    m1 = np.array(input_matrix(\"primera\"))\n",
    "#     m2 = np.array(input_matrix(\"segunda\"))\n",
    "    \n",
    "    print(m1)\n",
    "    \n",
    "#     print(\"Suma:1\")\n",
    "#     print(\"Resta:2\")\n",
    "#     print(\"Multiplicación:3\")\n",
    "#     print(\"Diagonal:4\")\n",
    "#     print(\"Determinante:5\")\n",
    "    \n",
    "#     operation = input(\"Seleccione la operación:\")\n",
    "    \n",
    "#     if operation == \"1\":\n",
    "#         result = suma(m1,m2)\n",
    "#         print(result)\n",
    "#     elif operation==\"2\":\n",
    "#         result =restar(m1,m2)\n",
    "#         print(result)\n",
    "#     elif operation==\"3\":\n",
    "#         result = mult_matrix(m1,m2)\n",
    "#         print(result)\n",
    "#     elif operation==\"4\":\n",
    "#         print(\"Diagonal principal:1\")\n",
    "#         print(\"Diagonal secundaria:2\")\n",
    "#         opcion = input(\"Seleccione la opción\")\n",
    "#         if opcion==\"1\":\n",
    "#             print(\"Diagonal de la Matrix 1 = \",diagonal(m1))\n",
    "#             print(\"Diagonal de la Matrix 2 = \",diagonal(m2))\n",
    "#         elif opcion==\"2\":\n",
    "#             print(\"Diagonal de la Matrix 1 = \",diagonal(m1,False))\n",
    "#             print(\"Diagonal de la Matrix 2 = \",diagonal(m2,False))\n",
    "#         else:\n",
    "#             print(\"operación no valida\")\n",
    "#     elif determinate==\"5\":\n",
    "#         determinate(\"Determinante de la matrix 1 = \",m1)\n",
    "#         determinate(\"Determinante de la matrix 2 = \",m2)\n",
    "#     else:\n",
    "#         print(\"Operación no valida\")"
   ]
  },
  {
   "cell_type": "code",
   "execution_count": null,
   "id": "e3bd0bd5",
   "metadata": {},
   "outputs": [],
   "source": [
    "calculadora()\n"
   ]
  },
  {
   "cell_type": "markdown",
   "id": "e1a4d3f9",
   "metadata": {},
   "source": [
    "### Probando metodos: "
   ]
  },
  {
   "cell_type": "code",
   "execution_count": 43,
   "id": "c7236ab9",
   "metadata": {},
   "outputs": [],
   "source": [
    "new_matrix_1 = np.random.randint(low = 1,high = limit_random, size=(3, 3))\n",
    "new_matrix_2 = np.random.randint(low = 1,high = limit_random, size=(3, 3))"
   ]
  },
  {
   "cell_type": "code",
   "execution_count": 53,
   "id": "a4d94e1f",
   "metadata": {},
   "outputs": [
    {
     "data": {
      "text/plain": [
       "array([[11,  8,  8],\n",
       "       [12,  1, 14],\n",
       "       [ 9,  2,  6]])"
      ]
     },
     "execution_count": 53,
     "metadata": {},
     "output_type": "execute_result"
    }
   ],
   "source": [
    "new_matrix_1"
   ]
  },
  {
   "cell_type": "code",
   "execution_count": 54,
   "id": "18a7b3d0",
   "metadata": {},
   "outputs": [
    {
     "data": {
      "text/plain": [
       "array([[ 1,  5, 13],\n",
       "       [16,  6,  1],\n",
       "       [11, 17,  1]])"
      ]
     },
     "execution_count": 54,
     "metadata": {},
     "output_type": "execute_result"
    }
   ],
   "source": [
    "new_matrix_2"
   ]
  },
  {
   "cell_type": "code",
   "execution_count": 44,
   "id": "d3d869c9",
   "metadata": {},
   "outputs": [
    {
     "data": {
      "text/plain": [
       "array([[12, 13, 21],\n",
       "       [28,  7, 15],\n",
       "       [20, 19,  7]])"
      ]
     },
     "execution_count": 44,
     "metadata": {},
     "output_type": "execute_result"
    }
   ],
   "source": [
    "suma(new_matrix_1,new_matrix_2)"
   ]
  },
  {
   "cell_type": "code",
   "execution_count": 45,
   "id": "23ba023d",
   "metadata": {},
   "outputs": [
    {
     "data": {
      "text/plain": [
       "array([[ 10,   3,  -5],\n",
       "       [ -4,  -5,  13],\n",
       "       [ -2, -15,   5]])"
      ]
     },
     "execution_count": 45,
     "metadata": {},
     "output_type": "execute_result"
    }
   ],
   "source": [
    "restar(new_matrix_1,new_matrix_2)"
   ]
  },
  {
   "cell_type": "code",
   "execution_count": 46,
   "id": "2b78fd6f",
   "metadata": {},
   "outputs": [
    {
     "data": {
      "text/plain": [
       "array([[227, 239, 159],\n",
       "       [182, 304, 171],\n",
       "       [107, 159, 125]])"
      ]
     },
     "execution_count": 46,
     "metadata": {},
     "output_type": "execute_result"
    }
   ],
   "source": [
    "mult_matrix(new_matrix_1,new_matrix_2)"
   ]
  },
  {
   "cell_type": "code",
   "execution_count": 50,
   "id": "1c9238e9",
   "metadata": {},
   "outputs": [
    {
     "data": {
      "text/plain": [
       "array([11,  1,  6])"
      ]
     },
     "execution_count": 50,
     "metadata": {},
     "output_type": "execute_result"
    }
   ],
   "source": [
    "diagonal(new_matrix_1)"
   ]
  },
  {
   "cell_type": "code",
   "execution_count": 51,
   "id": "a33ee130",
   "metadata": {},
   "outputs": [
    {
     "data": {
      "text/plain": [
       "[8, 1, 9]"
      ]
     },
     "execution_count": 51,
     "metadata": {},
     "output_type": "execute_result"
    }
   ],
   "source": [
    "diagonal(new_matrix_1,False)"
   ]
  },
  {
   "cell_type": "code",
   "execution_count": 52,
   "id": "086cf145",
   "metadata": {},
   "outputs": [
    {
     "data": {
      "text/plain": [
       "310.00000000000006"
      ]
     },
     "execution_count": 52,
     "metadata": {},
     "output_type": "execute_result"
    }
   ],
   "source": [
    "determinate(new_matrix_1)"
   ]
  },
  {
   "cell_type": "markdown",
   "id": "067b432d",
   "metadata": {},
   "source": [
    "### Interacción con usuario"
   ]
  },
  {
   "cell_type": "code",
   "execution_count": null,
   "id": "d2950fcc",
   "metadata": {},
   "outputs": [],
   "source": []
  }
 ],
 "metadata": {
  "kernelspec": {
   "display_name": "Python 3 (ipykernel)",
   "language": "python",
   "name": "python3"
  },
  "language_info": {
   "codemirror_mode": {
    "name": "ipython",
    "version": 3
   },
   "file_extension": ".py",
   "mimetype": "text/x-python",
   "name": "python",
   "nbconvert_exporter": "python",
   "pygments_lexer": "ipython3",
   "version": "3.9.7"
  }
 },
 "nbformat": 4,
 "nbformat_minor": 5
}
