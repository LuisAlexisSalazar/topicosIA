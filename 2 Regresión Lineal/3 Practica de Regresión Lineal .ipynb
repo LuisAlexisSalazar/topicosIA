{
 "cells": [
  {
   "cell_type": "code",
   "execution_count": 72,
   "id": "0d8525b7",
   "metadata": {},
   "outputs": [],
   "source": [
    "import pandas as pd\n",
    "import numpy as np\n",
    "import matplotlib.pyplot as plt"
   ]
  },
  {
   "cell_type": "markdown",
   "id": "a9845369",
   "metadata": {},
   "source": [
    "## Descargar los datos\n",
    "<!-- **Link del dataset:https://www.kaggle.com/datasets/knightbearr/pizza-price-prediction-real-data** -->\n",
    "**Link del dataset:https://www.kaggle.com/datasets/CooperUnion/cardataset**\n",
    "<br>\n",
    "MSRP : Manufacturer's Suggested Retail Price\n",
    "<br>\n",
    "HP : Horsepower "
   ]
  },
  {
   "cell_type": "markdown",
   "id": "f082a455",
   "metadata": {},
   "source": [
    "## Lecturas de Datos"
   ]
  },
  {
   "cell_type": "code",
   "execution_count": 73,
   "id": "9f922314",
   "metadata": {},
   "outputs": [
    {
     "data": {
      "text/html": [
       "<div>\n",
       "<style scoped>\n",
       "    .dataframe tbody tr th:only-of-type {\n",
       "        vertical-align: middle;\n",
       "    }\n",
       "\n",
       "    .dataframe tbody tr th {\n",
       "        vertical-align: top;\n",
       "    }\n",
       "\n",
       "    .dataframe thead th {\n",
       "        text-align: right;\n",
       "    }\n",
       "</style>\n",
       "<table border=\"1\" class=\"dataframe\">\n",
       "  <thead>\n",
       "    <tr style=\"text-align: right;\">\n",
       "      <th></th>\n",
       "      <th>Make</th>\n",
       "      <th>Model</th>\n",
       "      <th>Year</th>\n",
       "      <th>Engine Fuel Type</th>\n",
       "      <th>Engine HP</th>\n",
       "      <th>Engine Cylinders</th>\n",
       "      <th>Transmission Type</th>\n",
       "      <th>Driven_Wheels</th>\n",
       "      <th>Number of Doors</th>\n",
       "      <th>Market Category</th>\n",
       "      <th>Vehicle Size</th>\n",
       "      <th>Vehicle Style</th>\n",
       "      <th>highway MPG</th>\n",
       "      <th>city mpg</th>\n",
       "      <th>Popularity</th>\n",
       "      <th>MSRP</th>\n",
       "    </tr>\n",
       "  </thead>\n",
       "  <tbody>\n",
       "    <tr>\n",
       "      <th>0</th>\n",
       "      <td>BMW</td>\n",
       "      <td>1 Series M</td>\n",
       "      <td>2011</td>\n",
       "      <td>premium unleaded (required)</td>\n",
       "      <td>335.0</td>\n",
       "      <td>6.0</td>\n",
       "      <td>MANUAL</td>\n",
       "      <td>rear wheel drive</td>\n",
       "      <td>2.0</td>\n",
       "      <td>Factory Tuner,Luxury,High-Performance</td>\n",
       "      <td>Compact</td>\n",
       "      <td>Coupe</td>\n",
       "      <td>26</td>\n",
       "      <td>19</td>\n",
       "      <td>3916</td>\n",
       "      <td>46135</td>\n",
       "    </tr>\n",
       "    <tr>\n",
       "      <th>1</th>\n",
       "      <td>BMW</td>\n",
       "      <td>1 Series</td>\n",
       "      <td>2011</td>\n",
       "      <td>premium unleaded (required)</td>\n",
       "      <td>300.0</td>\n",
       "      <td>6.0</td>\n",
       "      <td>MANUAL</td>\n",
       "      <td>rear wheel drive</td>\n",
       "      <td>2.0</td>\n",
       "      <td>Luxury,Performance</td>\n",
       "      <td>Compact</td>\n",
       "      <td>Convertible</td>\n",
       "      <td>28</td>\n",
       "      <td>19</td>\n",
       "      <td>3916</td>\n",
       "      <td>40650</td>\n",
       "    </tr>\n",
       "    <tr>\n",
       "      <th>2</th>\n",
       "      <td>BMW</td>\n",
       "      <td>1 Series</td>\n",
       "      <td>2011</td>\n",
       "      <td>premium unleaded (required)</td>\n",
       "      <td>300.0</td>\n",
       "      <td>6.0</td>\n",
       "      <td>MANUAL</td>\n",
       "      <td>rear wheel drive</td>\n",
       "      <td>2.0</td>\n",
       "      <td>Luxury,High-Performance</td>\n",
       "      <td>Compact</td>\n",
       "      <td>Coupe</td>\n",
       "      <td>28</td>\n",
       "      <td>20</td>\n",
       "      <td>3916</td>\n",
       "      <td>36350</td>\n",
       "    </tr>\n",
       "    <tr>\n",
       "      <th>3</th>\n",
       "      <td>BMW</td>\n",
       "      <td>1 Series</td>\n",
       "      <td>2011</td>\n",
       "      <td>premium unleaded (required)</td>\n",
       "      <td>230.0</td>\n",
       "      <td>6.0</td>\n",
       "      <td>MANUAL</td>\n",
       "      <td>rear wheel drive</td>\n",
       "      <td>2.0</td>\n",
       "      <td>Luxury,Performance</td>\n",
       "      <td>Compact</td>\n",
       "      <td>Coupe</td>\n",
       "      <td>28</td>\n",
       "      <td>18</td>\n",
       "      <td>3916</td>\n",
       "      <td>29450</td>\n",
       "    </tr>\n",
       "    <tr>\n",
       "      <th>4</th>\n",
       "      <td>BMW</td>\n",
       "      <td>1 Series</td>\n",
       "      <td>2011</td>\n",
       "      <td>premium unleaded (required)</td>\n",
       "      <td>230.0</td>\n",
       "      <td>6.0</td>\n",
       "      <td>MANUAL</td>\n",
       "      <td>rear wheel drive</td>\n",
       "      <td>2.0</td>\n",
       "      <td>Luxury</td>\n",
       "      <td>Compact</td>\n",
       "      <td>Convertible</td>\n",
       "      <td>28</td>\n",
       "      <td>18</td>\n",
       "      <td>3916</td>\n",
       "      <td>34500</td>\n",
       "    </tr>\n",
       "  </tbody>\n",
       "</table>\n",
       "</div>"
      ],
      "text/plain": [
       "  Make       Model  Year             Engine Fuel Type  Engine HP  \\\n",
       "0  BMW  1 Series M  2011  premium unleaded (required)      335.0   \n",
       "1  BMW    1 Series  2011  premium unleaded (required)      300.0   \n",
       "2  BMW    1 Series  2011  premium unleaded (required)      300.0   \n",
       "3  BMW    1 Series  2011  premium unleaded (required)      230.0   \n",
       "4  BMW    1 Series  2011  premium unleaded (required)      230.0   \n",
       "\n",
       "   Engine Cylinders Transmission Type     Driven_Wheels  Number of Doors  \\\n",
       "0               6.0            MANUAL  rear wheel drive              2.0   \n",
       "1               6.0            MANUAL  rear wheel drive              2.0   \n",
       "2               6.0            MANUAL  rear wheel drive              2.0   \n",
       "3               6.0            MANUAL  rear wheel drive              2.0   \n",
       "4               6.0            MANUAL  rear wheel drive              2.0   \n",
       "\n",
       "                         Market Category Vehicle Size Vehicle Style  \\\n",
       "0  Factory Tuner,Luxury,High-Performance      Compact         Coupe   \n",
       "1                     Luxury,Performance      Compact   Convertible   \n",
       "2                Luxury,High-Performance      Compact         Coupe   \n",
       "3                     Luxury,Performance      Compact         Coupe   \n",
       "4                                 Luxury      Compact   Convertible   \n",
       "\n",
       "   highway MPG  city mpg  Popularity   MSRP  \n",
       "0           26        19        3916  46135  \n",
       "1           28        19        3916  40650  \n",
       "2           28        20        3916  36350  \n",
       "3           28        18        3916  29450  \n",
       "4           28        18        3916  34500  "
      ]
     },
     "execution_count": 73,
     "metadata": {},
     "output_type": "execute_result"
    }
   ],
   "source": [
    "# El dataset sobre carros\n",
    "df = pd.read_csv(\"data/data.csv\")\n",
    "df.head()"
   ]
  },
  {
   "cell_type": "code",
   "execution_count": 74,
   "id": "5af93656",
   "metadata": {},
   "outputs": [
    {
     "data": {
      "text/html": [
       "<div>\n",
       "<style scoped>\n",
       "    .dataframe tbody tr th:only-of-type {\n",
       "        vertical-align: middle;\n",
       "    }\n",
       "\n",
       "    .dataframe tbody tr th {\n",
       "        vertical-align: top;\n",
       "    }\n",
       "\n",
       "    .dataframe thead th {\n",
       "        text-align: right;\n",
       "    }\n",
       "</style>\n",
       "<table border=\"1\" class=\"dataframe\">\n",
       "  <thead>\n",
       "    <tr style=\"text-align: right;\">\n",
       "      <th></th>\n",
       "      <th>Engine HP</th>\n",
       "      <th>MSRP</th>\n",
       "    </tr>\n",
       "  </thead>\n",
       "  <tbody>\n",
       "    <tr>\n",
       "      <th>0</th>\n",
       "      <td>335.0</td>\n",
       "      <td>46135</td>\n",
       "    </tr>\n",
       "    <tr>\n",
       "      <th>1</th>\n",
       "      <td>300.0</td>\n",
       "      <td>40650</td>\n",
       "    </tr>\n",
       "    <tr>\n",
       "      <th>2</th>\n",
       "      <td>300.0</td>\n",
       "      <td>36350</td>\n",
       "    </tr>\n",
       "    <tr>\n",
       "      <th>3</th>\n",
       "      <td>230.0</td>\n",
       "      <td>29450</td>\n",
       "    </tr>\n",
       "    <tr>\n",
       "      <th>4</th>\n",
       "      <td>230.0</td>\n",
       "      <td>34500</td>\n",
       "    </tr>\n",
       "    <tr>\n",
       "      <th>...</th>\n",
       "      <td>...</td>\n",
       "      <td>...</td>\n",
       "    </tr>\n",
       "    <tr>\n",
       "      <th>11909</th>\n",
       "      <td>300.0</td>\n",
       "      <td>46120</td>\n",
       "    </tr>\n",
       "    <tr>\n",
       "      <th>11910</th>\n",
       "      <td>300.0</td>\n",
       "      <td>56670</td>\n",
       "    </tr>\n",
       "    <tr>\n",
       "      <th>11911</th>\n",
       "      <td>300.0</td>\n",
       "      <td>50620</td>\n",
       "    </tr>\n",
       "    <tr>\n",
       "      <th>11912</th>\n",
       "      <td>300.0</td>\n",
       "      <td>50920</td>\n",
       "    </tr>\n",
       "    <tr>\n",
       "      <th>11913</th>\n",
       "      <td>221.0</td>\n",
       "      <td>28995</td>\n",
       "    </tr>\n",
       "  </tbody>\n",
       "</table>\n",
       "<p>11914 rows × 2 columns</p>\n",
       "</div>"
      ],
      "text/plain": [
       "       Engine HP   MSRP\n",
       "0          335.0  46135\n",
       "1          300.0  40650\n",
       "2          300.0  36350\n",
       "3          230.0  29450\n",
       "4          230.0  34500\n",
       "...          ...    ...\n",
       "11909      300.0  46120\n",
       "11910      300.0  56670\n",
       "11911      300.0  50620\n",
       "11912      300.0  50920\n",
       "11913      221.0  28995\n",
       "\n",
       "[11914 rows x 2 columns]"
      ]
     },
     "execution_count": 74,
     "metadata": {},
     "output_type": "execute_result"
    }
   ],
   "source": [
    "df = df[['Engine HP','MSRP']]\n",
    "df"
   ]
  },
  {
   "cell_type": "code",
   "execution_count": 75,
   "id": "c7e7827a",
   "metadata": {},
   "outputs": [
    {
     "name": "stdout",
     "output_type": "stream",
     "text": [
      "<class 'pandas.core.frame.DataFrame'>\n",
      "RangeIndex: 11914 entries, 0 to 11913\n",
      "Data columns (total 2 columns):\n",
      " #   Column     Non-Null Count  Dtype  \n",
      "---  ------     --------------  -----  \n",
      " 0   Engine HP  11845 non-null  float64\n",
      " 1   MSRP       11914 non-null  int64  \n",
      "dtypes: float64(1), int64(1)\n",
      "memory usage: 186.3 KB\n"
     ]
    }
   ],
   "source": [
    "df.info()"
   ]
  },
  {
   "cell_type": "code",
   "execution_count": 76,
   "id": "21ac6e58",
   "metadata": {},
   "outputs": [
    {
     "data": {
      "text/html": [
       "<div>\n",
       "<style scoped>\n",
       "    .dataframe tbody tr th:only-of-type {\n",
       "        vertical-align: middle;\n",
       "    }\n",
       "\n",
       "    .dataframe tbody tr th {\n",
       "        vertical-align: top;\n",
       "    }\n",
       "\n",
       "    .dataframe thead th {\n",
       "        text-align: right;\n",
       "    }\n",
       "</style>\n",
       "<table border=\"1\" class=\"dataframe\">\n",
       "  <thead>\n",
       "    <tr style=\"text-align: right;\">\n",
       "      <th></th>\n",
       "      <th>Engine HP</th>\n",
       "      <th>MSRP</th>\n",
       "    </tr>\n",
       "  </thead>\n",
       "  <tbody>\n",
       "    <tr>\n",
       "      <th>count</th>\n",
       "      <td>11845.00000</td>\n",
       "      <td>1.191400e+04</td>\n",
       "    </tr>\n",
       "    <tr>\n",
       "      <th>mean</th>\n",
       "      <td>249.38607</td>\n",
       "      <td>4.059474e+04</td>\n",
       "    </tr>\n",
       "    <tr>\n",
       "      <th>std</th>\n",
       "      <td>109.19187</td>\n",
       "      <td>6.010910e+04</td>\n",
       "    </tr>\n",
       "    <tr>\n",
       "      <th>min</th>\n",
       "      <td>55.00000</td>\n",
       "      <td>2.000000e+03</td>\n",
       "    </tr>\n",
       "    <tr>\n",
       "      <th>25%</th>\n",
       "      <td>170.00000</td>\n",
       "      <td>2.100000e+04</td>\n",
       "    </tr>\n",
       "    <tr>\n",
       "      <th>50%</th>\n",
       "      <td>227.00000</td>\n",
       "      <td>2.999500e+04</td>\n",
       "    </tr>\n",
       "    <tr>\n",
       "      <th>75%</th>\n",
       "      <td>300.00000</td>\n",
       "      <td>4.223125e+04</td>\n",
       "    </tr>\n",
       "    <tr>\n",
       "      <th>max</th>\n",
       "      <td>1001.00000</td>\n",
       "      <td>2.065902e+06</td>\n",
       "    </tr>\n",
       "  </tbody>\n",
       "</table>\n",
       "</div>"
      ],
      "text/plain": [
       "         Engine HP          MSRP\n",
       "count  11845.00000  1.191400e+04\n",
       "mean     249.38607  4.059474e+04\n",
       "std      109.19187  6.010910e+04\n",
       "min       55.00000  2.000000e+03\n",
       "25%      170.00000  2.100000e+04\n",
       "50%      227.00000  2.999500e+04\n",
       "75%      300.00000  4.223125e+04\n",
       "max     1001.00000  2.065902e+06"
      ]
     },
     "execution_count": 76,
     "metadata": {},
     "output_type": "execute_result"
    }
   ],
   "source": [
    "df.describe()"
   ]
  },
  {
   "cell_type": "code",
   "execution_count": 77,
   "id": "9dd80105",
   "metadata": {},
   "outputs": [
    {
     "data": {
      "text/plain": [
       "Engine HP    69\n",
       "MSRP          0\n",
       "dtype: int64"
      ]
     },
     "execution_count": 77,
     "metadata": {},
     "output_type": "execute_result"
    }
   ],
   "source": [
    "df.isnull().sum()"
   ]
  },
  {
   "cell_type": "code",
   "execution_count": 78,
   "id": "e7aa4792",
   "metadata": {},
   "outputs": [
    {
     "data": {
      "text/html": [
       "<div>\n",
       "<style scoped>\n",
       "    .dataframe tbody tr th:only-of-type {\n",
       "        vertical-align: middle;\n",
       "    }\n",
       "\n",
       "    .dataframe tbody tr th {\n",
       "        vertical-align: top;\n",
       "    }\n",
       "\n",
       "    .dataframe thead th {\n",
       "        text-align: right;\n",
       "    }\n",
       "</style>\n",
       "<table border=\"1\" class=\"dataframe\">\n",
       "  <thead>\n",
       "    <tr style=\"text-align: right;\">\n",
       "      <th></th>\n",
       "      <th>Engine HP</th>\n",
       "      <th>MSRP</th>\n",
       "    </tr>\n",
       "  </thead>\n",
       "  <tbody>\n",
       "    <tr>\n",
       "      <th>0</th>\n",
       "      <td>335.0</td>\n",
       "      <td>46135</td>\n",
       "    </tr>\n",
       "    <tr>\n",
       "      <th>1</th>\n",
       "      <td>300.0</td>\n",
       "      <td>40650</td>\n",
       "    </tr>\n",
       "    <tr>\n",
       "      <th>2</th>\n",
       "      <td>300.0</td>\n",
       "      <td>36350</td>\n",
       "    </tr>\n",
       "    <tr>\n",
       "      <th>3</th>\n",
       "      <td>230.0</td>\n",
       "      <td>29450</td>\n",
       "    </tr>\n",
       "    <tr>\n",
       "      <th>4</th>\n",
       "      <td>230.0</td>\n",
       "      <td>34500</td>\n",
       "    </tr>\n",
       "    <tr>\n",
       "      <th>...</th>\n",
       "      <td>...</td>\n",
       "      <td>...</td>\n",
       "    </tr>\n",
       "    <tr>\n",
       "      <th>11909</th>\n",
       "      <td>300.0</td>\n",
       "      <td>46120</td>\n",
       "    </tr>\n",
       "    <tr>\n",
       "      <th>11910</th>\n",
       "      <td>300.0</td>\n",
       "      <td>56670</td>\n",
       "    </tr>\n",
       "    <tr>\n",
       "      <th>11911</th>\n",
       "      <td>300.0</td>\n",
       "      <td>50620</td>\n",
       "    </tr>\n",
       "    <tr>\n",
       "      <th>11912</th>\n",
       "      <td>300.0</td>\n",
       "      <td>50920</td>\n",
       "    </tr>\n",
       "    <tr>\n",
       "      <th>11913</th>\n",
       "      <td>221.0</td>\n",
       "      <td>28995</td>\n",
       "    </tr>\n",
       "  </tbody>\n",
       "</table>\n",
       "<p>11845 rows × 2 columns</p>\n",
       "</div>"
      ],
      "text/plain": [
       "       Engine HP   MSRP\n",
       "0          335.0  46135\n",
       "1          300.0  40650\n",
       "2          300.0  36350\n",
       "3          230.0  29450\n",
       "4          230.0  34500\n",
       "...          ...    ...\n",
       "11909      300.0  46120\n",
       "11910      300.0  56670\n",
       "11911      300.0  50620\n",
       "11912      300.0  50920\n",
       "11913      221.0  28995\n",
       "\n",
       "[11845 rows x 2 columns]"
      ]
     },
     "execution_count": 78,
     "metadata": {},
     "output_type": "execute_result"
    }
   ],
   "source": [
    "# Eliminar registros con valor \"nan\"\n",
    "df = df.dropna()\n",
    "df"
   ]
  },
  {
   "cell_type": "code",
   "execution_count": 79,
   "id": "a7186b35",
   "metadata": {},
   "outputs": [
    {
     "data": {
      "text/plain": [
       "Engine HP    0\n",
       "MSRP         0\n",
       "dtype: int64"
      ]
     },
     "execution_count": 79,
     "metadata": {},
     "output_type": "execute_result"
    }
   ],
   "source": [
    "df.isnull().sum()"
   ]
  },
  {
   "cell_type": "code",
   "execution_count": 80,
   "id": "96444118",
   "metadata": {},
   "outputs": [],
   "source": [
    "x_whole =df[\"Engine HP\"]\n",
    "y_whole = df[\"MSRP\"]"
   ]
  },
  {
   "cell_type": "code",
   "execution_count": 81,
   "id": "b0f7fe06",
   "metadata": {},
   "outputs": [
    {
     "data": {
      "image/png": "[encoded data removed]",
      "text/plain": [
       "<Figure size 432x288 with 1 Axes>"
      ]
     },
     "metadata": {
      "needs_background": "light"
     },
     "output_type": "display_data"
    }
   ],
   "source": [
    "plt.scatter(x_whole, y_whole)\n",
    "plt.xlabel('X - Caballos del motor')\n",
    "plt.ylabel('Y - Precio sugerido')\n",
    "plt.show()"
   ]
  },
  {
   "cell_type": "markdown",
   "id": "5b7a3462",
   "metadata": {},
   "source": [
    "## Normalización parte 1"
   ]
  },
  {
   "cell_type": "code",
   "execution_count": 82,
   "id": "58a04462",
   "metadata": {},
   "outputs": [],
   "source": [
    "x_mean = x_whole.mean(axis=0)\n",
    "x_std = x_whole.std(axis=0)\n",
    "y_mean = y_whole.mean(axis=0)\n",
    "y_std = y_whole.std(axis=0)"
   ]
  },
  {
   "cell_type": "code",
   "execution_count": 83,
   "id": "8c2dab2c",
   "metadata": {},
   "outputs": [
    {
     "name": "stdout",
     "output_type": "stream",
     "text": [
      "x Media =  249.38607007176023    X Desviación estándar=  109.19187025917206\n",
      "y Media =  40547.19560996201    y Desviación estándar =  60250.841749145395\n"
     ]
    }
   ],
   "source": [
    "# Dispersión de una distribución\n",
    "print(\"x Media = \", x_mean, \"   X Desviación estándar= \", x_std)\n",
    "print(\"y Media = \", y_mean, \"   y Desviación estándar = \", y_std)"
   ]
  },
  {
   "cell_type": "markdown",
   "id": "199079f6",
   "metadata": {},
   "source": [
    "## División de los datos (entrenamientos -70% y prueba -30%)"
   ]
  },
  {
   "cell_type": "code",
   "execution_count": 84,
   "id": "9bd2f9fb",
   "metadata": {},
   "outputs": [
    {
     "data": {
      "text/plain": [
       "11845"
      ]
     },
     "execution_count": 84,
     "metadata": {},
     "output_type": "execute_result"
    }
   ],
   "source": [
    "amount_x = len(x_whole)\n",
    "amount_x"
   ]
  },
  {
   "cell_type": "code",
   "execution_count": 85,
   "id": "f2b0fefc",
   "metadata": {},
   "outputs": [
    {
     "name": "stdout",
     "output_type": "stream",
     "text": [
      "70 % =  8291\n",
      "30 % =  3554\n"
     ]
    }
   ],
   "source": [
    "len_train = (amount_x * 70) // 100\n",
    "rest_len = amount_x - len_train\n",
    "print(\"70 % = \", len_train)\n",
    "print(\"30 % = \", rest_len)"
   ]
  },
  {
   "cell_type": "code",
   "execution_count": 86,
   "id": "69c9d751",
   "metadata": {},
   "outputs": [],
   "source": [
    "x_train =  x_whole[0:len_train]\n",
    "x_test =   x_whole [len_train+1:]  \n",
    "y_train =  y_whole[0:len_train]\n",
    "y_test  =  y_whole [len_train+1:] "
   ]
  },
  {
   "cell_type": "code",
   "execution_count": 87,
   "id": "35dd246b",
   "metadata": {},
   "outputs": [
    {
     "data": {
      "image/png": "[encoded data removed]",
      "text/plain": [
       "<Figure size 432x288 with 1 Axes>"
      ]
     },
     "metadata": {
      "needs_background": "light"
     },
     "output_type": "display_data"
    }
   ],
   "source": [
    "plt.scatter(x_train, y_train)\n",
    "plt.xlabel('X Train - Caballos del motor')\n",
    "plt.ylabel('Y Train - Precio sugerido')\n",
    "plt.show()"
   ]
  },
  {
   "cell_type": "code",
   "execution_count": 88,
   "id": "b25ff4c9",
   "metadata": {},
   "outputs": [
    {
     "data": {
      "image/png": "[encoded data removed]",
      "text/plain": [
       "<Figure size 432x288 with 1 Axes>"
      ]
     },
     "metadata": {
      "needs_background": "light"
     },
     "output_type": "display_data"
    }
   ],
   "source": [
    "plt.scatter(x_test, y_test)\n",
    "plt.xlabel('X Test - Caballos del motor')\n",
    "plt.ylabel('Y Test - Precio sugerido')\n",
    "plt.show()"
   ]
  },
  {
   "cell_type": "markdown",
   "id": "4f57a043",
   "metadata": {},
   "source": [
    "## Normalización parte 2"
   ]
  },
  {
   "cell_type": "code",
   "execution_count": 89,
   "id": "30c48e40",
   "metadata": {},
   "outputs": [],
   "source": [
    "x_train = (x_train - x_mean) / x_std\n",
    "x_test = (x_test - x_mean) / x_std\n",
    "y_train = (y_train - y_mean) / y_std\n",
    "y_test = (y_test - y_mean) / y_std"
   ]
  },
  {
   "cell_type": "code",
   "execution_count": 90,
   "id": "812b49fc",
   "metadata": {},
   "outputs": [
    {
     "data": {
      "image/png": "[encoded data removed]",
      "text/plain": [
       "<Figure size 432x288 with 1 Axes>"
      ]
     },
     "metadata": {
      "needs_background": "light"
     },
     "output_type": "display_data"
    }
   ],
   "source": [
    "plt.scatter(x_train, y_train)\n",
    "plt.xlabel('X Train Nm - Caballos del motor')\n",
    "plt.ylabel('Y Train Nm - Precio sugerido')\n",
    "plt.show()"
   ]
  },
  {
   "cell_type": "code",
   "execution_count": 91,
   "id": "676db193",
   "metadata": {},
   "outputs": [
    {
     "data": {
      "image/png": "[encoded data removed]",
      "text/plain": [
       "<Figure size 432x288 with 1 Axes>"
      ]
     },
     "metadata": {
      "needs_background": "light"
     },
     "output_type": "display_data"
    }
   ],
   "source": [
    "plt.scatter(x_test, y_test)\n",
    "plt.xlabel('X Test Nm - Caballos del motor')\n",
    "plt.ylabel('Y Test Nm - Precio sugerido')\n",
    "plt.show()"
   ]
  },
  {
   "cell_type": "markdown",
   "id": "4fa58ce8",
   "metadata": {},
   "source": [
    "### Costo\n",
    "- el vector $\\theta$\n",
    "- $\\theta_{0} + \\theta_{1}x_{1}$ "
   ]
  },
  {
   "cell_type": "code",
   "execution_count": 92,
   "id": "2f97e0bd",
   "metadata": {},
   "outputs": [],
   "source": [
    "try:\n",
    "    Thetas = np.zeros(x_train.shape[1])\n",
    "except IndexError:\n",
    "    # Caracteristica de una sola fila y la columna de puros      \n",
    "    Thetas = np.zeros(2)"
   ]
  },
  {
   "cell_type": "code",
   "execution_count": 93,
   "id": "28b031b4",
   "metadata": {},
   "outputs": [
    {
     "data": {
      "text/plain": [
       "array([[0.],\n",
       "       [0.]])"
      ]
     },
     "execution_count": 93,
     "metadata": {},
     "output_type": "execute_result"
    }
   ],
   "source": [
    "Thetas= Thetas.reshape(2,1)\n",
    "Thetas"
   ]
  },
  {
   "cell_type": "code",
   "execution_count": 94,
   "id": "3b033937",
   "metadata": {},
   "outputs": [],
   "source": [
    "x_train = x_train.to_frame()"
   ]
  },
  {
   "cell_type": "code",
   "execution_count": 95,
   "id": "8f297279",
   "metadata": {},
   "outputs": [
    {
     "data": {
      "text/html": [
       "<div>\n",
       "<style scoped>\n",
       "    .dataframe tbody tr th:only-of-type {\n",
       "        vertical-align: middle;\n",
       "    }\n",
       "\n",
       "    .dataframe tbody tr th {\n",
       "        vertical-align: top;\n",
       "    }\n",
       "\n",
       "    .dataframe thead th {\n",
       "        text-align: right;\n",
       "    }\n",
       "</style>\n",
       "<table border=\"1\" class=\"dataframe\">\n",
       "  <thead>\n",
       "    <tr style=\"text-align: right;\">\n",
       "      <th></th>\n",
       "      <th>Engine HP</th>\n",
       "    </tr>\n",
       "  </thead>\n",
       "  <tbody>\n",
       "    <tr>\n",
       "      <th>0</th>\n",
       "      <td>0.784069</td>\n",
       "    </tr>\n",
       "    <tr>\n",
       "      <th>1</th>\n",
       "      <td>0.463532</td>\n",
       "    </tr>\n",
       "    <tr>\n",
       "      <th>2</th>\n",
       "      <td>0.463532</td>\n",
       "    </tr>\n",
       "    <tr>\n",
       "      <th>3</th>\n",
       "      <td>-0.177541</td>\n",
       "    </tr>\n",
       "    <tr>\n",
       "      <th>4</th>\n",
       "      <td>-0.177541</td>\n",
       "    </tr>\n",
       "    <tr>\n",
       "      <th>...</th>\n",
       "      <td>...</td>\n",
       "    </tr>\n",
       "    <tr>\n",
       "      <th>8348</th>\n",
       "      <td>-0.388180</td>\n",
       "    </tr>\n",
       "    <tr>\n",
       "      <th>8349</th>\n",
       "      <td>-0.388180</td>\n",
       "    </tr>\n",
       "    <tr>\n",
       "      <th>8350</th>\n",
       "      <td>-0.388180</td>\n",
       "    </tr>\n",
       "    <tr>\n",
       "      <th>8351</th>\n",
       "      <td>-0.974304</td>\n",
       "    </tr>\n",
       "    <tr>\n",
       "      <th>8352</th>\n",
       "      <td>-0.974304</td>\n",
       "    </tr>\n",
       "  </tbody>\n",
       "</table>\n",
       "<p>8291 rows × 1 columns</p>\n",
       "</div>"
      ],
      "text/plain": [
       "      Engine HP\n",
       "0      0.784069\n",
       "1      0.463532\n",
       "2      0.463532\n",
       "3     -0.177541\n",
       "4     -0.177541\n",
       "...         ...\n",
       "8348  -0.388180\n",
       "8349  -0.388180\n",
       "8350  -0.388180\n",
       "8351  -0.974304\n",
       "8352  -0.974304\n",
       "\n",
       "[8291 rows x 1 columns]"
      ]
     },
     "execution_count": 95,
     "metadata": {},
     "output_type": "execute_result"
    }
   ],
   "source": [
    "x_train"
   ]
  },
  {
   "cell_type": "code",
   "execution_count": 96,
   "id": "0725a180",
   "metadata": {},
   "outputs": [],
   "source": [
    "y_train=y_train.to_numpy()"
   ]
  },
  {
   "cell_type": "code",
   "execution_count": 97,
   "id": "9b887097",
   "metadata": {
    "scrolled": true
   },
   "outputs": [
    {
     "data": {
      "text/plain": [
       "array([[ 1.        ,  0.78406872],\n",
       "       [ 1.        ,  0.46353204],\n",
       "       [ 1.        ,  0.46353204],\n",
       "       ...,\n",
       "       [ 1.        , -0.38817972],\n",
       "       [ 1.        , -0.97430395],\n",
       "       [ 1.        , -0.97430395]])"
      ]
     },
     "execution_count": 97,
     "metadata": {},
     "output_type": "execute_result"
    }
   ],
   "source": [
    "# Añadir la columna de 1 al conjunto de entrenamiento\n",
    "n_ones = np.ones([len(x_train), 1])\n",
    "x_train = np.concatenate((n_ones, x_train), axis=1)\n",
    "x_train"
   ]
  },
  {
   "cell_type": "code",
   "execution_count": 98,
   "id": "bacfe870",
   "metadata": {},
   "outputs": [
    {
     "data": {
      "text/plain": [
       "array([ 0.09274235,  0.00170627, -0.06966202, ..., -0.24476331,\n",
       "       -0.34907721, -0.37720959])"
      ]
     },
     "execution_count": 98,
     "metadata": {},
     "output_type": "execute_result"
    }
   ],
   "source": [
    "y_train"
   ]
  },
  {
   "cell_type": "markdown",
   "id": "96f61faf",
   "metadata": {},
   "source": [
    "Definiendo la Función de Costo y la función de Hipótesis $H_{\\theta}(x)$\n",
    "- Función de Costo:\n",
    "$$\n",
    "J(\\theta)=J(\\theta_{0},\\theta_{1},\\dots,\\theta_{n})\\\\\n",
    "J(\\theta) = \\frac{1}{2m}\\sum_{i=0}^{m}( h_{\\theta}(x^{(i)})-y^{(i)})^{2}\n",
    "$$\n",
    "- Hipótesis\n",
    "$$\n",
    "h_{\\theta}(x) = \\theta_{0} + \\theta_{1}x_{1} + \\dots + \\theta_{n}x_{n} = \\theta^{T}x\n",
    "$$\n",
    "<br>\n",
    "$$\n",
    "h_{\\theta}(x) = \\theta_{0} + \\theta_{1}x_{1} \n",
    "$$"
   ]
  },
  {
   "cell_type": "code",
   "execution_count": 99,
   "id": "8f5aeb27",
   "metadata": {},
   "outputs": [],
   "source": [
    "# Formula de la Hipotesis\n",
    "def predict(thetas, x_data):\n",
    "    return np.dot(x_data, thetas)"
   ]
  },
  {
   "cell_type": "code",
   "execution_count": 100,
   "id": "e3585cc5",
   "metadata": {},
   "outputs": [],
   "source": [
    "def fun_cost(x_data, y_result, theta):\n",
    "    cost = 0\n",
    "    # m\n",
    "    len_data_x = x_data.shape[0]\n",
    "    cost = 0\n",
    "\n",
    "    predict_error = predict(theta, x_data) - y_result\n",
    "    square_predict_error = np.power(predict_error, 2)\n",
    "\n",
    "    sumatoria_error_cuadratico = np.sum(square_predict_error)\n",
    "    cost = 1.0 / (2 * len_data_x) * sumatoria_error_cuadratico\n",
    "    return cost"
   ]
  },
  {
   "cell_type": "markdown",
   "id": "2b288e84",
   "metadata": {},
   "source": [
    "## Experimento 1: Se evaluará con los datos que se obtenga en la BD, se indicará el error cuadrático medio de la RL y graficar."
   ]
  },
  {
   "cell_type": "code",
   "execution_count": 101,
   "id": "7d2ecd27",
   "metadata": {},
   "outputs": [
    {
     "name": "stdout",
     "output_type": "stream",
     "text": [
      "Error cuadrático medio con 0 0:  3742.9069367298616\n"
     ]
    }
   ],
   "source": [
    "print(\"Error cuadrático medio con 0 0: \", fun_cost(x_train, y_train, Thetas))"
   ]
  },
  {
   "cell_type": "code",
   "execution_count": 102,
   "id": "061da8a3",
   "metadata": {},
   "outputs": [
    {
     "data": {
      "text/plain": [
       "array([], dtype=float64)"
      ]
     },
     "execution_count": 102,
     "metadata": {},
     "output_type": "execute_result"
    }
   ],
   "source": [
    "y_initial_predict = np.array([])\n",
    "y_initial_predict"
   ]
  },
  {
   "cell_type": "code",
   "execution_count": 103,
   "id": "187a3f68",
   "metadata": {},
   "outputs": [
    {
     "data": {
      "text/plain": [
       "array([0., 0., 0., ..., 0., 0., 0.])"
      ]
     },
     "execution_count": 103,
     "metadata": {},
     "output_type": "execute_result"
    }
   ],
   "source": [
    "y_initial_predict = predict(Thetas,x_train)\n",
    "y_initial_predict.flatten()"
   ]
  },
  {
   "cell_type": "code",
   "execution_count": 104,
   "id": "58a19402",
   "metadata": {},
   "outputs": [
    {
     "data": {
      "image/png": "[encoded data removed]",
      "text/plain": [
       "<Figure size 432x288 with 1 Axes>"
      ]
     },
     "metadata": {
      "needs_background": "light"
     },
     "output_type": "display_data"
    }
   ],
   "source": [
    "plt.plot(x_train, y_initial_predict, \"r-\")\n",
    "plt.scatter(x_train[:,1], y_train)\n",
    "plt.xlabel('X - Habitantes de la ciudad')\n",
    "plt.ylabel('Y - Rentabilidad de la Ciudad')\n",
    "plt.show()"
   ]
  },
  {
   "cell_type": "markdown",
   "id": "ee7451ea",
   "metadata": {},
   "source": [
    "## Gradiente"
   ]
  },
  {
   "cell_type": "code",
   "execution_count": 105,
   "id": "10201095",
   "metadata": {},
   "outputs": [
    {
     "data": {
      "text/plain": [
       "(8291, 2)"
      ]
     },
     "execution_count": 105,
     "metadata": {},
     "output_type": "execute_result"
    }
   ],
   "source": [
    "x_train.shape"
   ]
  },
  {
   "cell_type": "code",
   "execution_count": 106,
   "id": "a686ecc5",
   "metadata": {},
   "outputs": [
    {
     "data": {
      "text/plain": [
       "array([[ 1.        ,  0.78406872],\n",
       "       [ 1.        ,  0.46353204],\n",
       "       [ 1.        ,  0.46353204],\n",
       "       ...,\n",
       "       [ 1.        , -0.38817972],\n",
       "       [ 1.        , -0.97430395],\n",
       "       [ 1.        , -0.97430395]])"
      ]
     },
     "execution_count": 106,
     "metadata": {},
     "output_type": "execute_result"
    }
   ],
   "source": [
    "x_train"
   ]
  },
  {
   "cell_type": "code",
   "execution_count": 107,
   "id": "bf1fb22b",
   "metadata": {},
   "outputs": [
    {
     "data": {
      "text/plain": [
       "array([[0.],\n",
       "       [0.]])"
      ]
     },
     "execution_count": 107,
     "metadata": {},
     "output_type": "execute_result"
    }
   ],
   "source": [
    "Thetas"
   ]
  },
  {
   "cell_type": "code",
   "execution_count": 108,
   "id": "0deee8c5",
   "metadata": {},
   "outputs": [
    {
     "data": {
      "text/plain": [
       "array([[ 1.        ,  1.        ,  1.        , ...,  1.        ,\n",
       "         1.        ,  1.        ],\n",
       "       [ 0.78406872,  0.46353204,  0.46353204, ..., -0.38817972,\n",
       "        -0.97430395, -0.97430395]])"
      ]
     },
     "execution_count": 108,
     "metadata": {},
     "output_type": "execute_result"
    }
   ],
   "source": [
    "x_train.T"
   ]
  },
  {
   "cell_type": "code",
   "execution_count": 109,
   "id": "d5883d8d",
   "metadata": {},
   "outputs": [
    {
     "data": {
      "text/plain": [
       "array([0., 0., 0., ..., 0., 0., 0.])"
      ]
     },
     "execution_count": 109,
     "metadata": {},
     "output_type": "execute_result"
    }
   ],
   "source": [
    "predict(Thetas.flatten(),x_train)"
   ]
  },
  {
   "cell_type": "markdown",
   "id": "37df56a1",
   "metadata": {},
   "source": [
    "<b>Gradiente</b>\n",
    "\\begin{equation}\n",
    "\\frac{\\partial J(\\theta)}{\\partial \\theta_j} = 1/m\\sum_{i=1}^{m}(h(\\theta^{(i)} - y^{(i)}).X_j^{(i)}\n",
    "\\end{equation}\n",
    "\n",
    "<b>Gradientes</b>\n",
    "\\begin{equation}\n",
    "\\theta_0: = \\theta_0 -\\alpha . (1/m .\\sum_{i=1}^{m}(h(\\theta^{(i)} - y^{(i)}).X_0^{(i)})\n",
    "\\end{equation}\n",
    "\\begin{equation}\n",
    "\\theta_1: = \\theta_1 -\\alpha . (1/m .\\sum_{i=1}^{m}(h(\\theta^{(i)} - y^{(i)}).X_1^{(i)})\n",
    "\\end{equation}\n",
    "\\begin{equation}\n",
    "\\theta_2: = \\theta_2 -\\alpha . (1/m .\\sum_{i=1}^{m}(h(\\theta^{(i)} - y^{(i)}).X_2^{(i)})\n",
    "\\end{equation}\n",
    "\n",
    "\\begin{equation}\n",
    "\\theta_j: = \\theta_j -\\alpha . (1/m .\\sum_{i=1}^{m}(h(\\theta^{(i)} - y^{(i)}).X_0^{(i)})\n",
    "\\end{equation}"
   ]
  },
  {
   "cell_type": "code",
   "execution_count": 110,
   "id": "c01f5195",
   "metadata": {},
   "outputs": [],
   "source": [
    "Thetas = Thetas.flatten()"
   ]
  },
  {
   "cell_type": "code",
   "execution_count": 111,
   "id": "a3fb5299",
   "metadata": {},
   "outputs": [],
   "source": [
    "# gradiente descendiente\n",
    "def gradient_descent(x_data, y_data, thetas, learning_rate=0.01, iterations=100):\n",
    "    m = len(y_data)\n",
    "    cost_history = np.zeros(iterations)\n",
    "    theta_history = np.zeros((iterations, len(thetas)))\n",
    "    y_data = y_data.flatten()\n",
    "    \n",
    "    for it in range(iterations):\n",
    "        # Hipotesis retornar array en una fila y no columna\n",
    "        # por ello la \"flatten\" a la variable Thetas        \n",
    "        prediction = predict(thetas.flatten(),x_data) #8921\n",
    "        \n",
    "        #x_data.T -> 2, 8291\n",
    "        thetas = thetas - learning_rate * (1 / m) * (x_data.T.dot((prediction - y_data)))\n",
    "        theta_history[it] = thetas\n",
    "        cost_history[it] = fun_cost(x_data, y_data, thetas)\n",
    "\n",
    "\n",
    "    return thetas, cost_history, theta_history"
   ]
  },
  {
   "cell_type": "markdown",
   "id": "d65af9f9",
   "metadata": {},
   "source": [
    "## Experimento 2: Se usarán para entrenamiento los que tengan mejores parámetros(50%), se indicará el error cuadrático medio de la RL y graficar y analizar la respuesta del error con respecto al primer entrenamiento."
   ]
  },
  {
   "cell_type": "code",
   "execution_count": 112,
   "id": "3f60dd5c",
   "metadata": {},
   "outputs": [],
   "source": [
    "theta,cost_history,theta_history = gradient_descent(x_train,y_train,Thetas,0.01,50)"
   ]
  },
  {
   "cell_type": "code",
   "execution_count": 113,
   "id": "6271b44c",
   "metadata": {},
   "outputs": [
    {
     "name": "stdout",
     "output_type": "stream",
     "text": [
      "Theta = [0.00713745 0.26901576]\n",
      "Final Cost =  0.3041473079193759\n"
     ]
    }
   ],
   "source": [
    "print(\"Theta =\",theta)\n",
    "print(\"Final Cost = \",cost_history[-1])"
   ]
  },
  {
   "cell_type": "code",
   "execution_count": 114,
   "id": "57b38bf8",
   "metadata": {},
   "outputs": [],
   "source": [
    "theta,cost_history,theta_history = gradient_descent(x_train,y_train,Thetas,0.03,50)"
   ]
  },
  {
   "cell_type": "code",
   "execution_count": 115,
   "id": "a8b02e9d",
   "metadata": {},
   "outputs": [
    {
     "name": "stdout",
     "output_type": "stream",
     "text": [
      "Theta = [0.0163384  0.52718225]\n",
      "Final Cost =  0.2328806144751873\n"
     ]
    }
   ],
   "source": [
    "print(\"Theta =\",theta)\n",
    "print(\"Final Cost = \",cost_history[-1])"
   ]
  },
  {
   "cell_type": "code",
   "execution_count": 116,
   "id": "5f689366",
   "metadata": {},
   "outputs": [],
   "source": [
    "theta,cost_history,theta_history = gradient_descent(x_train,y_train,Thetas,0.05,100)"
   ]
  },
  {
   "cell_type": "code",
   "execution_count": 117,
   "id": "8208e60b",
   "metadata": {},
   "outputs": [
    {
     "name": "stdout",
     "output_type": "stream",
     "text": [
      "Theta = [0.02395629 0.66251841]\n",
      "Final Cost =  0.22295711659123113\n"
     ]
    }
   ],
   "source": [
    "print(\"Theta =\",theta)\n",
    "print(\"Final Cost = \",cost_history[-1])"
   ]
  },
  {
   "cell_type": "code",
   "execution_count": 118,
   "id": "8cc9081e",
   "metadata": {},
   "outputs": [],
   "source": [
    "theta, cost_history, theta_history = gradient_descent(x_train, y_train, Thetas, 0.05, 200)"
   ]
  },
  {
   "cell_type": "code",
   "execution_count": 119,
   "id": "5428e390",
   "metadata": {},
   "outputs": [
    {
     "name": "stdout",
     "output_type": "stream",
     "text": [
      "Theta = [0.02433267 0.66588075]\n",
      "Final Cost =  0.2229511774353978\n"
     ]
    }
   ],
   "source": [
    "print(\"Theta =\", theta)\n",
    "print(\"Final Cost = \", cost_history[-1])"
   ]
  },
  {
   "cell_type": "code",
   "execution_count": 120,
   "id": "21f9af48",
   "metadata": {},
   "outputs": [],
   "source": [
    "iterations = 500"
   ]
  },
  {
   "cell_type": "code",
   "execution_count": 121,
   "id": "5e7d73c1",
   "metadata": {},
   "outputs": [],
   "source": [
    "theta,cost_history,theta_history = gradient_descent(x_train,y_train,Thetas,0.03,iterations)"
   ]
  },
  {
   "cell_type": "code",
   "execution_count": 122,
   "id": "e9643fd9",
   "metadata": {},
   "outputs": [
    {
     "name": "stdout",
     "output_type": "stream",
     "text": [
      "Theta = [0.02433608 0.66589788]\n",
      "Final Cost =  0.22295117727705108\n"
     ]
    }
   ],
   "source": [
    "print(\"Theta =\",theta)\n",
    "print(\"Final Cost = \",cost_history[-1])"
   ]
  },
  {
   "cell_type": "code",
   "execution_count": 123,
   "id": "a73e4315",
   "metadata": {},
   "outputs": [
    {
     "data": {
      "text/plain": [
       "array([ 0.54644578,  0.33300109,  0.33300109, ..., -0.23415197,\n",
       "       -0.62445085, -0.62445085])"
      ]
     },
     "execution_count": 123,
     "metadata": {},
     "output_type": "execute_result"
    }
   ],
   "source": [
    "y_predict = predict(theta,x_train)\n",
    "y_predict"
   ]
  },
  {
   "cell_type": "code",
   "execution_count": 124,
   "id": "3a1f338b",
   "metadata": {},
   "outputs": [
    {
     "data": {
      "image/png": "[encoded data removed]",
      "text/plain": [
       "<Figure size 432x288 with 1 Axes>"
      ]
     },
     "metadata": {
      "needs_background": "light"
     },
     "output_type": "display_data"
    }
   ],
   "source": [
    "plt.plot(x_train[:,1], y_predict, \"r-\")\n",
    "plt.scatter(x_train[:,1], y_train)\n",
    "plt.xlabel('X - Habitantes de la ciudad')\n",
    "plt.ylabel('Y - Rentabilidad de la Ciudad')\n",
    "plt.show()"
   ]
  },
  {
   "cell_type": "code",
   "execution_count": 125,
   "id": "9ff3547d",
   "metadata": {},
   "outputs": [
    {
     "data": {
      "image/png": "[encoded data removed]",
      "text/plain": [
       "<Figure size 432x288 with 1 Axes>"
      ]
     },
     "metadata": {
      "needs_background": "light"
     },
     "output_type": "display_data"
    }
   ],
   "source": [
    "iterations = range(iterations)\n",
    "plt.plot(iterations, cost_history, \"r-\", linewidth=1)\n",
    "plt.title(\"Función de costo en función de las iteraciones\")\n",
    "plt.ylabel('Costo')\n",
    "plt.xlabel(\"Iteraciones\")\n",
    "plt.show()"
   ]
  },
  {
   "cell_type": "markdown",
   "id": "5f827aa9",
   "metadata": {},
   "source": [
    "### Análisis de experimento 2\n",
    "**Con respecto al error del primer entrenamiento este arrrojo 0.3041473079193759 el cual fue un gran salto porque nos hemos acerdao a 0 este se realizo con los siguientes parametros: 0.01 de $\\alpha$ y 50 iteraciones, si comparamos con el ultimo entrenamiento en el cual se obtuvo 0.22295117727705108 de error con los parametros de 0.03 de $\\alpha$ y 300 iteraciones, mejorando la proximación hacia el 0 con respecto al primer entrenamiento pero siendo no muy relevante ya que la diferencia con el primer entrenamiento no es muy notable. Se nota un limite de mejora es decir que no se puede conseguir menor mejor costo debido principalmente al modelo el cual depende de solamente de 2 $\\theta$ ($h_{\\theta}(x) = \\theta_{0} + \\theta_{1}x_{1}$) no permitiendo explicar comportamiento completo de los datos.**"
   ]
  },
  {
   "cell_type": "markdown",
   "id": "40a236b2",
   "metadata": {},
   "source": [
    "# Experimento 3: Se invertirá la división de datos, 30% entrenamiento y 70 prueba, indicar el error, realizar las gráficas y analizar la rpta con respecto al experimento 1."
   ]
  },
  {
   "cell_type": "code",
   "execution_count": 126,
   "id": "2430cc4b",
   "metadata": {},
   "outputs": [],
   "source": [
    "x_test = x_test.to_frame()"
   ]
  },
  {
   "cell_type": "code",
   "execution_count": 127,
   "id": "e9776c1e",
   "metadata": {},
   "outputs": [
    {
     "data": {
      "text/plain": [
       "array([[ 1.        , -0.97430395],\n",
       "       [ 1.        , -0.97430395],\n",
       "       [ 1.        , -0.38817972],\n",
       "       ...,\n",
       "       [ 1.        ,  0.46353204],\n",
       "       [ 1.        ,  0.46353204],\n",
       "       [ 1.        , -0.25996505]])"
      ]
     },
     "execution_count": 127,
     "metadata": {},
     "output_type": "execute_result"
    }
   ],
   "source": [
    "n_zeros = np.ones([len(x_test), 1])\n",
    "x_test = np.concatenate((n_zeros, x_test), axis=1)\n",
    "x_test"
   ]
  },
  {
   "cell_type": "code",
   "execution_count": 128,
   "id": "7c70ccbf",
   "metadata": {},
   "outputs": [],
   "source": [
    "y_test = y_test.to_numpy()"
   ]
  },
  {
   "cell_type": "code",
   "execution_count": 129,
   "id": "a75dbecf",
   "metadata": {},
   "outputs": [
    {
     "name": "stdout",
     "output_type": "stream",
     "text": [
      " x_train Shape (8291, 2)\n",
      " x_test Shape (3553, 2)\n",
      " y_train Shape (8291,)\n",
      " y_test Shape (3553,)\n"
     ]
    }
   ],
   "source": [
    "print(\" x_train Shape\", x_train.shape)\n",
    "print(\" x_test Shape\", x_test.shape)\n",
    "print(\" y_train Shape\", y_train.shape)\n",
    "print(\" y_test Shape\", y_test.shape)"
   ]
  },
  {
   "cell_type": "code",
   "execution_count": 130,
   "id": "991dae32",
   "metadata": {},
   "outputs": [],
   "source": [
    "x_temp , y_temp = x_train, y_train\n",
    "x_train, y_train = x_test, y_test\n",
    "x_test, y_test = x_temp , y_temp"
   ]
  },
  {
   "cell_type": "code",
   "execution_count": 131,
   "id": "258c4f4d",
   "metadata": {},
   "outputs": [
    {
     "name": "stdout",
     "output_type": "stream",
     "text": [
      " x_train Shape (3553, 2)\n",
      " x_test Shape (8291, 2)\n",
      " y_train Shape (3553,)\n",
      " y_test Shape (8291,)\n"
     ]
    }
   ],
   "source": [
    "print(\" x_train Shape\", x_train.shape)\n",
    "print(\" x_test Shape\", x_test.shape)\n",
    "print(\" y_train Shape\", y_train.shape)\n",
    "print(\" y_test Shape\", y_test.shape)"
   ]
  },
  {
   "cell_type": "code",
   "execution_count": 132,
   "id": "be8ead2e",
   "metadata": {},
   "outputs": [
    {
     "name": "stdout",
     "output_type": "stream",
     "text": [
      "Theta = [-0.01645622  0.24363097]\n",
      "Final Cost =  0.49246625935616395\n"
     ]
    }
   ],
   "source": [
    "theta,cost_history,theta_history = gradient_descent(x_train,y_train,Thetas,0.01,50)\n",
    "\n",
    "print(\"Theta =\",theta)\n",
    "print(\"Final Cost = \",cost_history[-1])"
   ]
  },
  {
   "cell_type": "code",
   "execution_count": 133,
   "id": "c47fdf1c",
   "metadata": {},
   "outputs": [
    {
     "name": "stdout",
     "output_type": "stream",
     "text": [
      "Theta = [-0.03744864  0.49461298]\n",
      "Final Cost =  0.4256620768146927\n"
     ]
    }
   ],
   "source": [
    "theta,cost_history,theta_history = gradient_descent(x_train,y_train,Thetas,0.03,50)\n",
    "print(\"Theta =\",theta)\n",
    "print(\"Final Cost = \",cost_history[-1])"
   ]
  },
  {
   "cell_type": "code",
   "execution_count": 134,
   "id": "cde8100d",
   "metadata": {},
   "outputs": [
    {
     "name": "stdout",
     "output_type": "stream",
     "text": [
      "Theta = [-0.05541149  0.64871405]\n",
      "Final Cost =  0.413710937115284\n"
     ]
    }
   ],
   "source": [
    "\n",
    "theta,cost_history,theta_history = gradient_descent(x_train,y_train,Thetas,0.05,100)\n",
    "\n",
    "print(\"Theta =\",theta)\n",
    "print(\"Final Cost = \",cost_history[-1])"
   ]
  },
  {
   "cell_type": "code",
   "execution_count": 135,
   "id": "33f39877",
   "metadata": {},
   "outputs": [
    {
     "name": "stdout",
     "output_type": "stream",
     "text": [
      "Theta = [-0.05644711  0.65438874]\n",
      "Final Cost =  0.4136953249902148\n"
     ]
    }
   ],
   "source": [
    "\n",
    "theta,cost_history,theta_history = gradient_descent(x_train,y_train,Thetas,0.05,200)\n",
    "\n",
    "print(\"Theta =\",theta)\n",
    "print(\"Final Cost = \",cost_history[-1])"
   ]
  },
  {
   "cell_type": "code",
   "execution_count": 136,
   "id": "192b3bd4",
   "metadata": {},
   "outputs": [],
   "source": [
    "iterations = 500"
   ]
  },
  {
   "cell_type": "code",
   "execution_count": 137,
   "id": "2e379444",
   "metadata": {},
   "outputs": [
    {
     "name": "stdout",
     "output_type": "stream",
     "text": [
      "Theta = [-0.05645945  0.65443891]\n",
      "Final Cost =  0.4136953237362081\n"
     ]
    }
   ],
   "source": [
    "theta,cost_history,theta_history = gradient_descent(x_train,y_train,Thetas,0.03,iterations)\n",
    "\n",
    "print(\"Theta =\",theta)\n",
    "print(\"Final Cost = \",cost_history[-1])"
   ]
  },
  {
   "cell_type": "code",
   "execution_count": 138,
   "id": "b7974b10",
   "metadata": {},
   "outputs": [
    {
     "data": {
      "image/png": "[encoded data removed]",
      "text/plain": [
       "<Figure size 432x288 with 1 Axes>"
      ]
     },
     "metadata": {
      "needs_background": "light"
     },
     "output_type": "display_data"
    }
   ],
   "source": [
    "y_predict = predict(theta,x_train)\n",
    "plt.plot(x_train[:,1], y_predict, \"r-\")\n",
    "plt.scatter(x_train[:,1], y_train)\n",
    "plt.xlabel('X - Habitantes de la ciudad')\n",
    "plt.ylabel('Y - Rentabilidad de la Ciudad')\n",
    "plt.show()"
   ]
  },
  {
   "cell_type": "code",
   "execution_count": 139,
   "id": "93951a3a",
   "metadata": {},
   "outputs": [
    {
     "data": {
      "text/plain": [
       "array([-0.05645945,  0.65443891])"
      ]
     },
     "execution_count": 139,
     "metadata": {},
     "output_type": "execute_result"
    }
   ],
   "source": [
    "theta"
   ]
  },
  {
   "cell_type": "code",
   "execution_count": 140,
   "id": "910b2eab",
   "metadata": {},
   "outputs": [
    {
     "name": "stdout",
     "output_type": "stream",
     "text": [
      "Costo con data de prueba =  0.22627142781439247\n"
     ]
    }
   ],
   "source": [
    "cost_Test = fun_cost(x_test, y_test, theta)\n",
    "print(\"Costo con data de prueba = \",cost_Test)"
   ]
  },
  {
   "cell_type": "code",
   "execution_count": 141,
   "id": "4009f8d7",
   "metadata": {},
   "outputs": [
    {
     "data": {
      "image/png": "[encoded data removed]",
      "text/plain": [
       "<Figure size 432x288 with 1 Axes>"
      ]
     },
     "metadata": {
      "needs_background": "light"
     },
     "output_type": "display_data"
    }
   ],
   "source": [
    "y_predict_test = predict(theta,x_test)\n",
    "\n",
    "plt.plot(x_test[:,1], y_predict_test, \"r-\")\n",
    "plt.scatter(x_test[:,1], y_test)\n",
    "plt.xlabel('X - Habitantes de la ciudad')\n",
    "plt.ylabel('Y - Rentabilidad de la Ciudad')\n",
    "plt.show()"
   ]
  },
  {
   "cell_type": "code",
   "execution_count": 142,
   "id": "c08234cb",
   "metadata": {},
   "outputs": [
    {
     "data": {
      "image/png": "[encoded data removed]",
      "text/plain": [
       "<Figure size 432x288 with 1 Axes>"
      ]
     },
     "metadata": {
      "needs_background": "light"
     },
     "output_type": "display_data"
    }
   ],
   "source": [
    "iterations = range(iterations)\n",
    "plt.plot(iterations, cost_history, \"r-\", linewidth=1)\n",
    "plt.title(\"Función de costo en función de las iteraciones\")\n",
    "plt.ylabel('Costo')\n",
    "plt.xlabel(\"Iteraciones\")\n",
    "plt.show()"
   ]
  },
  {
   "cell_type": "markdown",
   "id": "4b19050d",
   "metadata": {},
   "source": [
    "### Análisis de experimento 3\n",
    "**Con respecto al error del primer entrenamiento este arrrojo 0.49246625935616395 siendo alto a comparación de cuando los datos de entrenamiento y prueba no se cambiaron se obtuvo a traves de los siguientes parametros: 0.01 de $\\alpha$ y 50 iteraciones,  El ultimo entrenamiento dio 0.4136953237362081 de error con los parametros de 0.03 de $\\alpha$ y 300 iteraciones, se nota una barrera de no bajar los 0.4 por mas iteraciones que se hace no hay un salto relevante si bien es mas cercano al 0 que el primer entrenamiento no es sustancialmente diferenciable como cuando se hizo con el data entrenamiento sin intercambiar esto debe ser linitado porque ya no solo por el modelo 2 $\\theta$ ($h_{\\theta}(x) = \\theta_{0} + \\theta_{1}x_{1}$) sino por la cantidad de datos que estamos trabajando los cuales son menos.**\n",
    "<br>\n",
    "**Algo a resaltar es que probando con los datos de prueba es decir con los que tiene mayor cantidad de datos por el cambio obtenemos un similar valor de error que es 0.22627142781439247 es decir obtuvimos una mejor configuración equivalente a cuando lo utilizamos como entrenamiento que eran de 0.22295117727705108** <br>\n",
    "**Si comparamos con el experimento 1 el cual tenia un costo de 3742.9069367298616 este siendo excesivamente alto y para nada mostraba el comportamiento de los datos, el experimento 3 es mejor y nos da un modelo que demuestra el comportamiento de los datos.**"
   ]
  }
 ],
 "metadata": {
  "kernelspec": {
   "display_name": "Python 3 (ipykernel)",
   "language": "python",
   "name": "python3"
  },
  "language_info": {
   "codemirror_mode": {
    "name": "ipython",
    "version": 3
   },
   "file_extension": ".py",
   "mimetype": "text/x-python",
   "name": "python",
   "nbconvert_exporter": "python",
   "pygments_lexer": "ipython3",
   "version": "3.8.12"
  }
 },
 "nbformat": 4,
 "nbformat_minor": 5
}
