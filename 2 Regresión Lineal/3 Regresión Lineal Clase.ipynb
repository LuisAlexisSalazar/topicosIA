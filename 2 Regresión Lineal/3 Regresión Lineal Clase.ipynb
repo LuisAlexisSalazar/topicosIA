{
 "cells": [
  {
   "cell_type": "code",
   "execution_count": 18,
   "id": "0d8525b7",
   "metadata": {},
   "outputs": [],
   "source": [
    "import pandas as pd\n",
    "import numpy as np\n",
    "import matplotlib.pyplot as plt"
   ]
  },
  {
   "cell_type": "markdown",
   "id": "a9845369",
   "metadata": {},
   "source": [
    "## Lecturas de Datos"
   ]
  },
  {
   "cell_type": "code",
   "execution_count": 19,
   "id": "eec0d87c",
   "metadata": {},
   "outputs": [],
   "source": [
    "x_train = pd.read_csv(\"train_ex1data1.csv\")\n",
    "y_train = pd.read_csv(\"y_train_ex1data1.csv\")\n",
    "x_test = pd.read_csv(\"test_ex1data1.csv\")\n",
    "y_test = pd.read_csv(\"y_test_ex1data1.csv\")"
   ]
  },
  {
   "cell_type": "code",
   "execution_count": 20,
   "id": "da51620a",
   "metadata": {},
   "outputs": [
    {
     "data": {
      "text/html": [
       "<div>\n",
       "<style scoped>\n",
       "    .dataframe tbody tr th:only-of-type {\n",
       "        vertical-align: middle;\n",
       "    }\n",
       "\n",
       "    .dataframe tbody tr th {\n",
       "        vertical-align: top;\n",
       "    }\n",
       "\n",
       "    .dataframe thead th {\n",
       "        text-align: right;\n",
       "    }\n",
       "</style>\n",
       "<table border=\"1\" class=\"dataframe\">\n",
       "  <thead>\n",
       "    <tr style=\"text-align: right;\">\n",
       "      <th></th>\n",
       "      <th>Num_Hab_Ciudad(Miles)</th>\n",
       "    </tr>\n",
       "  </thead>\n",
       "  <tbody>\n",
       "    <tr>\n",
       "      <th>0</th>\n",
       "      <td>6.1101</td>\n",
       "    </tr>\n",
       "    <tr>\n",
       "      <th>1</th>\n",
       "      <td>5.5277</td>\n",
       "    </tr>\n",
       "    <tr>\n",
       "      <th>2</th>\n",
       "      <td>8.5186</td>\n",
       "    </tr>\n",
       "    <tr>\n",
       "      <th>3</th>\n",
       "      <td>7.0032</td>\n",
       "    </tr>\n",
       "    <tr>\n",
       "      <th>4</th>\n",
       "      <td>5.8598</td>\n",
       "    </tr>\n",
       "  </tbody>\n",
       "</table>\n",
       "</div>"
      ],
      "text/plain": [
       "   Num_Hab_Ciudad(Miles)\n",
       "0                 6.1101\n",
       "1                 5.5277\n",
       "2                 8.5186\n",
       "3                 7.0032\n",
       "4                 5.8598"
      ]
     },
     "execution_count": 20,
     "metadata": {},
     "output_type": "execute_result"
    }
   ],
   "source": [
    "x_train.head()"
   ]
  },
  {
   "cell_type": "code",
   "execution_count": 21,
   "id": "0cec5e70",
   "metadata": {},
   "outputs": [
    {
     "data": {
      "text/html": [
       "<div>\n",
       "<style scoped>\n",
       "    .dataframe tbody tr th:only-of-type {\n",
       "        vertical-align: middle;\n",
       "    }\n",
       "\n",
       "    .dataframe tbody tr th {\n",
       "        vertical-align: top;\n",
       "    }\n",
       "\n",
       "    .dataframe thead th {\n",
       "        text-align: right;\n",
       "    }\n",
       "</style>\n",
       "<table border=\"1\" class=\"dataframe\">\n",
       "  <thead>\n",
       "    <tr style=\"text-align: right;\">\n",
       "      <th></th>\n",
       "      <th>Rentabilidad_Ciudad(Miles)</th>\n",
       "    </tr>\n",
       "  </thead>\n",
       "  <tbody>\n",
       "    <tr>\n",
       "      <th>0</th>\n",
       "      <td>17.5920</td>\n",
       "    </tr>\n",
       "    <tr>\n",
       "      <th>1</th>\n",
       "      <td>9.1302</td>\n",
       "    </tr>\n",
       "    <tr>\n",
       "      <th>2</th>\n",
       "      <td>13.6620</td>\n",
       "    </tr>\n",
       "    <tr>\n",
       "      <th>3</th>\n",
       "      <td>11.8540</td>\n",
       "    </tr>\n",
       "    <tr>\n",
       "      <th>4</th>\n",
       "      <td>6.8233</td>\n",
       "    </tr>\n",
       "  </tbody>\n",
       "</table>\n",
       "</div>"
      ],
      "text/plain": [
       "   Rentabilidad_Ciudad(Miles)\n",
       "0                     17.5920\n",
       "1                      9.1302\n",
       "2                     13.6620\n",
       "3                     11.8540\n",
       "4                      6.8233"
      ]
     },
     "execution_count": 21,
     "metadata": {},
     "output_type": "execute_result"
    }
   ],
   "source": [
    "y_train.head()"
   ]
  },
  {
   "cell_type": "code",
   "execution_count": 22,
   "id": "b0f7fe06",
   "metadata": {},
   "outputs": [
    {
     "data": {
      "image/png": "[encoded data removed]",
      "text/plain": [
       "<Figure size 432x288 with 1 Axes>"
      ]
     },
     "metadata": {
      "needs_background": "light"
     },
     "output_type": "display_data"
    }
   ],
   "source": [
    "plt.scatter(x_train, y_train)\n",
    "plt.xlabel('X - Habitantes de la ciudad')\n",
    "plt.ylabel('Y - Rentabilidad de la Ciudad')\n",
    "plt.show()"
   ]
  },
  {
   "cell_type": "code",
   "execution_count": 23,
   "id": "4fc31569",
   "metadata": {},
   "outputs": [
    {
     "data": {
      "image/png": "[encoded data removed]",
      "text/plain": [
       "<Figure size 432x288 with 1 Axes>"
      ]
     },
     "metadata": {
      "needs_background": "light"
     },
     "output_type": "display_data"
    }
   ],
   "source": [
    "plt.scatter(x_test, y_test)\n",
    "plt.xlabel('X - Habitantes de la ciudad')\n",
    "plt.ylabel('Y - Rentabilidad de la Ciudad')\n",
    "plt.show()"
   ]
  },
  {
   "cell_type": "markdown",
   "id": "5b7a3462",
   "metadata": {},
   "source": [
    "## Normalización"
   ]
  },
  {
   "cell_type": "code",
   "execution_count": 24,
   "id": "a28f7092",
   "metadata": {},
   "outputs": [],
   "source": [
    "x_whole = np.concatenate((x_train,x_test),axis=0)\n",
    "y_whole = np.concatenate((y_train,y_test),axis=0)"
   ]
  },
  {
   "cell_type": "code",
   "execution_count": 25,
   "id": "58a04462",
   "metadata": {},
   "outputs": [],
   "source": [
    "x_mean = x_whole.mean(axis=0)\n",
    "x_std = x_whole.std(axis=0)\n",
    "y_mean= y_whole.mean(axis=0)\n",
    "y_std= y_whole.std(axis=0)"
   ]
  },
  {
   "cell_type": "code",
   "execution_count": 26,
   "id": "8c2dab2c",
   "metadata": {},
   "outputs": [
    {
     "name": "stdout",
     "output_type": "stream",
     "text": [
      "x =  [8.1598] [3.849884]\n",
      "y =  [5.83913505] [5.48178526]\n"
     ]
    }
   ],
   "source": [
    "# Dispersión de una distribución\n",
    "print(\"x = \", x_mean, x_std)\n",
    "print(\"y = \", y_mean, y_std)"
   ]
  },
  {
   "cell_type": "code",
   "execution_count": 27,
   "id": "30c48e40",
   "metadata": {},
   "outputs": [],
   "source": [
    "x_train = (x_train - x_mean) / x_std\n",
    "x_test = (x_test - x_mean) / x_std\n",
    "y_train = (y_train - y_mean) / y_std\n",
    "y_test = (y_test - y_mean) / y_std"
   ]
  },
  {
   "cell_type": "code",
   "execution_count": 28,
   "id": "7d9d0986",
   "metadata": {},
   "outputs": [
    {
     "data": {
      "text/plain": [
       "(68, 1)"
      ]
     },
     "execution_count": 28,
     "metadata": {},
     "output_type": "execute_result"
    }
   ],
   "source": [
    "x_train.shape"
   ]
  },
  {
   "cell_type": "code",
   "execution_count": 29,
   "id": "982ce315",
   "metadata": {},
   "outputs": [
    {
     "data": {
      "text/plain": [
       "pandas.core.frame.DataFrame"
      ]
     },
     "execution_count": 29,
     "metadata": {},
     "output_type": "execute_result"
    }
   ],
   "source": [
    "type(x_train)"
   ]
  },
  {
   "cell_type": "code",
   "execution_count": 30,
   "id": "30dbcb77",
   "metadata": {},
   "outputs": [
    {
     "name": "stdout",
     "output_type": "stream",
     "text": [
      "    Num_Hab_Ciudad(Miles)\n",
      "0               -0.532406\n",
      "1               -0.683683\n",
      "2                0.093198\n",
      "3               -0.300425\n",
      "4               -0.597421\n",
      "..                    ...\n",
      "63              -0.805323\n",
      "64              -0.636928\n",
      "65              -0.135900\n",
      "66              -0.741425\n",
      "67               0.034702\n",
      "\n",
      "[68 rows x 1 columns]\n"
     ]
    }
   ],
   "source": [
    "print(x_train)"
   ]
  },
  {
   "cell_type": "code",
   "execution_count": 31,
   "id": "90e8ccbc",
   "metadata": {},
   "outputs": [
    {
     "data": {
      "text/plain": [
       "(68, 1)"
      ]
     },
     "execution_count": 31,
     "metadata": {},
     "output_type": "execute_result"
    }
   ],
   "source": [
    "y_train.shape"
   ]
  },
  {
   "cell_type": "code",
   "execution_count": 32,
   "id": "a2339154",
   "metadata": {},
   "outputs": [
    {
     "data": {
      "image/png": "[encoded data removed]",
      "text/plain": [
       "<Figure size 432x288 with 1 Axes>"
      ]
     },
     "metadata": {
      "needs_background": "light"
     },
     "output_type": "display_data"
    }
   ],
   "source": [
    "plt.scatter(x_train, y_train)\n",
    "plt.xlabel('X - Habitantes de la ciudad')\n",
    "plt.ylabel('Y - Rentabilidad de la Ciudad')\n",
    "plt.show()"
   ]
  },
  {
   "cell_type": "code",
   "execution_count": 33,
   "id": "3a09d368",
   "metadata": {},
   "outputs": [
    {
     "data": {
      "image/png": "[encoded data removed]",
      "text/plain": [
       "<Figure size 432x288 with 1 Axes>"
      ]
     },
     "metadata": {
      "needs_background": "light"
     },
     "output_type": "display_data"
    }
   ],
   "source": [
    "plt.scatter(x_test, y_test)\n",
    "plt.xlabel('X - Habitantes de la ciudad')\n",
    "plt.ylabel('Y - Rentabilidad de la Ciudad')\n",
    "plt.show()"
   ]
  },
  {
   "cell_type": "code",
   "execution_count": 34,
   "id": "9b887097",
   "metadata": {
    "scrolled": true
   },
   "outputs": [
    {
     "data": {
      "text/plain": [
       "array([[ 1.        , -0.53240565],\n",
       "       [ 1.        , -0.68368294],\n",
       "       [ 1.        ,  0.09319761],\n",
       "       [ 1.        , -0.30042464],\n",
       "       [ 1.        , -0.5974206 ],\n",
       "       [ 1.        ,  0.0579498 ],\n",
       "       [ 1.        , -0.63614904],\n",
       "       [ 1.        , -0.63009691],\n",
       "       [ 1.        ,  0.06457337],\n",
       "       [ 1.        , -0.6543314 ],\n",
       "       [ 1.        , -0.46609197],\n",
       "       [ 1.        , -0.78695878],\n",
       "       [ 1.        , -0.51188555],\n",
       "       [ 1.        , -0.47630007],\n",
       "       [ 1.        , -0.67402031],\n",
       "       [ 1.        ,  2.80143506],\n",
       "       [ 1.        ,  1.21255602],\n",
       "       [ 1.        ,  0.72656735],\n",
       "       [ 1.        ,  3.64769432],\n",
       "       [ 1.        , -0.75519159],\n",
       "       [ 1.        , -0.40790839],\n",
       "       [ 1.        , -0.58910866],\n",
       "       [ 1.        ,  0.01332508],\n",
       "       [ 1.        , -0.05880697],\n",
       "       [ 1.        , -0.0165979 ],\n",
       "       [ 1.        , -0.66326674],\n",
       "       [ 1.        ,  1.214634  ],\n",
       "       [ 1.        , -0.46920894],\n",
       "       [ 1.        , -0.71506051],\n",
       "       [ 1.        , -0.33177623],\n",
       "       [ 1.        , -0.61978491],\n",
       "       [ 1.        , -0.27707328],\n",
       "       [ 1.        , -0.61258989],\n",
       "       [ 1.        ,  0.91956017],\n",
       "       [ 1.        , -0.68007244],\n",
       "       [ 1.        , -0.74082752],\n",
       "       [ 1.        , -0.19114862],\n",
       "       [ 1.        , -0.47455975],\n",
       "       [ 1.        , -0.46778033],\n",
       "       [ 1.        , -0.48978099],\n",
       "       [ 1.        , -0.65459115],\n",
       "       [ 1.        ,  0.33606207],\n",
       "       [ 1.        , -0.77417917],\n",
       "       [ 1.        ,  3.40768709],\n",
       "       [ 1.        ,  1.75283204],\n",
       "       [ 1.        ,  2.80507153],\n",
       "       [ 1.        , -0.2445788 ],\n",
       "       [ 1.        ,  0.03514392],\n",
       "       [ 1.        ,  0.53928898],\n",
       "       [ 1.        , -0.69103381],\n",
       "       [ 1.        , -0.2143701 ],\n",
       "       [ 1.        , -0.55939348],\n",
       "       [ 1.        , -0.24257874],\n",
       "       [ 1.        , -0.16135551],\n",
       "       [ 1.        ,  0.5491594 ],\n",
       "       [ 1.        , -0.79277713],\n",
       "       [ 1.        , -0.77181546],\n",
       "       [ 1.        , -0.46861152],\n",
       "       [ 1.        , -0.42699988],\n",
       "       [ 1.        ,  0.09283397],\n",
       "       [ 1.        ,  0.26504695],\n",
       "       [ 1.        , -0.56048442],\n",
       "       [ 1.        , -0.6855791 ],\n",
       "       [ 1.        , -0.80532297],\n",
       "       [ 1.        , -0.63692828],\n",
       "       [ 1.        , -0.1359002 ],\n",
       "       [ 1.        , -0.74142494],\n",
       "       [ 1.        ,  0.03470234]])"
      ]
     },
     "execution_count": 34,
     "metadata": {},
     "output_type": "execute_result"
    }
   ],
   "source": [
    "# Añadir la columna de ceros al conjunto de entrenamiento\n",
    "n_zeros = np.ones([len(x_train), 1])\n",
    "x_train = np.concatenate((n_zeros, x_train), axis=1)\n",
    "x_train"
   ]
  },
  {
   "cell_type": "markdown",
   "id": "199079f6",
   "metadata": {},
   "source": [
    "## División de los datos (entrenamientos -70% y prueba -30%)"
   ]
  },
  {
   "cell_type": "code",
   "execution_count": 35,
   "id": "0725a180",
   "metadata": {},
   "outputs": [],
   "source": [
    "y_train=y_train.to_numpy()"
   ]
  },
  {
   "cell_type": "markdown",
   "id": "4fa58ce8",
   "metadata": {},
   "source": [
    "### Costo\n",
    "- el vector $\\theta$"
   ]
  },
  {
   "cell_type": "code",
   "execution_count": 36,
   "id": "2f97e0bd",
   "metadata": {},
   "outputs": [
    {
     "name": "stdout",
     "output_type": "stream",
     "text": [
      "[0. 0.]\n"
     ]
    }
   ],
   "source": [
    "Theta = np.zeros(x_train.shape[1])\n",
    "print(Theta)"
   ]
  },
  {
   "cell_type": "markdown",
   "id": "96f61faf",
   "metadata": {},
   "source": [
    "**Definiendo la Función de Costo y la función de Hipótesis $H_{\\theta}(x)$**\n",
    "- Función de Costo:\n",
    "$$\n",
    "J(\\theta)=J(\\theta_{0},\\theta_{1},\\dots,\\theta_{n})\\\\\n",
    "J(\\theta) = \\frac{1}{2m}\\sum_{i=0}^{m}( h_{\\theta}(x^{(i)})-y^{(i)})^{2}\n",
    "$$\n",
    "- Hipótesis\n",
    "$$\n",
    "h_{\\theta}(x) = \\theta_{0} + \\theta_{1}x_{1} + \\dots + \\theta_{n}x_{n} = \\theta^{T}x\n",
    "$$\n",
    "<br>\n",
    "$$\n",
    "h_{\\theta}(x) = \\theta_{0} + \\theta_{1}x_{1} \n",
    "$$"
   ]
  },
  {
   "cell_type": "code",
   "execution_count": 37,
   "id": "b19f15ff",
   "metadata": {},
   "outputs": [
    {
     "data": {
      "text/plain": [
       "array([ 1.        , -0.53240565])"
      ]
     },
     "execution_count": 37,
     "metadata": {},
     "output_type": "execute_result"
    }
   ],
   "source": [
    "x_train[0]"
   ]
  },
  {
   "cell_type": "code",
   "execution_count": 38,
   "id": "6239a875",
   "metadata": {},
   "outputs": [
    {
     "data": {
      "text/plain": [
       "0.0"
      ]
     },
     "execution_count": 38,
     "metadata": {},
     "output_type": "execute_result"
    }
   ],
   "source": [
    "np.dot(x_train[0],Theta)"
   ]
  },
  {
   "cell_type": "code",
   "execution_count": 39,
   "id": "8f5aeb27",
   "metadata": {},
   "outputs": [],
   "source": [
    "# Formula de la Hipotesis\n",
    "def predict(theta, data):\n",
    "    return np.dot(data, theta)"
   ]
  },
  {
   "cell_type": "code",
   "execution_count": 40,
   "id": "a0e9c678",
   "metadata": {},
   "outputs": [],
   "source": [
    "# Formula de Costo\n",
    "\"\"\"\n",
    "X_data: inputs vector\n",
    "Y_result: output vector\n",
    "theta: tetha vector\n",
    "\"\"\"\n",
    "def Cost(X_data, Y_result, theta):\n",
    "    cost = 0\n",
    "    rows_X = X_data.shape[0]\n",
    "\n",
    "    for i in range(rows_X):\n",
    "        cost += (Y_result[i] - predict(theta, X_data[i, :])) ** 2\n",
    "    return 1.0 / (2 * rows_X) * cost"
   ]
  },
  {
   "cell_type": "code",
   "execution_count": 41,
   "id": "7d2ecd27",
   "metadata": {},
   "outputs": [
    {
     "name": "stdout",
     "output_type": "stream",
     "text": [
      "Costo Inicial con Theta 0 0:  [0.48454633]\n"
     ]
    }
   ],
   "source": [
    "print(\"Costo Inicial con Theta 0 0: \", Cost(x_train, y_train, Theta))"
   ]
  },
  {
   "cell_type": "code",
   "execution_count": 42,
   "id": "187a3f68",
   "metadata": {},
   "outputs": [
    {
     "data": {
      "text/plain": [
       "array([0., 0., 0., 0., 0., 0., 0., 0., 0., 0., 0., 0., 0., 0., 0., 0., 0.,\n",
       "       0., 0., 0., 0., 0., 0., 0., 0., 0., 0., 0., 0., 0., 0., 0., 0., 0.,\n",
       "       0., 0., 0., 0., 0., 0., 0., 0., 0., 0., 0., 0., 0., 0., 0., 0., 0.,\n",
       "       0., 0., 0., 0., 0., 0., 0., 0., 0., 0., 0., 0., 0., 0., 0., 0., 0.])"
      ]
     },
     "execution_count": 42,
     "metadata": {},
     "output_type": "execute_result"
    }
   ],
   "source": [
    "y_initial_predict = []\n",
    "for i in range(x_train.shape[0]):\n",
    "#     print(predict(Theta, x_train[i]))\n",
    "    y_initial_predict.append(predict(Theta, x_train[i]))\n",
    "y_initial_predict = np.array(y_initial_predict)\n",
    "y_initial_predict"
   ]
  },
  {
   "cell_type": "code",
   "execution_count": 43,
   "id": "58a19402",
   "metadata": {},
   "outputs": [
    {
     "data": {
      "image/png": "[encoded data removed]",
      "text/plain": [
       "<Figure size 432x288 with 1 Axes>"
      ]
     },
     "metadata": {
      "needs_background": "light"
     },
     "output_type": "display_data"
    }
   ],
   "source": [
    "plt.plot(x_train, y_initial_predict, \"r-\")\n",
    "plt.scatter(x_train[:,1], y_train)\n",
    "plt.xlabel('X - Habitantes de la ciudad')\n",
    "plt.ylabel('Y - Rentabilidad de la Ciudad')\n",
    "plt.show()"
   ]
  },
  {
   "cell_type": "markdown",
   "id": "ee7451ea",
   "metadata": {},
   "source": [
    "## Gradiente"
   ]
  },
  {
   "cell_type": "code",
   "execution_count": 44,
   "id": "873e371b",
   "metadata": {},
   "outputs": [
    {
     "data": {
      "text/plain": [
       "array([0., 0., 0., 0., 0., 0., 0., 0., 0., 0., 0., 0., 0., 0., 0., 0., 0.,\n",
       "       0., 0., 0., 0., 0., 0., 0., 0., 0., 0., 0., 0., 0., 0., 0., 0., 0.,\n",
       "       0., 0., 0., 0., 0., 0., 0., 0., 0., 0., 0., 0., 0., 0., 0., 0., 0.,\n",
       "       0., 0., 0., 0., 0., 0., 0., 0., 0., 0., 0., 0., 0., 0., 0., 0., 0.])"
      ]
     },
     "execution_count": 44,
     "metadata": {},
     "output_type": "execute_result"
    }
   ],
   "source": [
    "prediction = np.dot(x_train, Theta)\n",
    "prediction"
   ]
  },
  {
   "cell_type": "code",
   "execution_count": 45,
   "id": "1a00d06f",
   "metadata": {},
   "outputs": [
    {
     "data": {
      "text/plain": [
       "array([0., 0., 0., 0., 0., 0., 0., 0., 0., 0., 0., 0., 0., 0., 0., 0., 0.,\n",
       "       0., 0., 0., 0., 0., 0., 0., 0., 0., 0., 0., 0., 0., 0., 0., 0., 0.,\n",
       "       0., 0., 0., 0., 0., 0., 0., 0., 0., 0., 0., 0., 0., 0., 0., 0., 0.,\n",
       "       0., 0., 0., 0., 0., 0., 0., 0., 0., 0., 0., 0., 0., 0., 0., 0., 0.])"
      ]
     },
     "execution_count": 45,
     "metadata": {},
     "output_type": "execute_result"
    }
   ],
   "source": [
    "prediction"
   ]
  },
  {
   "cell_type": "code",
   "execution_count": 46,
   "id": "d4197922",
   "metadata": {},
   "outputs": [
    {
     "data": {
      "text/plain": [
       "(2, 68)"
      ]
     },
     "execution_count": 46,
     "metadata": {},
     "output_type": "execute_result"
    }
   ],
   "source": [
    "x_train.T.shape"
   ]
  },
  {
   "cell_type": "code",
   "execution_count": 47,
   "id": "02dc1333",
   "metadata": {},
   "outputs": [
    {
     "data": {
      "text/plain": [
       "(68,)"
      ]
     },
     "execution_count": 47,
     "metadata": {},
     "output_type": "execute_result"
    }
   ],
   "source": [
    "prediction.shape"
   ]
  },
  {
   "cell_type": "code",
   "execution_count": 48,
   "id": "6b9a8102",
   "metadata": {},
   "outputs": [
    {
     "data": {
      "text/plain": [
       "(68, 2)"
      ]
     },
     "execution_count": 48,
     "metadata": {},
     "output_type": "execute_result"
    }
   ],
   "source": [
    "x_train.shape"
   ]
  },
  {
   "cell_type": "code",
   "execution_count": 50,
   "id": "eb62b6ab",
   "metadata": {},
   "outputs": [
    {
     "data": {
      "text/plain": [
       "array([0., 0.])"
      ]
     },
     "execution_count": 50,
     "metadata": {},
     "output_type": "execute_result"
    }
   ],
   "source": [
    "Theta"
   ]
  },
  {
   "cell_type": "code",
   "execution_count": 51,
   "id": "b0fda08c",
   "metadata": {},
   "outputs": [
    {
     "data": {
      "text/plain": [
       "(2,)"
      ]
     },
     "execution_count": 51,
     "metadata": {},
     "output_type": "execute_result"
    }
   ],
   "source": [
    "Theta.shape"
   ]
  },
  {
   "cell_type": "code",
   "execution_count": 49,
   "id": "6a0b5c9d",
   "metadata": {},
   "outputs": [
    {
     "data": {
      "text/plain": [
       "array([0., 0., 0., 0., 0., 0., 0., 0., 0., 0., 0., 0., 0., 0., 0., 0., 0.,\n",
       "       0., 0., 0., 0., 0., 0., 0., 0., 0., 0., 0., 0., 0., 0., 0., 0., 0.,\n",
       "       0., 0., 0., 0., 0., 0., 0., 0., 0., 0., 0., 0., 0., 0., 0., 0., 0.,\n",
       "       0., 0., 0., 0., 0., 0., 0., 0., 0., 0., 0., 0., 0., 0., 0., 0., 0.])"
      ]
     },
     "execution_count": 49,
     "metadata": {},
     "output_type": "execute_result"
    }
   ],
   "source": [
    "np.dot(x_train, Theta)"
   ]
  },
  {
   "cell_type": "code",
   "execution_count": 9,
   "id": "a3fb5299",
   "metadata": {},
   "outputs": [],
   "source": [
    "# gradiente descendiente\n",
    "def gradient_descent(X, y, theta, learning_rate=0.01, iterations=100):\n",
    "    m = len(y)\n",
    "    cost_history = np.zeros(iterations)\n",
    "    theta_history = np.zeros((iterations, 2))\n",
    "    for it in range(iterations):\n",
    "        # Hipotesis\n",
    "        prediction = np.dot(X, theta)  # (68, )\n",
    "        #         print(prediction.shape)\n",
    "\n",
    "        y = y.flatten()\n",
    "        #         print(y.shape)\n",
    "        theta = theta - learning_rate * (1 / m) * (X.T.dot((prediction - y)))\n",
    "        theta_history[it, :] = theta.T\n",
    "        cost_history[it] = Cost(X, y, theta)\n",
    "\n",
    "\n",
    "    return theta, cost_history, theta_history"
   ]
  },
  {
   "cell_type": "code",
   "execution_count": 52,
   "id": "5766ad50",
   "metadata": {},
   "outputs": [
    {
     "data": {
      "text/plain": [
       "array([0., 0.])"
      ]
     },
     "execution_count": 52,
     "metadata": {},
     "output_type": "execute_result"
    }
   ],
   "source": [
    "Theta"
   ]
  },
  {
   "cell_type": "code",
   "execution_count": 103,
   "id": "8cc9081e",
   "metadata": {},
   "outputs": [],
   "source": [
    "# theta = np.random.randn(2,1)\n",
    "theta,cost_history,theta_history = gradient_descent(x_train,y_train,Theta,0.08,100)"
   ]
  },
  {
   "cell_type": "code",
   "execution_count": 92,
   "id": "6271b44c",
   "metadata": {},
   "outputs": [
    {
     "name": "stdout",
     "output_type": "stream",
     "text": [
      "Theta = [-0.01492917  0.14354696]\n",
      "Final Cost =  0.38058158019994787\n"
     ]
    }
   ],
   "source": [
    "print(\"Theta =\",theta)\n",
    "print(\"Final Cost = \",cost_history[-1])"
   ]
  },
  {
   "cell_type": "code",
   "execution_count": 104,
   "id": "5428e390",
   "metadata": {},
   "outputs": [
    {
     "name": "stdout",
     "output_type": "stream",
     "text": [
      "Theta = [-0.03185333  0.83079273]\n",
      "Final Cost =  0.15712068156347\n"
     ]
    }
   ],
   "source": [
    "print(\"Theta =\",theta)\n",
    "print(\"Final Cost = \",cost_history[-1])"
   ]
  },
  {
   "cell_type": "code",
   "execution_count": 109,
   "id": "b60bc1a3",
   "metadata": {},
   "outputs": [
    {
     "data": {
      "text/plain": [
       "array([ 2., -0.])"
      ]
     },
     "execution_count": 109,
     "metadata": {},
     "output_type": "execute_result"
    }
   ],
   "source": [
    "x_train[0] * [2,0]"
   ]
  },
  {
   "cell_type": "code",
   "execution_count": 110,
   "id": "e43ed68f",
   "metadata": {},
   "outputs": [
    {
     "data": {
      "text/plain": [
       "2.0"
      ]
     },
     "execution_count": 110,
     "metadata": {},
     "output_type": "execute_result"
    }
   ],
   "source": [
    "np.dot(x_train[0] ,[2,0])"
   ]
  },
  {
   "cell_type": "code",
   "execution_count": 111,
   "id": "a73e4315",
   "metadata": {},
   "outputs": [
    {
     "data": {
      "text/plain": [
       "array([-4.74172081e-01, -5.99852151e-01,  4.55745657e-02, -2.81443939e-01,\n",
       "       -5.28186026e-01,  1.62909369e-02, -5.60361332e-01, -5.55333266e-01,\n",
       "        2.17937559e-02, -5.75467110e-01, -4.19079152e-01, -6.85652967e-01,\n",
       "       -4.57124132e-01, -4.27559968e-01, -5.91824509e-01,  2.29555856e+00,\n",
       "        9.75529392e-01,  5.71773538e-01,  2.99862460e+00, -6.59261016e-01,\n",
       "       -3.70740664e-01, -5.21280528e-01, -2.07829572e-02, -8.07097348e-02,\n",
       "       -4.56427511e-02, -5.82890520e-01,  9.77255767e-01, -4.21668714e-01,\n",
       "       -6.25920407e-01, -3.07490616e-01, -5.46766132e-01, -2.62043805e-01,\n",
       "       -5.40788560e-01,  7.32110577e-01, -5.96852575e-01, -6.47327452e-01,\n",
       "       -1.90658216e-01, -4.26114129e-01, -4.20481832e-01, -4.38759823e-01,\n",
       "       -5.75682906e-01,  2.47344595e-01, -6.75035764e-01,  2.79922834e+00,\n",
       "        1.42438678e+00,  2.29857971e+00, -2.35047622e-01, -2.65602409e-03,\n",
       "        4.16184029e-01, -6.05959201e-01, -2.09950452e-01, -4.96593371e-01,\n",
       "       -2.33385987e-01, -1.65906320e-01,  4.24384308e-01, -6.90486816e-01,\n",
       "       -6.73072012e-01, -4.21172382e-01, -3.86601731e-01,  4.52724502e-02,\n",
       "        1.88345743e-01, -4.97499718e-01, -6.01427467e-01, -7.00909803e-01,\n",
       "       -5.61008723e-01, -1.44758232e-01, -6.47823784e-01, -3.02287869e-03])"
      ]
     },
     "execution_count": 111,
     "metadata": {},
     "output_type": "execute_result"
    }
   ],
   "source": [
    "y_predict = []\n",
    "for x_r in x_train:\n",
    "    y_predict.append(np.dot(x_r ,theta))\n",
    "y_predict = np.array(y_predict)\n",
    "y_predict"
   ]
  },
  {
   "cell_type": "code",
   "execution_count": 117,
   "id": "6766b06e",
   "metadata": {},
   "outputs": [
    {
     "name": "stdout",
     "output_type": "stream",
     "text": [
      "(68,)\n",
      "(68, 2)\n",
      "[-0.53240565 -0.68368294  0.09319761 -0.30042464 -0.5974206   0.0579498\n",
      " -0.63614904 -0.63009691  0.06457337 -0.6543314  -0.46609197 -0.78695878\n",
      " -0.51188555 -0.47630007 -0.67402031  2.80143506  1.21255602  0.72656735\n",
      "  3.64769432 -0.75519159 -0.40790839 -0.58910866  0.01332508 -0.05880697\n",
      " -0.0165979  -0.66326674  1.214634   -0.46920894 -0.71506051 -0.33177623\n",
      " -0.61978491 -0.27707328 -0.61258989  0.91956017 -0.68007244 -0.74082752\n",
      " -0.19114862 -0.47455975 -0.46778033 -0.48978099 -0.65459115  0.33606207\n",
      " -0.77417917  3.40768709  1.75283204  2.80507153 -0.2445788   0.03514392\n",
      "  0.53928898 -0.69103381 -0.2143701  -0.55939348 -0.24257874 -0.16135551\n",
      "  0.5491594  -0.79277713 -0.77181546 -0.46861152 -0.42699988  0.09283397\n",
      "  0.26504695 -0.56048442 -0.6855791  -0.80532297 -0.63692828 -0.1359002\n",
      " -0.74142494  0.03470234]\n"
     ]
    }
   ],
   "source": [
    "print(y_predict.shape)\n",
    "print(x_train.shape)\n",
    "print(x_train[:,1])"
   ]
  },
  {
   "cell_type": "code",
   "execution_count": 118,
   "id": "3a1f338b",
   "metadata": {},
   "outputs": [
    {
     "data": {
      "image/png": "[encoded data removed]",
      "text/plain": [
       "<Figure size 432x288 with 1 Axes>"
      ]
     },
     "metadata": {
      "needs_background": "light"
     },
     "output_type": "display_data"
    }
   ],
   "source": [
    "plt.plot(x_train[:,1], y_predict, \"b-\")\n",
    "plt.scatter(x_train[:,1], y_train)\n",
    "plt.xlabel('X - Habitantes de la ciudad')\n",
    "plt.ylabel('Y - Rentabilidad de la Ciudad')\n",
    "plt.show()"
   ]
  },
  {
   "cell_type": "markdown",
   "id": "06980dd7",
   "metadata": {},
   "source": [
    "## Error cuadrático "
   ]
  },
  {
   "cell_type": "code",
   "execution_count": 120,
   "id": "7af808ab",
   "metadata": {},
   "outputs": [
    {
     "name": "stdout",
     "output_type": "stream",
     "text": [
      "History Cost = \n"
     ]
    },
    {
     "data": {
      "text/plain": [
       "array([0.43660783, 0.39572285, 0.36084829, 0.3310961 , 0.30571011,\n",
       "       0.28404635, 0.26555632, 0.24977274, 0.23629751, 0.22479137,\n",
       "       0.21496516, 0.20657241, 0.199403  , 0.19327776, 0.18804387,\n",
       "       0.18357102, 0.17974802, 0.17648002, 0.17368607, 0.17129708,\n",
       "       0.1692541 , 0.16750678, 0.16601215, 0.16473349, 0.16363947,\n",
       "       0.16270331, 0.16190212, 0.16121637, 0.16062935, 0.16012679,\n",
       "       0.15969649, 0.15932801, 0.15901244, 0.15874215, 0.15851061,\n",
       "       0.15831226, 0.15814231, 0.15799668, 0.15787188, 0.15776491,\n",
       "       0.15767323, 0.15759464, 0.15752726, 0.15746948, 0.15741994,\n",
       "       0.15737746, 0.15734103, 0.15730977, 0.15728297, 0.15725997,\n",
       "       0.15724024, 0.15722331, 0.15720878, 0.15719631, 0.15718562,\n",
       "       0.15717643, 0.15716855, 0.15716178, 0.15715597, 0.15715099,\n",
       "       0.1571467 , 0.15714303, 0.15713987, 0.15713716, 0.15713483,\n",
       "       0.15713283, 0.15713111, 0.15712963, 0.15712836, 0.15712727,\n",
       "       0.15712634, 0.15712553, 0.15712484, 0.15712425, 0.15712374,\n",
       "       0.1571233 , 0.15712292, 0.1571226 , 0.15712232, 0.15712208,\n",
       "       0.15712187, 0.1571217 , 0.15712154, 0.15712141, 0.1571213 ,\n",
       "       0.1571212 , 0.15712112, 0.15712105, 0.15712099, 0.15712093,\n",
       "       0.15712089, 0.15712085, 0.15712082, 0.15712079, 0.15712076,\n",
       "       0.15712074, 0.15712072, 0.15712071, 0.15712069, 0.15712068])"
      ]
     },
     "execution_count": 120,
     "metadata": {},
     "output_type": "execute_result"
    }
   ],
   "source": [
    "print(\"History Cost = \")\n",
    "cost_history"
   ]
  }
 ],
 "metadata": {
  "kernelspec": {
   "display_name": "Python 3 (ipykernel)",
   "language": "python",
   "name": "python3"
  },
  "language_info": {
   "codemirror_mode": {
    "name": "ipython",
    "version": 3
   },
   "file_extension": ".py",
   "mimetype": "text/x-python",
   "name": "python",
   "nbconvert_exporter": "python",
   "pygments_lexer": "ipython3",
   "version": "3.8.12"
  }
 },
 "nbformat": 4,
 "nbformat_minor": 5
}
