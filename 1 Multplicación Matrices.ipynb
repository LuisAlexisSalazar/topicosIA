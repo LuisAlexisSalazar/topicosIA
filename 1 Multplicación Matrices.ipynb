{
 "cells": [
  {
   "cell_type": "code",
   "execution_count": 138,
   "id": "e6507ad2",
   "metadata": {},
   "outputs": [],
   "source": [
    "import numpy as np\n",
    "\n",
    "# dimensiones de la matriz A -> (4,4) , (3,2) , detecta Erro (5,7)\n",
    "row_arr_A, col_arr_A = 3, 2 #3, 2 \n",
    "\n",
    "# dimensiones de la matriz B -> (4,4) , (2,3) , detecta Erro (6,5)\n",
    "row_arr_B, col_arr_B = 2, 3 #6, 5  "
   ]
  },
  {
   "cell_type": "code",
   "execution_count": 139,
   "id": "53320a16",
   "metadata": {},
   "outputs": [],
   "source": [
    "limit_random = 10\n",
    "\n",
    "arr_A = np.random.randint(limit_random, size=(row_arr_A, col_arr_A))\n",
    "\n",
    "arr_B = np.random.randint(limit_random, size=(row_arr_B, col_arr_B))"
   ]
  },
  {
   "cell_type": "code",
   "execution_count": 140,
   "id": "5a529178",
   "metadata": {},
   "outputs": [
    {
     "data": {
      "text/plain": [
       "array([[6, 7],\n",
       "       [1, 3],\n",
       "       [1, 5]])"
      ]
     },
     "execution_count": 140,
     "metadata": {},
     "output_type": "execute_result"
    }
   ],
   "source": [
    "arr_A"
   ]
  },
  {
   "cell_type": "code",
   "execution_count": 141,
   "id": "e737b9ef",
   "metadata": {},
   "outputs": [
    {
     "data": {
      "text/plain": [
       "array([[6, 9, 1],\n",
       "       [2, 5, 8]])"
      ]
     },
     "execution_count": 141,
     "metadata": {},
     "output_type": "execute_result"
    }
   ],
   "source": [
    "arr_B"
   ]
  },
  {
   "cell_type": "markdown",
   "id": "d0674ccd",
   "metadata": {},
   "source": [
    "### Implementación de la Multiplicación de Matrices "
   ]
  },
  {
   "cell_type": "code",
   "execution_count": 142,
   "id": "029253f0",
   "metadata": {},
   "outputs": [],
   "source": [
    "# Si no valen las multiplicaciones que tiene por defecto el array de 1 sola dimensión numpy\n",
    "def mult_array(array_A, array_B):\n",
    "    sumValue = 0\n",
    "    len_A = len(array_A)\n",
    "    for i in range(len_A):\n",
    "        sumValue += array_A[i] * array_B[i]\n",
    "    return sumValue"
   ]
  },
  {
   "cell_type": "code",
   "execution_count": 143,
   "id": "f66ebce4",
   "metadata": {},
   "outputs": [],
   "source": [
    "def mult_matrix(matrix_A: np.ndarray, matrix_B: np.ndarray):\n",
    "    row_A, col_A = matrix_A.shape\n",
    "    row_B, col_B = matrix_B.shape\n",
    "    matrix_Result = []\n",
    "\n",
    "    if col_A == row_B:\n",
    "        matrix_B = matrix_B.transpose()\n",
    "        for i in range(row_A):\n",
    "            new_row = []\n",
    "            for j in range(col_B):\n",
    "                # item = mult_array(matrix_A[i], matrix_B[j])\n",
    "                item = (matrix_A[i] * matrix_B[j]).sum()\n",
    "                new_row.append(item)\n",
    "            matrix_Result.append(new_row)\n",
    "        return np.array(matrix_Result)\n",
    "    else:\n",
    "        print(\n",
    "            \"La segunda dimensión de la primera matriz debe ser igual a la primera dimensión de la segunda matriz\"\n",
    "        )"
   ]
  },
  {
   "cell_type": "code",
   "execution_count": 144,
   "id": "8202d19b",
   "metadata": {},
   "outputs": [
    {
     "data": {
      "text/plain": [
       "array([[50, 89, 62],\n",
       "       [12, 24, 25],\n",
       "       [16, 34, 41]])"
      ]
     },
     "execution_count": 144,
     "metadata": {},
     "output_type": "execute_result"
    }
   ],
   "source": [
    "mult_matrix(arr_A, arr_B)"
   ]
  }
 ],
 "metadata": {
  "kernelspec": {
   "display_name": "Python 3 (ipykernel)",
   "language": "python",
   "name": "python3"
  },
  "language_info": {
   "codemirror_mode": {
    "name": "ipython",
    "version": 3
   },
   "file_extension": ".py",
   "mimetype": "text/x-python",
   "name": "python",
   "nbconvert_exporter": "python",
   "pygments_lexer": "ipython3",
   "version": "3.8.12"
  }
 },
 "nbformat": 4,
 "nbformat_minor": 5
}
