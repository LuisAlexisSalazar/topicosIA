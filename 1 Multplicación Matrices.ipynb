{
 "cells": [
  {
   "cell_type": "code",
   "execution_count": 3,
   "id": "e6507ad2",
   "metadata": {},
   "outputs": [],
   "source": [
    "import numpy as np\n",
    "\n",
    "# dimensiones de la matriz A\n",
    "row_arr_A = 4\n",
    "col_arr_A = 4\n",
    "\n",
    "# dimensiones de la matriz B\n",
    "row_arr_B = 4\n",
    "col_arr_B = 4"
   ]
  },
  {
   "cell_type": "code",
   "execution_count": 7,
   "id": "53320a16",
   "metadata": {},
   "outputs": [],
   "source": [
    "limit_random = 10\n",
    "\n",
    "arr_A = np.random.randint(limit_random, size=(row_arr_A, col_arr_A))\n",
    "\n",
    "arr_B = np.random.randint(limit_random, size=(row_arr_A, col_arr_B))"
   ]
  },
  {
   "cell_type": "code",
   "execution_count": 8,
   "id": "8c1b65ea",
   "metadata": {},
   "outputs": [
    {
     "data": {
      "text/plain": [
       "array([[1, 9, 4, 0],\n",
       "       [0, 5, 2, 0],\n",
       "       [2, 5, 8, 5],\n",
       "       [9, 5, 8, 8]])"
      ]
     },
     "execution_count": 8,
     "metadata": {},
     "output_type": "execute_result"
    }
   ],
   "source": [
    "arr_A"
   ]
  },
  {
   "cell_type": "code",
   "execution_count": 9,
   "id": "2d19dee5",
   "metadata": {},
   "outputs": [
    {
     "data": {
      "text/plain": [
       "array([[8, 9, 8, 5],\n",
       "       [7, 0, 9, 2],\n",
       "       [9, 5, 8, 0],\n",
       "       [5, 2, 1, 9]])"
      ]
     },
     "execution_count": 9,
     "metadata": {},
     "output_type": "execute_result"
    }
   ],
   "source": [
    "arr_B"
   ]
  },
  {
   "cell_type": "markdown",
   "id": "f2f4122e",
   "metadata": {},
   "source": [
    "### Implementación de la Multiplicación de Matrices "
   ]
  },
  {
   "cell_type": "code",
   "execution_count": 10,
   "id": "b0f77d79",
   "metadata": {},
   "outputs": [
    {
     "data": {
      "text/plain": [
       "numpy.ndarray"
      ]
     },
     "execution_count": 10,
     "metadata": {},
     "output_type": "execute_result"
    }
   ],
   "source": [
    "type(arr_A)"
   ]
  },
  {
   "cell_type": "code",
   "execution_count": 24,
   "id": "a0f7180b",
   "metadata": {},
   "outputs": [
    {
     "ename": "TypeError",
     "evalue": "can't multiply sequence by non-int of type 'list'",
     "output_type": "error",
     "traceback": [
      "\u001b[1;31m---------------------------------------------------------------------------\u001b[0m",
      "\u001b[1;31mTypeError\u001b[0m                                 Traceback (most recent call last)",
      "Input \u001b[1;32mIn [24]\u001b[0m, in \u001b[0;36m<cell line: 3>\u001b[1;34m()\u001b[0m\n\u001b[0;32m      1\u001b[0m a \u001b[38;5;241m=\u001b[39m [\u001b[38;5;241m1\u001b[39m,\u001b[38;5;241m2\u001b[39m,\u001b[38;5;241m3\u001b[39m]\n\u001b[0;32m      2\u001b[0m b \u001b[38;5;241m=\u001b[39m [\u001b[38;5;241m3\u001b[39m,\u001b[38;5;241m5\u001b[39m,\u001b[38;5;241m6\u001b[39m]\n\u001b[1;32m----> 3\u001b[0m \u001b[43ma\u001b[49m\u001b[38;5;241;43m*\u001b[39;49m\u001b[43mb\u001b[49m\n",
      "\u001b[1;31mTypeError\u001b[0m: can't multiply sequence by non-int of type 'list'"
     ]
    }
   ],
   "source": [
    "a = [1,2,3]\n",
    "b = [3,5,6]\n",
    "a*b"
   ]
  },
  {
   "cell_type": "code",
   "execution_count": 35,
   "id": "3448d52e",
   "metadata": {},
   "outputs": [],
   "source": [
    "def mult_array(array_A, array_B):\n",
    "    #     for a, b in zip(array_A, array_B):\n",
    "    value = 0\n",
    "    len_A = len(arr_A)\n",
    "    for i in range(len_A):\n",
    "        value +=value + (array_A[i] * array_B[i])\n",
    "    return value"
   ]
  },
  {
   "cell_type": "code",
   "execution_count": 47,
   "id": "437b7508",
   "metadata": {},
   "outputs": [
    {
     "name": "stdout",
     "output_type": "stream",
     "text": [
      "[[8 7 9 5]\n",
      " [9 0 5 2]\n",
      " [8 9 8 1]\n",
      " [5 2 0 9]]\n"
     ]
    }
   ],
   "source": [
    "print(arr_B.transpose())"
   ]
  },
  {
   "cell_type": "code",
   "execution_count": 56,
   "id": "999f7480",
   "metadata": {},
   "outputs": [],
   "source": [
    "def mult_matrix(matrix_A: np.ndarray, matrix_B: np.ndarray):\n",
    "    row_A, col_A = matrix_A.shape\n",
    "    row_B, col_B = matrix_B.shape\n",
    "    print(row_A)\n",
    "\n",
    "    if col_A == row_A:\n",
    "        for i in range(row_A):\n",
    "#             print(matrix_A[i])\n",
    "            new_row = []\n",
    "            for j in range(col_B):\n",
    "#                 print(matrix_B.transpose()[j])\n",
    "                item = mult_array(matrix_A[i],matrix_B.transpose()[j])\n",
    "                new_row.append(item)\n",
    "print(new_row)\n",
    "\n",
    "    else:\n",
    "        print(\n",
    "            \"La segunda dimensión de la primera matrix debe ser igual a la primera dimensión de la segunda matrix\"\n",
    "        )"
   ]
  },
  {
   "cell_type": "code",
   "execution_count": 57,
   "id": "1652b352",
   "metadata": {},
   "outputs": [
    {
     "name": "stdout",
     "output_type": "stream",
     "text": [
      "4\n",
      "[1 9 4 0]\n",
      "[8 7 9 5]\n",
      "[9 0 5 2]\n",
      "[8 9 8 1]\n",
      "[5 2 0 9]\n",
      "[0 5 2 0]\n",
      "[8 7 9 5]\n",
      "[9 0 5 2]\n",
      "[8 9 8 1]\n",
      "[5 2 0 9]\n",
      "[2 5 8 5]\n",
      "[8 7 9 5]\n",
      "[9 0 5 2]\n",
      "[8 9 8 1]\n",
      "[5 2 0 9]\n",
      "[9 5 8 8]\n",
      "[8 7 9 5]\n",
      "[9 0 5 2]\n",
      "[8 9 8 1]\n",
      "[5 2 0 9]\n"
     ]
    }
   ],
   "source": [
    "mult_matrix(arr_A,arr_B)"
   ]
  },
  {
   "cell_type": "code",
   "execution_count": null,
   "id": "4d481712",
   "metadata": {},
   "outputs": [],
   "source": []
  }
 ],
 "metadata": {
  "kernelspec": {
   "display_name": "Python 3 (ipykernel)",
   "language": "python",
   "name": "python3"
  },
  "language_info": {
   "codemirror_mode": {
    "name": "ipython",
    "version": 3
   },
   "file_extension": ".py",
   "mimetype": "text/x-python",
   "name": "python",
   "nbconvert_exporter": "python",
   "pygments_lexer": "ipython3",
   "version": "3.8.12"
  }
 },
 "nbformat": 4,
 "nbformat_minor": 5
}
