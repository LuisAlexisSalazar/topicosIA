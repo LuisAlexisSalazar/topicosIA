{
 "cells": [
  {
   "cell_type": "code",
   "execution_count": 13,
   "id": "160173ef",
   "metadata": {},
   "outputs": [],
   "source": [
    "import pandas as pd\n",
    "import numpy as np\n",
    "import matplotlib.pyplot as plt"
   ]
  },
  {
   "cell_type": "markdown",
   "id": "d2466574",
   "metadata": {},
   "source": [
    "# Lecturas de Datos"
   ]
  },
  {
   "cell_type": "code",
   "execution_count": 14,
   "id": "6464778a",
   "metadata": {},
   "outputs": [
    {
     "data": {
      "text/html": [
       "<div>\n",
       "<style scoped>\n",
       "    .dataframe tbody tr th:only-of-type {\n",
       "        vertical-align: middle;\n",
       "    }\n",
       "\n",
       "    .dataframe tbody tr th {\n",
       "        vertical-align: top;\n",
       "    }\n",
       "\n",
       "    .dataframe thead th {\n",
       "        text-align: right;\n",
       "    }\n",
       "</style>\n",
       "<table border=\"1\" class=\"dataframe\">\n",
       "  <thead>\n",
       "    <tr style=\"text-align: right;\">\n",
       "      <th></th>\n",
       "      <th>Make</th>\n",
       "      <th>Model</th>\n",
       "      <th>Year</th>\n",
       "      <th>Engine Fuel Type</th>\n",
       "      <th>Engine HP</th>\n",
       "      <th>Engine Cylinders</th>\n",
       "      <th>Transmission Type</th>\n",
       "      <th>Driven_Wheels</th>\n",
       "      <th>Number of Doors</th>\n",
       "      <th>Market Category</th>\n",
       "      <th>Vehicle Size</th>\n",
       "      <th>Vehicle Style</th>\n",
       "      <th>highway MPG</th>\n",
       "      <th>city mpg</th>\n",
       "      <th>Popularity</th>\n",
       "      <th>MSRP</th>\n",
       "    </tr>\n",
       "  </thead>\n",
       "  <tbody>\n",
       "    <tr>\n",
       "      <th>0</th>\n",
       "      <td>BMW</td>\n",
       "      <td>1 Series M</td>\n",
       "      <td>2011</td>\n",
       "      <td>premium unleaded (required)</td>\n",
       "      <td>335.0</td>\n",
       "      <td>6.0</td>\n",
       "      <td>MANUAL</td>\n",
       "      <td>rear wheel drive</td>\n",
       "      <td>2.0</td>\n",
       "      <td>Factory Tuner,Luxury,High-Performance</td>\n",
       "      <td>Compact</td>\n",
       "      <td>Coupe</td>\n",
       "      <td>26</td>\n",
       "      <td>19</td>\n",
       "      <td>3916</td>\n",
       "      <td>46135</td>\n",
       "    </tr>\n",
       "    <tr>\n",
       "      <th>1</th>\n",
       "      <td>BMW</td>\n",
       "      <td>1 Series</td>\n",
       "      <td>2011</td>\n",
       "      <td>premium unleaded (required)</td>\n",
       "      <td>300.0</td>\n",
       "      <td>6.0</td>\n",
       "      <td>MANUAL</td>\n",
       "      <td>rear wheel drive</td>\n",
       "      <td>2.0</td>\n",
       "      <td>Luxury,Performance</td>\n",
       "      <td>Compact</td>\n",
       "      <td>Convertible</td>\n",
       "      <td>28</td>\n",
       "      <td>19</td>\n",
       "      <td>3916</td>\n",
       "      <td>40650</td>\n",
       "    </tr>\n",
       "    <tr>\n",
       "      <th>2</th>\n",
       "      <td>BMW</td>\n",
       "      <td>1 Series</td>\n",
       "      <td>2011</td>\n",
       "      <td>premium unleaded (required)</td>\n",
       "      <td>300.0</td>\n",
       "      <td>6.0</td>\n",
       "      <td>MANUAL</td>\n",
       "      <td>rear wheel drive</td>\n",
       "      <td>2.0</td>\n",
       "      <td>Luxury,High-Performance</td>\n",
       "      <td>Compact</td>\n",
       "      <td>Coupe</td>\n",
       "      <td>28</td>\n",
       "      <td>20</td>\n",
       "      <td>3916</td>\n",
       "      <td>36350</td>\n",
       "    </tr>\n",
       "    <tr>\n",
       "      <th>3</th>\n",
       "      <td>BMW</td>\n",
       "      <td>1 Series</td>\n",
       "      <td>2011</td>\n",
       "      <td>premium unleaded (required)</td>\n",
       "      <td>230.0</td>\n",
       "      <td>6.0</td>\n",
       "      <td>MANUAL</td>\n",
       "      <td>rear wheel drive</td>\n",
       "      <td>2.0</td>\n",
       "      <td>Luxury,Performance</td>\n",
       "      <td>Compact</td>\n",
       "      <td>Coupe</td>\n",
       "      <td>28</td>\n",
       "      <td>18</td>\n",
       "      <td>3916</td>\n",
       "      <td>29450</td>\n",
       "    </tr>\n",
       "    <tr>\n",
       "      <th>4</th>\n",
       "      <td>BMW</td>\n",
       "      <td>1 Series</td>\n",
       "      <td>2011</td>\n",
       "      <td>premium unleaded (required)</td>\n",
       "      <td>230.0</td>\n",
       "      <td>6.0</td>\n",
       "      <td>MANUAL</td>\n",
       "      <td>rear wheel drive</td>\n",
       "      <td>2.0</td>\n",
       "      <td>Luxury</td>\n",
       "      <td>Compact</td>\n",
       "      <td>Convertible</td>\n",
       "      <td>28</td>\n",
       "      <td>18</td>\n",
       "      <td>3916</td>\n",
       "      <td>34500</td>\n",
       "    </tr>\n",
       "  </tbody>\n",
       "</table>\n",
       "</div>"
      ],
      "text/plain": [
       "  Make       Model  Year             Engine Fuel Type  Engine HP  \\\n",
       "0  BMW  1 Series M  2011  premium unleaded (required)      335.0   \n",
       "1  BMW    1 Series  2011  premium unleaded (required)      300.0   \n",
       "2  BMW    1 Series  2011  premium unleaded (required)      300.0   \n",
       "3  BMW    1 Series  2011  premium unleaded (required)      230.0   \n",
       "4  BMW    1 Series  2011  premium unleaded (required)      230.0   \n",
       "\n",
       "   Engine Cylinders Transmission Type     Driven_Wheels  Number of Doors  \\\n",
       "0               6.0            MANUAL  rear wheel drive              2.0   \n",
       "1               6.0            MANUAL  rear wheel drive              2.0   \n",
       "2               6.0            MANUAL  rear wheel drive              2.0   \n",
       "3               6.0            MANUAL  rear wheel drive              2.0   \n",
       "4               6.0            MANUAL  rear wheel drive              2.0   \n",
       "\n",
       "                         Market Category Vehicle Size Vehicle Style  \\\n",
       "0  Factory Tuner,Luxury,High-Performance      Compact         Coupe   \n",
       "1                     Luxury,Performance      Compact   Convertible   \n",
       "2                Luxury,High-Performance      Compact         Coupe   \n",
       "3                     Luxury,Performance      Compact         Coupe   \n",
       "4                                 Luxury      Compact   Convertible   \n",
       "\n",
       "   highway MPG  city mpg  Popularity   MSRP  \n",
       "0           26        19        3916  46135  \n",
       "1           28        19        3916  40650  \n",
       "2           28        20        3916  36350  \n",
       "3           28        18        3916  29450  \n",
       "4           28        18        3916  34500  "
      ]
     },
     "execution_count": 14,
     "metadata": {},
     "output_type": "execute_result"
    }
   ],
   "source": [
    "# Link del dataset: https://www.kaggle.com/datasets/CooperUnion/cardataset\n",
    "# El dataset sobre carros\n",
    "df = pd.read_csv(\"data/data.csv\")\n",
    "df.head()"
   ]
  },
  {
   "cell_type": "code",
   "execution_count": 15,
   "id": "ba0d8677",
   "metadata": {},
   "outputs": [],
   "source": [
    "features = [\"Year\",\"Engine Cylinders\",\"Engine HP\"]\n",
    "# features = [\"Engine Cylinders\",\"Engine HP\"]\n",
    "# features = [\"Year\",\"Engine Cylinders\",\"Engine HP\",\"Vehicle Size\"]\n",
    "label_y = \"MSRP\""
   ]
  },
  {
   "cell_type": "code",
   "execution_count": 16,
   "id": "8438c89d",
   "metadata": {},
   "outputs": [],
   "source": [
    "n_features = len(features)"
   ]
  },
  {
   "cell_type": "code",
   "execution_count": 17,
   "id": "01ce9547",
   "metadata": {},
   "outputs": [
    {
     "data": {
      "text/html": [
       "<div>\n",
       "<style scoped>\n",
       "    .dataframe tbody tr th:only-of-type {\n",
       "        vertical-align: middle;\n",
       "    }\n",
       "\n",
       "    .dataframe tbody tr th {\n",
       "        vertical-align: top;\n",
       "    }\n",
       "\n",
       "    .dataframe thead th {\n",
       "        text-align: right;\n",
       "    }\n",
       "</style>\n",
       "<table border=\"1\" class=\"dataframe\">\n",
       "  <thead>\n",
       "    <tr style=\"text-align: right;\">\n",
       "      <th></th>\n",
       "      <th>Year</th>\n",
       "      <th>Engine Cylinders</th>\n",
       "      <th>Engine HP</th>\n",
       "      <th>MSRP</th>\n",
       "    </tr>\n",
       "  </thead>\n",
       "  <tbody>\n",
       "    <tr>\n",
       "      <th>0</th>\n",
       "      <td>2011</td>\n",
       "      <td>6.0</td>\n",
       "      <td>335.0</td>\n",
       "      <td>46135</td>\n",
       "    </tr>\n",
       "    <tr>\n",
       "      <th>1</th>\n",
       "      <td>2011</td>\n",
       "      <td>6.0</td>\n",
       "      <td>300.0</td>\n",
       "      <td>40650</td>\n",
       "    </tr>\n",
       "    <tr>\n",
       "      <th>2</th>\n",
       "      <td>2011</td>\n",
       "      <td>6.0</td>\n",
       "      <td>300.0</td>\n",
       "      <td>36350</td>\n",
       "    </tr>\n",
       "    <tr>\n",
       "      <th>3</th>\n",
       "      <td>2011</td>\n",
       "      <td>6.0</td>\n",
       "      <td>230.0</td>\n",
       "      <td>29450</td>\n",
       "    </tr>\n",
       "    <tr>\n",
       "      <th>4</th>\n",
       "      <td>2011</td>\n",
       "      <td>6.0</td>\n",
       "      <td>230.0</td>\n",
       "      <td>34500</td>\n",
       "    </tr>\n",
       "    <tr>\n",
       "      <th>...</th>\n",
       "      <td>...</td>\n",
       "      <td>...</td>\n",
       "      <td>...</td>\n",
       "      <td>...</td>\n",
       "    </tr>\n",
       "    <tr>\n",
       "      <th>11909</th>\n",
       "      <td>2012</td>\n",
       "      <td>6.0</td>\n",
       "      <td>300.0</td>\n",
       "      <td>46120</td>\n",
       "    </tr>\n",
       "    <tr>\n",
       "      <th>11910</th>\n",
       "      <td>2012</td>\n",
       "      <td>6.0</td>\n",
       "      <td>300.0</td>\n",
       "      <td>56670</td>\n",
       "    </tr>\n",
       "    <tr>\n",
       "      <th>11911</th>\n",
       "      <td>2012</td>\n",
       "      <td>6.0</td>\n",
       "      <td>300.0</td>\n",
       "      <td>50620</td>\n",
       "    </tr>\n",
       "    <tr>\n",
       "      <th>11912</th>\n",
       "      <td>2013</td>\n",
       "      <td>6.0</td>\n",
       "      <td>300.0</td>\n",
       "      <td>50920</td>\n",
       "    </tr>\n",
       "    <tr>\n",
       "      <th>11913</th>\n",
       "      <td>2006</td>\n",
       "      <td>6.0</td>\n",
       "      <td>221.0</td>\n",
       "      <td>28995</td>\n",
       "    </tr>\n",
       "  </tbody>\n",
       "</table>\n",
       "<p>11914 rows × 4 columns</p>\n",
       "</div>"
      ],
      "text/plain": [
       "       Year  Engine Cylinders  Engine HP   MSRP\n",
       "0      2011               6.0      335.0  46135\n",
       "1      2011               6.0      300.0  40650\n",
       "2      2011               6.0      300.0  36350\n",
       "3      2011               6.0      230.0  29450\n",
       "4      2011               6.0      230.0  34500\n",
       "...     ...               ...        ...    ...\n",
       "11909  2012               6.0      300.0  46120\n",
       "11910  2012               6.0      300.0  56670\n",
       "11911  2012               6.0      300.0  50620\n",
       "11912  2013               6.0      300.0  50920\n",
       "11913  2006               6.0      221.0  28995\n",
       "\n",
       "[11914 rows x 4 columns]"
      ]
     },
     "execution_count": 17,
     "metadata": {},
     "output_type": "execute_result"
    }
   ],
   "source": [
    "df = df[features+[label_y]]\n",
    "df"
   ]
  },
  {
   "cell_type": "code",
   "execution_count": 18,
   "id": "4c8a578b",
   "metadata": {},
   "outputs": [
    {
     "data": {
      "text/plain": [
       "Year                 0\n",
       "Engine Cylinders    30\n",
       "Engine HP           69\n",
       "MSRP                 0\n",
       "dtype: int64"
      ]
     },
     "execution_count": 18,
     "metadata": {},
     "output_type": "execute_result"
    }
   ],
   "source": [
    "df.isnull().sum()"
   ]
  },
  {
   "cell_type": "code",
   "execution_count": 19,
   "id": "4a6d2482",
   "metadata": {},
   "outputs": [
    {
     "data": {
      "text/plain": [
       "Year                0\n",
       "Engine Cylinders    0\n",
       "Engine HP           0\n",
       "MSRP                0\n",
       "dtype: int64"
      ]
     },
     "execution_count": 19,
     "metadata": {},
     "output_type": "execute_result"
    }
   ],
   "source": [
    "# Eliminar registros con valor \"nan\"\n",
    "df = df.dropna()\n",
    "df.isnull().sum()"
   ]
  },
  {
   "cell_type": "code",
   "execution_count": 20,
   "id": "4ef48a63",
   "metadata": {},
   "outputs": [],
   "source": [
    "df = df[:100]"
   ]
  },
  {
   "cell_type": "code",
   "execution_count": 21,
   "id": "1561db97",
   "metadata": {},
   "outputs": [],
   "source": []
  },
  {
   "cell_type": "code",
   "execution_count": 23,
   "id": "8a9f1195",
   "metadata": {},
   "outputs": [],
   "source": [
    "from sklearn import preprocessing\n",
    "# scaler.mean_\n",
    "# to std : estimador sesgado \n",
    "# https://scikit-learn.org/stable/modules/generated/sklearn.preprocessing.StandardScaler.html#sklearn.preprocessing.StandardScaler"
   ]
  },
  {
   "cell_type": "code",
   "execution_count": 30,
   "id": "c7ad1c57",
   "metadata": {},
   "outputs": [],
   "source": [
    "scaler = preprocessing.StandardScaler(with_std=True,with_mean=True).fit(df)\n",
    "scaler_data = scaler.transform(df)\n",
    "df_scaler = pd.DataFrame(scaler_data,columns=df.columns)"
   ]
  },
  {
   "cell_type": "code",
   "execution_count": 31,
   "id": "33a5883e",
   "metadata": {},
   "outputs": [
    {
     "data": {
      "text/html": [
       "<div>\n",
       "<style scoped>\n",
       "    .dataframe tbody tr th:only-of-type {\n",
       "        vertical-align: middle;\n",
       "    }\n",
       "\n",
       "    .dataframe tbody tr th {\n",
       "        vertical-align: top;\n",
       "    }\n",
       "\n",
       "    .dataframe thead th {\n",
       "        text-align: right;\n",
       "    }\n",
       "</style>\n",
       "<table border=\"1\" class=\"dataframe\">\n",
       "  <thead>\n",
       "    <tr style=\"text-align: right;\">\n",
       "      <th></th>\n",
       "      <th>Year</th>\n",
       "      <th>Engine Cylinders</th>\n",
       "      <th>Engine HP</th>\n",
       "      <th>MSRP</th>\n",
       "    </tr>\n",
       "  </thead>\n",
       "  <tbody>\n",
       "    <tr>\n",
       "      <th>0</th>\n",
       "      <td>0.412197</td>\n",
       "      <td>0.971398</td>\n",
       "      <td>1.900822</td>\n",
       "      <td>1.457578</td>\n",
       "    </tr>\n",
       "    <tr>\n",
       "      <th>1</th>\n",
       "      <td>0.412197</td>\n",
       "      <td>0.971398</td>\n",
       "      <td>1.361166</td>\n",
       "      <td>1.134345</td>\n",
       "    </tr>\n",
       "    <tr>\n",
       "      <th>2</th>\n",
       "      <td>0.412197</td>\n",
       "      <td>0.971398</td>\n",
       "      <td>1.361166</td>\n",
       "      <td>0.880945</td>\n",
       "    </tr>\n",
       "    <tr>\n",
       "      <th>3</th>\n",
       "      <td>0.412197</td>\n",
       "      <td>0.971398</td>\n",
       "      <td>0.281854</td>\n",
       "      <td>0.474326</td>\n",
       "    </tr>\n",
       "    <tr>\n",
       "      <th>4</th>\n",
       "      <td>0.412197</td>\n",
       "      <td>0.971398</td>\n",
       "      <td>0.281854</td>\n",
       "      <td>0.771924</td>\n",
       "    </tr>\n",
       "    <tr>\n",
       "      <th>...</th>\n",
       "      <td>...</td>\n",
       "      <td>...</td>\n",
       "      <td>...</td>\n",
       "      <td>...</td>\n",
       "    </tr>\n",
       "    <tr>\n",
       "      <th>95</th>\n",
       "      <td>-0.800146</td>\n",
       "      <td>-1.095406</td>\n",
       "      <td>-1.105832</td>\n",
       "      <td>-1.139010</td>\n",
       "    </tr>\n",
       "    <tr>\n",
       "      <th>96</th>\n",
       "      <td>-0.986660</td>\n",
       "      <td>-1.095406</td>\n",
       "      <td>-0.874551</td>\n",
       "      <td>-1.042365</td>\n",
       "    </tr>\n",
       "    <tr>\n",
       "      <th>97</th>\n",
       "      <td>-0.986660</td>\n",
       "      <td>-1.095406</td>\n",
       "      <td>-0.874551</td>\n",
       "      <td>-1.053738</td>\n",
       "    </tr>\n",
       "    <tr>\n",
       "      <th>98</th>\n",
       "      <td>-0.893403</td>\n",
       "      <td>-1.095406</td>\n",
       "      <td>-0.874551</td>\n",
       "      <td>-1.030755</td>\n",
       "    </tr>\n",
       "    <tr>\n",
       "      <th>99</th>\n",
       "      <td>-0.893403</td>\n",
       "      <td>-1.095406</td>\n",
       "      <td>-0.874551</td>\n",
       "      <td>-1.014726</td>\n",
       "    </tr>\n",
       "  </tbody>\n",
       "</table>\n",
       "<p>100 rows × 4 columns</p>\n",
       "</div>"
      ],
      "text/plain": [
       "        Year  Engine Cylinders  Engine HP      MSRP\n",
       "0   0.412197          0.971398   1.900822  1.457578\n",
       "1   0.412197          0.971398   1.361166  1.134345\n",
       "2   0.412197          0.971398   1.361166  0.880945\n",
       "3   0.412197          0.971398   0.281854  0.474326\n",
       "4   0.412197          0.971398   0.281854  0.771924\n",
       "..       ...               ...        ...       ...\n",
       "95 -0.800146         -1.095406  -1.105832 -1.139010\n",
       "96 -0.986660         -1.095406  -0.874551 -1.042365\n",
       "97 -0.986660         -1.095406  -0.874551 -1.053738\n",
       "98 -0.893403         -1.095406  -0.874551 -1.030755\n",
       "99 -0.893403         -1.095406  -0.874551 -1.014726\n",
       "\n",
       "[100 rows x 4 columns]"
      ]
     },
     "execution_count": 31,
     "metadata": {},
     "output_type": "execute_result"
    }
   ],
   "source": [
    "df_scaler"
   ]
  },
  {
   "cell_type": "code",
   "execution_count": 34,
   "id": "c2faf7e1",
   "metadata": {},
   "outputs": [],
   "source": [
    "x_scaler = df_scaler[features]\n",
    "y_scaler = df_scaler[label_y]"
   ]
  },
  {
   "cell_type": "code",
   "execution_count": 35,
   "id": "f92d5bed",
   "metadata": {},
   "outputs": [
    {
     "name": "stdout",
     "output_type": "stream",
     "text": [
      "       Year  Engine Cylinders  Engine HP\n",
      "0  0.412197          0.971398   1.900822\n",
      "1  0.412197          0.971398   1.361166\n",
      "2  0.412197          0.971398   1.361166\n",
      "3  0.412197          0.971398   0.281854\n",
      "4  0.412197          0.971398   0.281854\n",
      "0    1.457578\n",
      "1    1.134345\n",
      "2    0.880945\n",
      "3    0.474326\n",
      "4    0.771924\n",
      "Name: MSRP, dtype: float64\n"
     ]
    }
   ],
   "source": [
    "print(x_scaler[:5])\n",
    "print(y_scaler[:5])"
   ]
  },
  {
   "cell_type": "markdown",
   "id": "dc9ab389",
   "metadata": {},
   "source": [
    "# Probado hasta aqui"
   ]
  },
  {
   "cell_type": "code",
   "execution_count": 166,
   "id": "55cb40fd",
   "metadata": {},
   "outputs": [],
   "source": [
    "x_whole= x_whole.to_numpy()"
   ]
  },
  {
   "cell_type": "code",
   "execution_count": 192,
   "id": "224179c1",
   "metadata": {},
   "outputs": [
    {
     "data": {
      "text/plain": [
       "array([[1.000e+00, 1.000e+00, 2.011e+03, 6.000e+00, 3.350e+02],\n",
       "       [1.000e+00, 1.000e+00, 2.011e+03, 6.000e+00, 3.000e+02],\n",
       "       [1.000e+00, 1.000e+00, 2.011e+03, 6.000e+00, 3.000e+02],\n",
       "       [1.000e+00, 1.000e+00, 2.011e+03, 6.000e+00, 2.300e+02],\n",
       "       [1.000e+00, 1.000e+00, 2.011e+03, 6.000e+00, 2.300e+02]])"
      ]
     },
     "execution_count": 192,
     "metadata": {},
     "output_type": "execute_result"
    }
   ],
   "source": [
    "x_whole[:5]"
   ]
  },
  {
   "cell_type": "code",
   "execution_count": 168,
   "id": "21105cb4",
   "metadata": {},
   "outputs": [
    {
     "data": {
      "text/plain": [
       "(100, 3)"
      ]
     },
     "execution_count": 168,
     "metadata": {},
     "output_type": "execute_result"
    }
   ],
   "source": [
    "x_whole.shape"
   ]
  },
  {
   "cell_type": "code",
   "execution_count": 191,
   "id": "ebb44412",
   "metadata": {},
   "outputs": [
    {
     "data": {
      "text/plain": [
       "array([[1.000e+00, 1.000e+00, 2.011e+03, 6.000e+00, 3.350e+02],\n",
       "       [1.000e+00, 1.000e+00, 2.011e+03, 6.000e+00, 3.000e+02],\n",
       "       [1.000e+00, 1.000e+00, 2.011e+03, 6.000e+00, 3.000e+02],\n",
       "       [1.000e+00, 1.000e+00, 2.011e+03, 6.000e+00, 2.300e+02],\n",
       "       [1.000e+00, 1.000e+00, 2.011e+03, 6.000e+00, 2.300e+02]])"
      ]
     },
     "execution_count": 191,
     "metadata": {},
     "output_type": "execute_result"
    }
   ],
   "source": [
    "n_ones = np.ones([len(x_whole), 1])\n",
    "x_whole = np.concatenate((n_ones, x_whole), axis=1)\n",
    "x_whole[:5]"
   ]
  },
  {
   "cell_type": "markdown",
   "id": "d9859017",
   "metadata": {},
   "source": [
    "Definiendo la Función de Costo y la función de Hipótesis $H_{\\theta}(x)$\n",
    "- Función de Costo:\n",
    "$$\n",
    "J(\\theta)=J(\\theta_{0},\\theta_{1},\\dots,\\theta_{n})\\\\\n",
    "J(\\theta) = \\frac{1}{2m}\\sum_{i=0}^{m}( h_{\\theta}(x^{(i)})-y^{(i)})^{2}\n",
    "$$\n",
    "- Hipótesis\n",
    "$$\n",
    "h_{\\theta}(x) = \\theta_{0} + \\theta_{1}x_{1} + \\dots + \\theta_{n}x_{n} = \\theta^{T}x\n",
    "$$"
   ]
  },
  {
   "cell_type": "code",
   "execution_count": 170,
   "id": "f6fa95d1",
   "metadata": {},
   "outputs": [],
   "source": [
    "def predict(thetas, x_data):\n",
    "    return np.dot(x_data, thetas)"
   ]
  },
  {
   "cell_type": "code",
   "execution_count": 171,
   "id": "992a6228",
   "metadata": {},
   "outputs": [],
   "source": [
    "def fun_cost(x_data, y_result, thetas):\n",
    "    cost = 0\n",
    "    # m\n",
    "    len_data_x = x_data.shape[0]\n",
    "    cost = 0\n",
    "\n",
    "    predict_error = predict(thetas, x_data) - y_result\n",
    "    square_predict_error = np.power(predict_error, 2)\n",
    "\n",
    "    sumatoria_error_cuadratico = np.sum(square_predict_error)\n",
    "    cost = 1.0 / (2 * len_data_x) * sumatoria_error_cuadratico\n",
    "    return cost"
   ]
  },
  {
   "cell_type": "code",
   "execution_count": 172,
   "id": "66c0a1b4",
   "metadata": {},
   "outputs": [
    {
     "data": {
      "text/plain": [
       "array([[0.],\n",
       "       [0.],\n",
       "       [0.],\n",
       "       [0.]])"
      ]
     },
     "execution_count": 172,
     "metadata": {},
     "output_type": "execute_result"
    }
   ],
   "source": [
    "thetas = np.zeros(n_features + 1)\n",
    "thetas = thetas.reshape(n + 1, 1)\n",
    "thetas"
   ]
  },
  {
   "cell_type": "code",
   "execution_count": 173,
   "id": "70957fb7",
   "metadata": {},
   "outputs": [
    {
     "data": {
      "text/plain": [
       "array([46135, 40650, 36350, 29450, 34500, 31200, 44100, 39300, 36900,\n",
       "       37200, 39600, 31500, 44400, 37200, 31500, 48250, 43550,  2000,\n",
       "        2000,  2000,  2000,  2000,  2000,  2000,  2000,  2000,  2000,\n",
       "        2000,  2000,  2000,  2000,  2000, 27495, 24995, 28195,  2000,\n",
       "        2000,  2000,  2000,  2000,  2000, 32850, 38650, 48750, 34850,\n",
       "       40650, 44150, 32850, 46150, 50750, 46450, 49050, 51050, 44450,\n",
       "       38950, 33150, 35150, 40950,  2000,  2000,  2000,  2000,  2000,\n",
       "        2000, 25170, 23950, 29370, 21995, 26625, 30825, 21995, 27795,\n",
       "       31785, 29905, 22490, 27570, 25690, 24490, 29905, 31785, 26685,\n",
       "       22490, 25690, 30900, 27795, 21995, 24490,  2000,  2000,  2000,\n",
       "        2000,  2000,  2000,  2000,  2000,  2073,  3713,  3520,  3910,\n",
       "        4182], dtype=int64)"
      ]
     },
     "execution_count": 173,
     "metadata": {},
     "output_type": "execute_result"
    }
   ],
   "source": [
    "y_whole = y_whole.to_numpy()\n",
    "y_whole"
   ]
  },
  {
   "cell_type": "code",
   "execution_count": 174,
   "id": "f0c2b263",
   "metadata": {},
   "outputs": [
    {
     "data": {
      "text/plain": [
       "array([46135, 40650, 36350, 29450, 34500, 31200, 44100, 39300, 36900,\n",
       "       37200, 39600, 31500, 44400, 37200, 31500, 48250, 43550,  2000,\n",
       "        2000,  2000,  2000,  2000,  2000,  2000,  2000,  2000,  2000,\n",
       "        2000,  2000,  2000,  2000,  2000, 27495, 24995, 28195,  2000,\n",
       "        2000,  2000,  2000,  2000,  2000, 32850, 38650, 48750, 34850,\n",
       "       40650, 44150, 32850, 46150, 50750, 46450, 49050, 51050, 44450,\n",
       "       38950, 33150, 35150, 40950,  2000,  2000,  2000,  2000,  2000,\n",
       "        2000, 25170, 23950, 29370, 21995, 26625, 30825, 21995, 27795,\n",
       "       31785, 29905, 22490, 27570, 25690, 24490, 29905, 31785, 26685,\n",
       "       22490, 25690, 30900, 27795, 21995, 24490,  2000,  2000,  2000,\n",
       "        2000,  2000,  2000,  2000,  2000,  2073,  3713,  3520,  3910,\n",
       "        4182], dtype=int64)"
      ]
     },
     "execution_count": 174,
     "metadata": {},
     "output_type": "execute_result"
    }
   ],
   "source": [
    "y_whole.flatten()"
   ]
  },
  {
   "cell_type": "code",
   "execution_count": 175,
   "id": "ef61def2",
   "metadata": {},
   "outputs": [
    {
     "data": {
      "text/plain": [
       "(100,)"
      ]
     },
     "execution_count": 175,
     "metadata": {},
     "output_type": "execute_result"
    }
   ],
   "source": [
    "y_whole.shape"
   ]
  },
  {
   "cell_type": "code",
   "execution_count": 176,
   "id": "502966b5",
   "metadata": {},
   "outputs": [
    {
     "data": {
      "text/plain": [
       "(100, 4)"
      ]
     },
     "execution_count": 176,
     "metadata": {},
     "output_type": "execute_result"
    }
   ],
   "source": [
    "x_whole.shape"
   ]
  },
  {
   "cell_type": "code",
   "execution_count": 185,
   "id": "7ab7e610",
   "metadata": {},
   "outputs": [
    {
     "data": {
      "text/plain": [
       "array([[1.000e+00, 2.011e+03, 6.000e+00, 3.350e+02],\n",
       "       [1.000e+00, 2.011e+03, 6.000e+00, 3.000e+02],\n",
       "       [1.000e+00, 2.011e+03, 6.000e+00, 3.000e+02],\n",
       "       [1.000e+00, 2.011e+03, 6.000e+00, 2.300e+02],\n",
       "       [1.000e+00, 2.011e+03, 6.000e+00, 2.300e+02]])"
      ]
     },
     "execution_count": 185,
     "metadata": {},
     "output_type": "execute_result"
    }
   ],
   "source": [
    "x_whole[:5]"
   ]
  },
  {
   "cell_type": "code",
   "execution_count": 178,
   "id": "fa6ab2bd",
   "metadata": {},
   "outputs": [
    {
     "data": {
      "text/plain": [
       "(4, 1)"
      ]
     },
     "execution_count": 178,
     "metadata": {},
     "output_type": "execute_result"
    }
   ],
   "source": [
    "thetas.shape"
   ]
  },
  {
   "cell_type": "code",
   "execution_count": 179,
   "id": "dfd238bc",
   "metadata": {},
   "outputs": [
    {
     "data": {
      "text/plain": [
       "37297979261.0"
      ]
     },
     "execution_count": 179,
     "metadata": {},
     "output_type": "execute_result"
    }
   ],
   "source": [
    "fun_cost(x_whole,y_whole,thetas)"
   ]
  },
  {
   "cell_type": "code",
   "execution_count": 186,
   "id": "a1010363",
   "metadata": {},
   "outputs": [
    {
     "data": {
      "text/plain": [
       "array([[0.],\n",
       "       [0.],\n",
       "       [0.],\n",
       "       [0.],\n",
       "       [0.]])"
      ]
     },
     "execution_count": 186,
     "metadata": {},
     "output_type": "execute_result"
    }
   ],
   "source": [
    "predict(thetas, x_whole)[:5]"
   ]
  },
  {
   "cell_type": "code",
   "execution_count": 181,
   "id": "a361bff0",
   "metadata": {},
   "outputs": [
    {
     "data": {
      "text/plain": [
       "array([0., 0., 0., 0.])"
      ]
     },
     "execution_count": 181,
     "metadata": {},
     "output_type": "execute_result"
    }
   ],
   "source": [
    "thetas.flatten()"
   ]
  },
  {
   "cell_type": "markdown",
   "id": "dba224ee",
   "metadata": {},
   "source": [
    "<b>Gradiente</b>\n",
    "\\begin{equation}\n",
    "\\frac{\\partial J(\\theta)}{\\partial \\theta_j} = 1/m\\sum_{i=1}^{m}(h(\\theta^{(i)} - y^{(i)}).X_j^{(i)}\n",
    "\\end{equation}\n",
    "\n",
    "<b>Gradientes</b>\n",
    "\\begin{equation}\n",
    "\\theta_0: = \\theta_0 -\\alpha . (1/m .\\sum_{i=1}^{m}(h(\\theta^{(i)} - y^{(i)}).X_0^{(i)})\n",
    "\\end{equation}\n",
    "\\begin{equation}\n",
    "\\theta_1: = \\theta_1 -\\alpha . (1/m .\\sum_{i=1}^{m}(h(\\theta^{(i)} - y^{(i)}).X_1^{(i)})\n",
    "\\end{equation}\n",
    "\\begin{equation}\n",
    "\\theta_2: = \\theta_2 -\\alpha . (1/m .\\sum_{i=1}^{m}(h(\\theta^{(i)} - y^{(i)}).X_2^{(i)})\n",
    "\\end{equation}\n",
    "\n",
    "\\begin{equation}\n",
    "\\theta_j: = \\theta_j -\\alpha . (1/m .\\sum_{i=1}^{m}(h(\\theta^{(i)} - y^{(i)}).X_0^{(i)})\n",
    "\\end{equation}"
   ]
  },
  {
   "cell_type": "code",
   "execution_count": 189,
   "id": "7f00e013",
   "metadata": {},
   "outputs": [],
   "source": [
    "# gradiente descendiente\n",
    "def gradient_descent(x_data, y_data, thetas, learning_rate=0.01, iterations=100):\n",
    "    m = len(y_data)\n",
    "    cost_history = np.zeros(iterations)\n",
    "    theta_history = np.zeros((iterations, len(thetas)))\n",
    "\n",
    "    y_data = y_data.flatten()\n",
    "\n",
    "    for it in range(iterations):\n",
    "        # Hipotesis retornar array en una fila y no columna\n",
    "        # por ello la \"flatten\" a la variable Thetas\n",
    "        #         prediction = predict(thetas.flatten(),x_data) #8921\n",
    "        prediction = predict(thetas, x_data)  # 8921\n",
    "\n",
    "        # x_data.T -> 4, 8291\n",
    "        thetas = thetas - (learning_rate * (1 / m) * (x_data.T.dot((prediction.flatten() - y_data)))).reshape(4,1)\n",
    "#         print(theta_history.shape)\n",
    "#         print(theta_history[0])\n",
    "#         print(thetas)\n",
    "        theta_history[it] = thetas.flatten()\n",
    "        cost_history[it] = fun_cost(x_data, y_data, thetas)\n",
    "\n",
    "    return thetas, cost_history, theta_history"
   ]
  },
  {
   "cell_type": "code",
   "execution_count": 190,
   "id": "52fa4bdf",
   "metadata": {},
   "outputs": [
    {
     "name": "stderr",
     "output_type": "stream",
     "text": [
      "C:\\Users\\Admin\\AppData\\Local\\Temp\\ipykernel_6268\\1282330556.py:8: RuntimeWarning: overflow encountered in power\n",
      "  square_predict_error = np.power(predict_error, 2)\n"
     ]
    }
   ],
   "source": [
    "theta,cost_history,theta_history = gradient_descent(x_whole,y_whole,thetas,0.01,50)"
   ]
  },
  {
   "cell_type": "code",
   "execution_count": null,
   "id": "cc651303",
   "metadata": {},
   "outputs": [],
   "source": [
    "print(\"Theta =\",theta)\n",
    "print(\"Final Cost = \",cost_history[-1])"
   ]
  }
 ],
 "metadata": {
  "kernelspec": {
   "display_name": "Python 3 (ipykernel)",
   "language": "python",
   "name": "python3"
  },
  "language_info": {
   "codemirror_mode": {
    "name": "ipython",
    "version": 3
   },
   "file_extension": ".py",
   "mimetype": "text/x-python",
   "name": "python",
   "nbconvert_exporter": "python",
   "pygments_lexer": "ipython3",
   "version": "3.8.12"
  }
 },
 "nbformat": 4,
 "nbformat_minor": 5
}
