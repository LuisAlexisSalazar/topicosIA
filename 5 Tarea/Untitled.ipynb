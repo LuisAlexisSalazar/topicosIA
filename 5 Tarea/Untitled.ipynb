{
 "cells": [
  {
   "cell_type": "code",
   "execution_count": 46,
   "id": "afcd819c",
   "metadata": {},
   "outputs": [],
   "source": [
    "import pandas as pd\n",
    "import numpy as np\n",
    "import matplotlib.pyplot as plt\n",
    "import seaborn as sns\n",
    "\n",
    "# link data set\n",
    "# https://www.kaggle.com/datasets/new-york-city/nyc-east-river-bicycle-crossings?resource=download"
   ]
  },
  {
   "cell_type": "code",
   "execution_count": 47,
   "id": "3a258f0a",
   "metadata": {},
   "outputs": [
    {
     "data": {
      "text/html": [
       "<div>\n",
       "<style scoped>\n",
       "    .dataframe tbody tr th:only-of-type {\n",
       "        vertical-align: middle;\n",
       "    }\n",
       "\n",
       "    .dataframe tbody tr th {\n",
       "        vertical-align: top;\n",
       "    }\n",
       "\n",
       "    .dataframe thead th {\n",
       "        text-align: right;\n",
       "    }\n",
       "</style>\n",
       "<table border=\"1\" class=\"dataframe\">\n",
       "  <thead>\n",
       "    <tr style=\"text-align: right;\">\n",
       "      <th></th>\n",
       "      <th>Unnamed: 0</th>\n",
       "      <th>Date</th>\n",
       "      <th>Day</th>\n",
       "      <th>High Temp (°F)</th>\n",
       "      <th>Low Temp (°F)</th>\n",
       "      <th>Precipitation</th>\n",
       "      <th>Brooklyn Bridge</th>\n",
       "      <th>Manhattan Bridge</th>\n",
       "      <th>Williamsburg Bridge</th>\n",
       "      <th>Queensboro Bridge</th>\n",
       "      <th>Total</th>\n",
       "    </tr>\n",
       "  </thead>\n",
       "  <tbody>\n",
       "    <tr>\n",
       "      <th>0</th>\n",
       "      <td>0</td>\n",
       "      <td>2016-04-01 00:00:00</td>\n",
       "      <td>2016-04-01 00:00:00</td>\n",
       "      <td>78.1</td>\n",
       "      <td>66.0</td>\n",
       "      <td>0.01</td>\n",
       "      <td>1704.0</td>\n",
       "      <td>3126</td>\n",
       "      <td>4115.0</td>\n",
       "      <td>2552.0</td>\n",
       "      <td>11497</td>\n",
       "    </tr>\n",
       "    <tr>\n",
       "      <th>1</th>\n",
       "      <td>1</td>\n",
       "      <td>2016-04-02 00:00:00</td>\n",
       "      <td>2016-04-02 00:00:00</td>\n",
       "      <td>55.0</td>\n",
       "      <td>48.9</td>\n",
       "      <td>0.15</td>\n",
       "      <td>827.0</td>\n",
       "      <td>1646</td>\n",
       "      <td>2565.0</td>\n",
       "      <td>1884.0</td>\n",
       "      <td>6922</td>\n",
       "    </tr>\n",
       "    <tr>\n",
       "      <th>2</th>\n",
       "      <td>2</td>\n",
       "      <td>2016-04-03 00:00:00</td>\n",
       "      <td>2016-04-03 00:00:00</td>\n",
       "      <td>39.9</td>\n",
       "      <td>34.0</td>\n",
       "      <td>0.09</td>\n",
       "      <td>526.0</td>\n",
       "      <td>1232</td>\n",
       "      <td>1695.0</td>\n",
       "      <td>1306.0</td>\n",
       "      <td>4759</td>\n",
       "    </tr>\n",
       "    <tr>\n",
       "      <th>3</th>\n",
       "      <td>3</td>\n",
       "      <td>2016-04-04 00:00:00</td>\n",
       "      <td>2016-04-04 00:00:00</td>\n",
       "      <td>44.1</td>\n",
       "      <td>33.1</td>\n",
       "      <td>0.47 (S)</td>\n",
       "      <td>521.0</td>\n",
       "      <td>1067</td>\n",
       "      <td>1440.0</td>\n",
       "      <td>1307.0</td>\n",
       "      <td>4335</td>\n",
       "    </tr>\n",
       "    <tr>\n",
       "      <th>4</th>\n",
       "      <td>4</td>\n",
       "      <td>2016-04-05 00:00:00</td>\n",
       "      <td>2016-04-05 00:00:00</td>\n",
       "      <td>42.1</td>\n",
       "      <td>26.1</td>\n",
       "      <td>0</td>\n",
       "      <td>1416.0</td>\n",
       "      <td>2617</td>\n",
       "      <td>3081.0</td>\n",
       "      <td>2357.0</td>\n",
       "      <td>9471</td>\n",
       "    </tr>\n",
       "  </tbody>\n",
       "</table>\n",
       "</div>"
      ],
      "text/plain": [
       "   Unnamed: 0                 Date                  Day  High Temp (°F)  \\\n",
       "0           0  2016-04-01 00:00:00  2016-04-01 00:00:00            78.1   \n",
       "1           1  2016-04-02 00:00:00  2016-04-02 00:00:00            55.0   \n",
       "2           2  2016-04-03 00:00:00  2016-04-03 00:00:00            39.9   \n",
       "3           3  2016-04-04 00:00:00  2016-04-04 00:00:00            44.1   \n",
       "4           4  2016-04-05 00:00:00  2016-04-05 00:00:00            42.1   \n",
       "\n",
       "   Low Temp (°F) Precipitation  Brooklyn Bridge  Manhattan Bridge  \\\n",
       "0           66.0          0.01           1704.0              3126   \n",
       "1           48.9          0.15            827.0              1646   \n",
       "2           34.0          0.09            526.0              1232   \n",
       "3           33.1      0.47 (S)            521.0              1067   \n",
       "4           26.1             0           1416.0              2617   \n",
       "\n",
       "   Williamsburg Bridge  Queensboro Bridge  Total  \n",
       "0               4115.0             2552.0  11497  \n",
       "1               2565.0             1884.0   6922  \n",
       "2               1695.0             1306.0   4759  \n",
       "3               1440.0             1307.0   4335  \n",
       "4               3081.0             2357.0   9471  "
      ]
     },
     "execution_count": 47,
     "metadata": {},
     "output_type": "execute_result"
    }
   ],
   "source": [
    "df = pd.read_csv(\"nyc-east-river-bicycle-counts.csv\")\n",
    "df.head()"
   ]
  },
  {
   "cell_type": "code",
   "execution_count": 48,
   "id": "61ccb383",
   "metadata": {},
   "outputs": [
    {
     "data": {
      "text/html": [
       "<div>\n",
       "<style scoped>\n",
       "    .dataframe tbody tr th:only-of-type {\n",
       "        vertical-align: middle;\n",
       "    }\n",
       "\n",
       "    .dataframe tbody tr th {\n",
       "        vertical-align: top;\n",
       "    }\n",
       "\n",
       "    .dataframe thead th {\n",
       "        text-align: right;\n",
       "    }\n",
       "</style>\n",
       "<table border=\"1\" class=\"dataframe\">\n",
       "  <thead>\n",
       "    <tr style=\"text-align: right;\">\n",
       "      <th></th>\n",
       "      <th>Unnamed: 0</th>\n",
       "      <th>High Temp (°F)</th>\n",
       "      <th>Low Temp (°F)</th>\n",
       "      <th>Brooklyn Bridge</th>\n",
       "      <th>Manhattan Bridge</th>\n",
       "      <th>Williamsburg Bridge</th>\n",
       "      <th>Queensboro Bridge</th>\n",
       "      <th>Total</th>\n",
       "    </tr>\n",
       "  </thead>\n",
       "  <tbody>\n",
       "    <tr>\n",
       "      <th>0</th>\n",
       "      <td>0</td>\n",
       "      <td>78.1</td>\n",
       "      <td>66.0</td>\n",
       "      <td>1704.0</td>\n",
       "      <td>3126</td>\n",
       "      <td>4115.0</td>\n",
       "      <td>2552.0</td>\n",
       "      <td>11497</td>\n",
       "    </tr>\n",
       "    <tr>\n",
       "      <th>1</th>\n",
       "      <td>1</td>\n",
       "      <td>55.0</td>\n",
       "      <td>48.9</td>\n",
       "      <td>827.0</td>\n",
       "      <td>1646</td>\n",
       "      <td>2565.0</td>\n",
       "      <td>1884.0</td>\n",
       "      <td>6922</td>\n",
       "    </tr>\n",
       "    <tr>\n",
       "      <th>2</th>\n",
       "      <td>2</td>\n",
       "      <td>39.9</td>\n",
       "      <td>34.0</td>\n",
       "      <td>526.0</td>\n",
       "      <td>1232</td>\n",
       "      <td>1695.0</td>\n",
       "      <td>1306.0</td>\n",
       "      <td>4759</td>\n",
       "    </tr>\n",
       "    <tr>\n",
       "      <th>3</th>\n",
       "      <td>3</td>\n",
       "      <td>44.1</td>\n",
       "      <td>33.1</td>\n",
       "      <td>521.0</td>\n",
       "      <td>1067</td>\n",
       "      <td>1440.0</td>\n",
       "      <td>1307.0</td>\n",
       "      <td>4335</td>\n",
       "    </tr>\n",
       "    <tr>\n",
       "      <th>4</th>\n",
       "      <td>4</td>\n",
       "      <td>42.1</td>\n",
       "      <td>26.1</td>\n",
       "      <td>1416.0</td>\n",
       "      <td>2617</td>\n",
       "      <td>3081.0</td>\n",
       "      <td>2357.0</td>\n",
       "      <td>9471</td>\n",
       "    </tr>\n",
       "  </tbody>\n",
       "</table>\n",
       "</div>"
      ],
      "text/plain": [
       "   Unnamed: 0  High Temp (°F)  Low Temp (°F)  Brooklyn Bridge  \\\n",
       "0           0            78.1           66.0           1704.0   \n",
       "1           1            55.0           48.9            827.0   \n",
       "2           2            39.9           34.0            526.0   \n",
       "3           3            44.1           33.1            521.0   \n",
       "4           4            42.1           26.1           1416.0   \n",
       "\n",
       "   Manhattan Bridge  Williamsburg Bridge  Queensboro Bridge  Total  \n",
       "0              3126               4115.0             2552.0  11497  \n",
       "1              1646               2565.0             1884.0   6922  \n",
       "2              1232               1695.0             1306.0   4759  \n",
       "3              1067               1440.0             1307.0   4335  \n",
       "4              2617               3081.0             2357.0   9471  "
      ]
     },
     "execution_count": 48,
     "metadata": {},
     "output_type": "execute_result"
    }
   ],
   "source": [
    "df = df.select_dtypes(include=[\"number\"])\n",
    "df.head()"
   ]
  },
  {
   "cell_type": "code",
   "execution_count": 49,
   "id": "29261ce1",
   "metadata": {},
   "outputs": [
    {
     "data": {
      "text/plain": [
       "Unnamed: 0             0\n",
       "High Temp (°F)         0\n",
       "Low Temp (°F)          0\n",
       "Brooklyn Bridge        0\n",
       "Manhattan Bridge       0\n",
       "Williamsburg Bridge    0\n",
       "Queensboro Bridge      0\n",
       "Total                  0\n",
       "dtype: int64"
      ]
     },
     "execution_count": 49,
     "metadata": {},
     "output_type": "execute_result"
    }
   ],
   "source": [
    "df.isnull().sum()"
   ]
  },
  {
   "cell_type": "code",
   "execution_count": 50,
   "id": "c8e72d90",
   "metadata": {},
   "outputs": [
    {
     "data": {
      "text/html": [
       "<div>\n",
       "<style scoped>\n",
       "    .dataframe tbody tr th:only-of-type {\n",
       "        vertical-align: middle;\n",
       "    }\n",
       "\n",
       "    .dataframe tbody tr th {\n",
       "        vertical-align: top;\n",
       "    }\n",
       "\n",
       "    .dataframe thead th {\n",
       "        text-align: right;\n",
       "    }\n",
       "</style>\n",
       "<table border=\"1\" class=\"dataframe\">\n",
       "  <thead>\n",
       "    <tr style=\"text-align: right;\">\n",
       "      <th></th>\n",
       "      <th>Unnamed: 0</th>\n",
       "      <th>High Temp (°F)</th>\n",
       "      <th>Low Temp (°F)</th>\n",
       "      <th>Brooklyn Bridge</th>\n",
       "      <th>Manhattan Bridge</th>\n",
       "      <th>Williamsburg Bridge</th>\n",
       "      <th>Queensboro Bridge</th>\n",
       "      <th>Total</th>\n",
       "    </tr>\n",
       "  </thead>\n",
       "  <tbody>\n",
       "    <tr>\n",
       "      <th>Unnamed: 0</th>\n",
       "      <td>1.000000</td>\n",
       "      <td>0.070144</td>\n",
       "      <td>0.055420</td>\n",
       "      <td>0.100557</td>\n",
       "      <td>0.090508</td>\n",
       "      <td>0.096328</td>\n",
       "      <td>0.093006</td>\n",
       "      <td>0.095156</td>\n",
       "    </tr>\n",
       "    <tr>\n",
       "      <th>High Temp (°F)</th>\n",
       "      <td>0.070144</td>\n",
       "      <td>1.000000</td>\n",
       "      <td>0.823853</td>\n",
       "      <td>0.739377</td>\n",
       "      <td>0.720175</td>\n",
       "      <td>0.764336</td>\n",
       "      <td>0.727825</td>\n",
       "      <td>0.743344</td>\n",
       "    </tr>\n",
       "    <tr>\n",
       "      <th>Low Temp (°F)</th>\n",
       "      <td>0.055420</td>\n",
       "      <td>0.823853</td>\n",
       "      <td>1.000000</td>\n",
       "      <td>0.464550</td>\n",
       "      <td>0.465097</td>\n",
       "      <td>0.534212</td>\n",
       "      <td>0.475725</td>\n",
       "      <td>0.492124</td>\n",
       "    </tr>\n",
       "    <tr>\n",
       "      <th>Brooklyn Bridge</th>\n",
       "      <td>0.100557</td>\n",
       "      <td>0.739377</td>\n",
       "      <td>0.464550</td>\n",
       "      <td>1.000000</td>\n",
       "      <td>0.983148</td>\n",
       "      <td>0.980463</td>\n",
       "      <td>0.976991</td>\n",
       "      <td>0.989339</td>\n",
       "    </tr>\n",
       "    <tr>\n",
       "      <th>Manhattan Bridge</th>\n",
       "      <td>0.090508</td>\n",
       "      <td>0.720175</td>\n",
       "      <td>0.465097</td>\n",
       "      <td>0.983148</td>\n",
       "      <td>1.000000</td>\n",
       "      <td>0.989805</td>\n",
       "      <td>0.985867</td>\n",
       "      <td>0.996323</td>\n",
       "    </tr>\n",
       "    <tr>\n",
       "      <th>Williamsburg Bridge</th>\n",
       "      <td>0.096328</td>\n",
       "      <td>0.764336</td>\n",
       "      <td>0.534212</td>\n",
       "      <td>0.980463</td>\n",
       "      <td>0.989805</td>\n",
       "      <td>1.000000</td>\n",
       "      <td>0.988852</td>\n",
       "      <td>0.996639</td>\n",
       "    </tr>\n",
       "    <tr>\n",
       "      <th>Queensboro Bridge</th>\n",
       "      <td>0.093006</td>\n",
       "      <td>0.727825</td>\n",
       "      <td>0.475725</td>\n",
       "      <td>0.976991</td>\n",
       "      <td>0.985867</td>\n",
       "      <td>0.988852</td>\n",
       "      <td>1.000000</td>\n",
       "      <td>0.993391</td>\n",
       "    </tr>\n",
       "    <tr>\n",
       "      <th>Total</th>\n",
       "      <td>0.095156</td>\n",
       "      <td>0.743344</td>\n",
       "      <td>0.492124</td>\n",
       "      <td>0.989339</td>\n",
       "      <td>0.996323</td>\n",
       "      <td>0.996639</td>\n",
       "      <td>0.993391</td>\n",
       "      <td>1.000000</td>\n",
       "    </tr>\n",
       "  </tbody>\n",
       "</table>\n",
       "</div>"
      ],
      "text/plain": [
       "                     Unnamed: 0  High Temp (°F)  Low Temp (°F)  \\\n",
       "Unnamed: 0             1.000000        0.070144       0.055420   \n",
       "High Temp (°F)         0.070144        1.000000       0.823853   \n",
       "Low Temp (°F)          0.055420        0.823853       1.000000   \n",
       "Brooklyn Bridge        0.100557        0.739377       0.464550   \n",
       "Manhattan Bridge       0.090508        0.720175       0.465097   \n",
       "Williamsburg Bridge    0.096328        0.764336       0.534212   \n",
       "Queensboro Bridge      0.093006        0.727825       0.475725   \n",
       "Total                  0.095156        0.743344       0.492124   \n",
       "\n",
       "                     Brooklyn Bridge  Manhattan Bridge  Williamsburg Bridge  \\\n",
       "Unnamed: 0                  0.100557          0.090508             0.096328   \n",
       "High Temp (°F)              0.739377          0.720175             0.764336   \n",
       "Low Temp (°F)               0.464550          0.465097             0.534212   \n",
       "Brooklyn Bridge             1.000000          0.983148             0.980463   \n",
       "Manhattan Bridge            0.983148          1.000000             0.989805   \n",
       "Williamsburg Bridge         0.980463          0.989805             1.000000   \n",
       "Queensboro Bridge           0.976991          0.985867             0.988852   \n",
       "Total                       0.989339          0.996323             0.996639   \n",
       "\n",
       "                     Queensboro Bridge     Total  \n",
       "Unnamed: 0                    0.093006  0.095156  \n",
       "High Temp (°F)                0.727825  0.743344  \n",
       "Low Temp (°F)                 0.475725  0.492124  \n",
       "Brooklyn Bridge               0.976991  0.989339  \n",
       "Manhattan Bridge              0.985867  0.996323  \n",
       "Williamsburg Bridge           0.988852  0.996639  \n",
       "Queensboro Bridge             1.000000  0.993391  \n",
       "Total                         0.993391  1.000000  "
      ]
     },
     "execution_count": 50,
     "metadata": {},
     "output_type": "execute_result"
    }
   ],
   "source": [
    "df.corr()"
   ]
  },
  {
   "cell_type": "code",
   "execution_count": 51,
   "id": "af4a53f6",
   "metadata": {},
   "outputs": [
    {
     "name": "stdout",
     "output_type": "stream",
     "text": [
      "Correlación Positiva\n"
     ]
    },
    {
     "data": {
      "image/png": "[encoded data removed]",
      "text/plain": [
       "<Figure size 432x288 with 1 Axes>"
      ]
     },
     "metadata": {
      "needs_background": "light"
     },
     "output_type": "display_data"
    }
   ],
   "source": [
    "# Primer Par\n",
    "x_label=\"High Temp (°F)\"\n",
    "y_label=\"Low Temp (°F)\"\n",
    "sns.regplot(x=x_label,y=y_label,data=df)\n",
    "print(\"Correlación Positiva\")"
   ]
  },
  {
   "cell_type": "code",
   "execution_count": 52,
   "id": "d1effe89",
   "metadata": {},
   "outputs": [
    {
     "name": "stdout",
     "output_type": "stream",
     "text": [
      "Correlación Positiva\n"
     ]
    },
    {
     "data": {
      "image/png": "[encoded data removed]",
      "text/plain": [
       "<Figure size 432x288 with 1 Axes>"
      ]
     },
     "metadata": {
      "needs_background": "light"
     },
     "output_type": "display_data"
    }
   ],
   "source": [
    "# Segunda Par\n",
    "x_label=\"Low Temp (°F)\"\n",
    "y_label=\"Brooklyn Bridge\"\n",
    "sns.regplot(x=x_label,y=y_label,data=df)\n",
    "print(\"Correlación Positiva\")"
   ]
  },
  {
   "cell_type": "code",
   "execution_count": 53,
   "id": "ed59dc41",
   "metadata": {},
   "outputs": [
    {
     "name": "stdout",
     "output_type": "stream",
     "text": [
      "Correlación Positiva\n"
     ]
    },
    {
     "data": {
      "image/png": "[encoded data removed]",
      "text/plain": [
       "<Figure size 432x288 with 1 Axes>"
      ]
     },
     "metadata": {
      "needs_background": "light"
     },
     "output_type": "display_data"
    }
   ],
   "source": [
    "# Tercer Par\n",
    "x_label=\"Brooklyn Bridge\"\n",
    "y_label=\"Manhattan Bridge\"\n",
    "sns.regplot(x=x_label,y=y_label,data=df)\n",
    "print(\"Correlación Positiva\")"
   ]
  },
  {
   "cell_type": "code",
   "execution_count": 54,
   "id": "fb87c18f",
   "metadata": {},
   "outputs": [
    {
     "name": "stdout",
     "output_type": "stream",
     "text": [
      "Correlación Positiva\n"
     ]
    },
    {
     "data": {
      "image/png": "[encoded data removed]",
      "text/plain": [
       "<Figure size 432x288 with 1 Axes>"
      ]
     },
     "metadata": {
      "needs_background": "light"
     },
     "output_type": "display_data"
    }
   ],
   "source": [
    "# Cuarto Par\n",
    "x_label=\"Manhattan Bridge\"\n",
    "y_label=\"Brooklyn Bridge\"\n",
    "sns.regplot(x=x_label,y=y_label,data=df)\n",
    "print(\"Correlación Positiva\")"
   ]
  },
  {
   "cell_type": "code",
   "execution_count": 55,
   "id": "7261592b",
   "metadata": {},
   "outputs": [
    {
     "name": "stdout",
     "output_type": "stream",
     "text": [
      "Correlación Positiva\n"
     ]
    },
    {
     "data": {
      "image/png": "[encoded data removed]",
      "text/plain": [
       "<Figure size 432x288 with 1 Axes>"
      ]
     },
     "metadata": {
      "needs_background": "light"
     },
     "output_type": "display_data"
    }
   ],
   "source": [
    "# Quinto Par\n",
    "x_label=\"Queensboro Bridge\"\n",
    "y_label=\"Manhattan Bridge\"\n",
    "sns.regplot(x=x_label,y=y_label,data=df)\n",
    "print(\"Correlación Positiva\")\n"
   ]
  },
  {
   "cell_type": "markdown",
   "id": "70d55564",
   "metadata": {},
   "source": [
    "### Funciones para la regresión Lineal"
   ]
  },
  {
   "cell_type": "code",
   "execution_count": 56,
   "id": "8f3f8161",
   "metadata": {},
   "outputs": [],
   "source": [
    "def predict(thetas, x_data):\n",
    "    return np.dot(x_data, thetas)\n",
    "def fun_cost(x_data, y_result, thetas):\n",
    "    cost = 0\n",
    "    # m\n",
    "    len_data_x = x_data.shape[0]\n",
    "    cost = 0\n",
    "\n",
    "    predict_error = predict(thetas, x_data) - y_result\n",
    "    square_predict_error = np.power(predict_error, 2)\n",
    "\n",
    "    sumatoria_error_cuadratico = np.sum(square_predict_error)\n",
    "    cost = 1.0 / (2 * len_data_x) * sumatoria_error_cuadratico\n",
    "    return cost\n",
    "# gradiente descendiente\n",
    "def gradient_descent(x_data, y_data, thetas, learning_rate=0.01, iterations=100):\n",
    "    m = len(y_data)\n",
    "    cost_history = np.zeros(iterations)\n",
    "    n_features_ones = len(thetas)\n",
    "    theta_history = np.zeros((iterations, n_features_ones))\n",
    "\n",
    "    y_data = y_data.flatten()\n",
    "\n",
    "    for it in range(iterations):\n",
    "        prediction = predict(thetas, x_data)  # 8921\n",
    "        thetas = thetas - learning_rate * (1 / m) * (\n",
    "            x_data.T.dot((prediction - y_data))\n",
    "        )\n",
    "\n",
    "        theta_history[it] = thetas\n",
    "        cost_history[it] = fun_cost(x_data, y_data, thetas)\n",
    "\n",
    "    return thetas, cost_history, theta_history"
   ]
  },
  {
   "cell_type": "code",
   "execution_count": 57,
   "id": "b853c518",
   "metadata": {},
   "outputs": [],
   "source": [
    "from sklearn import preprocessing\n",
    "#normalizar     \n",
    "scaler = preprocessing.StandardScaler(with_std=True,with_mean=True).fit(df)\n",
    "scaler_data = scaler.transform(df)\n",
    "df = pd.DataFrame(scaler_data,columns=df.columns)"
   ]
  },
  {
   "cell_type": "code",
   "execution_count": 58,
   "id": "2fb84f10",
   "metadata": {},
   "outputs": [],
   "source": [
    "from sklearn.model_selection import train_test_split\n",
    "\n",
    "def experiment(df, confg_train, features, label_y, percentage_test=0.3):\n",
    "    n_features = len(features)\n",
    "    \n",
    "    # Separar datos\n",
    "    df_scaler_train, df_scaler_test = train_test_split(\n",
    "        df, test_size=percentage_test, random_state=30\n",
    "    )\n",
    "    train_x_scaler = df_scaler_train[features].to_numpy()\n",
    "    train_y_scaler = df_scaler_train[label_y].to_numpy()\n",
    "    \n",
    "    test_x_scaler = df_scaler_test[features].to_numpy()\n",
    "    test_y_scaler = df_scaler_test[label_y].to_numpy()\n",
    "\n",
    "    # Añadir la columna de 1\n",
    "    n_ones = np.ones([len(train_x_scaler), 1])\n",
    "    train_x_scaler = np.concatenate((n_ones, train_x_scaler), axis=1)\n",
    "    thetas = np.zeros(n_features + 1)\n",
    "\n",
    "    theta_optimum, cost_history, theta_history = gradient_descent(\n",
    "        train_x_scaler, train_y_scaler, thetas, confg_train[0], confg_train[1]\n",
    "    )\n",
    "    \n",
    "    print(\"Theta =\", theta_optimum)\n",
    "    print(\"Final Cost = \", cost_history[-1])\n",
    "    \n",
    "    y_predict = predict(theta_optimum,train_x_scaler)\n",
    "    \n",
    "    \n",
    "    return theta_optimum, train_x_scaler, train_y_scaler,y_predict,test_x_scaler,test_y_scaler"
   ]
  },
  {
   "cell_type": "code",
   "execution_count": 59,
   "id": "7afc7e8f",
   "metadata": {},
   "outputs": [],
   "source": [
    "def ploteo(x_data, y_data, y_predict,theta, features, label_y):\n",
    "    n_features = len(features)\n",
    "    if n_features == 1:\n",
    "        plt.plot(x_data[:, 1], y_predict, \"r-\")\n",
    "        plt.scatter(x_data[:, 1], y_data)\n",
    "        plt.xlabel(\"X - \" + features[0])\n",
    "        plt.ylabel(\"Y - \" + label_y)\n",
    "    else:\n",
    "        figure, axis = plt.subplots(n_features)\n",
    "        for i in range(0, n_features):\n",
    "            axis[i].plot(x_data[:, i + 1], y_predict, \"r-\")\n",
    "            axis[i].scatter(x_data[:, i + 1], y_data)\n",
    "            axis[i].set_title(\"X:\" + features[i] + \"-\" + \"Y - \" + label_y)\n",
    "        figure.set_size_inches(10, 10, forward=True)\n",
    "        figure.tight_layout()\n",
    "    plt.show()"
   ]
  },
  {
   "cell_type": "markdown",
   "id": "c9f6a222",
   "metadata": {},
   "source": [
    "## Regresión Lineal"
   ]
  },
  {
   "cell_type": "code",
   "execution_count": 60,
   "id": "8edf053d",
   "metadata": {},
   "outputs": [
    {
     "name": "stdout",
     "output_type": "stream",
     "text": [
      "Theta = [-0.00380757  0.90946729]\n",
      "Final Cost =  0.016630079173513727\n"
     ]
    }
   ],
   "source": [
    "# 70% Train - 30% Test\n",
    "# Prueba con CUarto Par\n",
    "features = [\"Manhattan Bridge\"]\n",
    "label_y = \"Brooklyn Bridge\"\n",
    "confg_train = [0.03, 100]\n",
    "theta_optimum, train_x_scaler, train_y_scaler, y_predict, test_x_scaler,test_y_scaler= experiment(\n",
    "    df, confg_train, features, label_y, percentage_test=0.5\n",
    ")"
   ]
  },
  {
   "cell_type": "code",
   "execution_count": 61,
   "id": "515384ca",
   "metadata": {},
   "outputs": [
    {
     "data": {
      "image/png": "[encoded data removed]",
      "text/plain": [
       "<Figure size 432x288 with 1 Axes>"
      ]
     },
     "metadata": {
      "needs_background": "light"
     },
     "output_type": "display_data"
    }
   ],
   "source": [
    "ploteo(train_x_scaler,train_y_scaler,y_predict,theta_optimum,features,label_y)"
   ]
  },
  {
   "cell_type": "code",
   "execution_count": 62,
   "id": "e32c77bd",
   "metadata": {},
   "outputs": [
    {
     "name": "stdout",
     "output_type": "stream",
     "text": [
      "Theta = [-0.01575135  0.92654986]\n",
      "Final Cost =  0.015820127935697852\n"
     ]
    }
   ],
   "source": [
    "# 70% Train - 30% Test\n",
    "# Quinto Par\n",
    "x_label=\"Queensboro Bridge\"\n",
    "y_label=\"Manhattan Bridge\"\n",
    "features = [\"Queensboro Bridge\"]\n",
    "label_y = \"Manhattan Bridge\"\n",
    "confg_train = [0.03, 100]\n",
    "theta_optimum, train_x_scaler, train_y_scaler, y_predict, test_x_scaler,test_y_scaler= experiment(\n",
    "    df, confg_train, features, label_y, percentage_test=0.5\n",
    ")"
   ]
  },
  {
   "cell_type": "code",
   "execution_count": 63,
   "id": "407469da",
   "metadata": {},
   "outputs": [
    {
     "data": {
      "image/png": "[encoded data removed]",
      "text/plain": [
       "<Figure size 432x288 with 1 Axes>"
      ]
     },
     "metadata": {
      "needs_background": "light"
     },
     "output_type": "display_data"
    }
   ],
   "source": [
    "ploteo(train_x_scaler,train_y_scaler,y_predict,theta_optimum,features,label_y)"
   ]
  }
 ],
 "metadata": {
  "kernelspec": {
   "display_name": "Python 3 (ipykernel)",
   "language": "python",
   "name": "python3"
  },
  "language_info": {
   "codemirror_mode": {
    "name": "ipython",
    "version": 3
   },
   "file_extension": ".py",
   "mimetype": "text/x-python",
   "name": "python",
   "nbconvert_exporter": "python",
   "pygments_lexer": "ipython3",
   "version": "3.8.12"
  }
 },
 "nbformat": 4,
 "nbformat_minor": 5
}
